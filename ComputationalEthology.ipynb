{
  "nbformat": 4,
  "nbformat_minor": 0,
  "metadata": {
    "colab": {
      "provenance": [],
      "gpuType": "T4"
    },
    "kernelspec": {
      "name": "python3",
      "display_name": "Python 3"
    },
    "language_info": {
      "name": "python"
    },
    "accelerator": "GPU"
  },
  "cells": [
    {
      "cell_type": "markdown",
      "source": [
        "<a target=\"_blank\" href=\"https://colab.research.google.com/github/tlancaster6/DLC_Demo/blob/main/ComputationalEthology.ipynb\">\n",
        "  <img src=\"https://colab.research.google.com/assets/colab-badge.svg\" alt=\"Open In Colab\"/>\n",
        "</a>"
      ],
      "metadata": {
        "id": "S1r0ArO_ecpH"
      }
    },
    {
      "cell_type": "markdown",
      "source": [
        "Install DeepLabCut and a compatible CUDA version"
      ],
      "metadata": {
        "id": "tRZfibvwL2s5"
      }
    },
    {
      "cell_type": "code",
      "execution_count": 1,
      "metadata": {
        "id": "aPRvVJN92mwA",
        "colab": {
          "base_uri": "https://localhost:8080/"
        },
        "outputId": "92c9298b-1daf-41eb-d70d-8722bdc388bd"
      },
      "outputs": [
        {
          "output_type": "stream",
          "name": "stdout",
          "text": [
            "\u001b[33m\r0% [Working]\u001b[0m\r            \rHit:1 https://cloud.r-project.org/bin/linux/ubuntu jammy-cran40/ InRelease\n",
            "Hit:2 https://developer.download.nvidia.com/compute/cuda/repos/ubuntu2204/x86_64  InRelease\n",
            "Hit:3 http://archive.ubuntu.com/ubuntu jammy InRelease\n",
            "Hit:4 http://archive.ubuntu.com/ubuntu jammy-updates InRelease\n",
            "Get:5 http://security.ubuntu.com/ubuntu jammy-security InRelease [110 kB]\n",
            "Hit:6 http://archive.ubuntu.com/ubuntu jammy-backports InRelease\n",
            "Hit:7 https://ppa.launchpadcontent.net/c2d4u.team/c2d4u4.0+/ubuntu jammy InRelease\n",
            "Hit:8 https://ppa.launchpadcontent.net/deadsnakes/ppa/ubuntu jammy InRelease\n",
            "Hit:9 https://ppa.launchpadcontent.net/graphics-drivers/ppa/ubuntu jammy InRelease\n",
            "Hit:10 https://ppa.launchpadcontent.net/ubuntugis/ppa/ubuntu jammy InRelease\n",
            "Fetched 110 kB in 2s (49.4 kB/s)\n",
            "Reading package lists... Done\n",
            "Building dependency tree... Done\n",
            "Reading state information... Done\n",
            "45 packages can be upgraded. Run 'apt list --upgradable' to see them.\n",
            "Reading package lists... Done\n",
            "Building dependency tree... Done\n",
            "Reading state information... Done\n",
            "cuda-11-8 is already the newest version (11.8.0-1).\n",
            "0 upgraded, 0 newly installed, 0 to remove and 45 not upgraded.\n",
            "Requirement already satisfied: deeplabcut[tf] in /usr/local/lib/python3.10/dist-packages (2.3.9)\n",
            "Requirement already satisfied: dlclibrary>=0.0.6 in /usr/local/lib/python3.10/dist-packages (from deeplabcut[tf]) (0.0.6)\n",
            "Requirement already satisfied: filterpy>=1.4.4 in /usr/local/lib/python3.10/dist-packages (from deeplabcut[tf]) (1.4.5)\n",
            "Requirement already satisfied: ruamel.yaml>=0.15.0 in /usr/local/lib/python3.10/dist-packages (from deeplabcut[tf]) (0.18.6)\n",
            "Requirement already satisfied: imgaug>=0.4.0 in /usr/local/lib/python3.10/dist-packages (from deeplabcut[tf]) (0.4.0)\n",
            "Requirement already satisfied: imageio-ffmpeg in /usr/local/lib/python3.10/dist-packages (from deeplabcut[tf]) (0.4.9)\n",
            "Requirement already satisfied: numba>=0.54 in /usr/local/lib/python3.10/dist-packages (from deeplabcut[tf]) (0.58.1)\n",
            "Requirement already satisfied: matplotlib!=3.7.0,!=3.7.1,>=3.3 in /usr/local/lib/python3.10/dist-packages (from deeplabcut[tf]) (3.8.4)\n",
            "Requirement already satisfied: networkx>=2.6 in /usr/local/lib/python3.10/dist-packages (from deeplabcut[tf]) (3.3)\n",
            "Requirement already satisfied: numpy>=1.18.5 in /usr/local/lib/python3.10/dist-packages (from deeplabcut[tf]) (1.25.2)\n",
            "Requirement already satisfied: pandas!=1.5.0,>=1.0.1 in /usr/local/lib/python3.10/dist-packages (from deeplabcut[tf]) (2.0.3)\n",
            "Requirement already satisfied: scikit-image>=0.17 in /usr/local/lib/python3.10/dist-packages (from deeplabcut[tf]) (0.19.3)\n",
            "Requirement already satisfied: scikit-learn>=1.0 in /usr/local/lib/python3.10/dist-packages (from deeplabcut[tf]) (1.2.2)\n",
            "Requirement already satisfied: scipy>=1.9 in /usr/local/lib/python3.10/dist-packages (from deeplabcut[tf]) (1.11.4)\n",
            "Requirement already satisfied: statsmodels>=0.11 in /usr/local/lib/python3.10/dist-packages (from deeplabcut[tf]) (0.14.2)\n",
            "Requirement already satisfied: tables>=3.7.0 in /usr/local/lib/python3.10/dist-packages (from deeplabcut[tf]) (3.8.0)\n",
            "Requirement already satisfied: torch<=1.12 in /usr/local/lib/python3.10/dist-packages (from deeplabcut[tf]) (1.12.0)\n",
            "Requirement already satisfied: tensorpack>=0.11 in /usr/local/lib/python3.10/dist-packages (from deeplabcut[tf]) (0.11)\n",
            "Requirement already satisfied: tf-slim>=1.1.0 in /usr/local/lib/python3.10/dist-packages (from deeplabcut[tf]) (1.1.0)\n",
            "Requirement already satisfied: tqdm in /usr/local/lib/python3.10/dist-packages (from deeplabcut[tf]) (4.66.4)\n",
            "Requirement already satisfied: pyyaml in /usr/local/lib/python3.10/dist-packages (from deeplabcut[tf]) (6.0.1)\n",
            "Requirement already satisfied: Pillow>=7.1 in /usr/local/lib/python3.10/dist-packages (from deeplabcut[tf]) (9.4.0)\n",
            "Requirement already satisfied: tensorflow<=2.10,>=2.0 in /usr/local/lib/python3.10/dist-packages (from deeplabcut[tf]) (2.10.0)\n",
            "Requirement already satisfied: huggingface-hub in /usr/local/lib/python3.10/dist-packages (from dlclibrary>=0.0.6->deeplabcut[tf]) (0.20.3)\n",
            "Requirement already satisfied: six in /usr/local/lib/python3.10/dist-packages (from imgaug>=0.4.0->deeplabcut[tf]) (1.16.0)\n",
            "Requirement already satisfied: opencv-python in /usr/local/lib/python3.10/dist-packages (from imgaug>=0.4.0->deeplabcut[tf]) (4.8.0.76)\n",
            "Requirement already satisfied: imageio in /usr/local/lib/python3.10/dist-packages (from imgaug>=0.4.0->deeplabcut[tf]) (2.31.6)\n",
            "Requirement already satisfied: Shapely in /usr/local/lib/python3.10/dist-packages (from imgaug>=0.4.0->deeplabcut[tf]) (2.0.4)\n",
            "Requirement already satisfied: contourpy>=1.0.1 in /usr/local/lib/python3.10/dist-packages (from matplotlib!=3.7.0,!=3.7.1,>=3.3->deeplabcut[tf]) (1.2.1)\n",
            "Requirement already satisfied: cycler>=0.10 in /usr/local/lib/python3.10/dist-packages (from matplotlib!=3.7.0,!=3.7.1,>=3.3->deeplabcut[tf]) (0.12.1)\n",
            "Requirement already satisfied: fonttools>=4.22.0 in /usr/local/lib/python3.10/dist-packages (from matplotlib!=3.7.0,!=3.7.1,>=3.3->deeplabcut[tf]) (4.51.0)\n",
            "Requirement already satisfied: kiwisolver>=1.3.1 in /usr/local/lib/python3.10/dist-packages (from matplotlib!=3.7.0,!=3.7.1,>=3.3->deeplabcut[tf]) (1.4.5)\n",
            "Requirement already satisfied: packaging>=20.0 in /usr/local/lib/python3.10/dist-packages (from matplotlib!=3.7.0,!=3.7.1,>=3.3->deeplabcut[tf]) (24.0)\n",
            "Requirement already satisfied: pyparsing>=2.3.1 in /usr/local/lib/python3.10/dist-packages (from matplotlib!=3.7.0,!=3.7.1,>=3.3->deeplabcut[tf]) (3.1.2)\n",
            "Requirement already satisfied: python-dateutil>=2.7 in /usr/local/lib/python3.10/dist-packages (from matplotlib!=3.7.0,!=3.7.1,>=3.3->deeplabcut[tf]) (2.8.2)\n",
            "Requirement already satisfied: llvmlite<0.42,>=0.41.0dev0 in /usr/local/lib/python3.10/dist-packages (from numba>=0.54->deeplabcut[tf]) (0.41.1)\n",
            "Requirement already satisfied: pytz>=2020.1 in /usr/local/lib/python3.10/dist-packages (from pandas!=1.5.0,>=1.0.1->deeplabcut[tf]) (2023.4)\n",
            "Requirement already satisfied: tzdata>=2022.1 in /usr/local/lib/python3.10/dist-packages (from pandas!=1.5.0,>=1.0.1->deeplabcut[tf]) (2024.1)\n",
            "Requirement already satisfied: ruamel.yaml.clib>=0.2.7 in /usr/local/lib/python3.10/dist-packages (from ruamel.yaml>=0.15.0->deeplabcut[tf]) (0.2.8)\n",
            "Requirement already satisfied: tifffile>=2019.7.26 in /usr/local/lib/python3.10/dist-packages (from scikit-image>=0.17->deeplabcut[tf]) (2024.4.24)\n",
            "Requirement already satisfied: PyWavelets>=1.1.1 in /usr/local/lib/python3.10/dist-packages (from scikit-image>=0.17->deeplabcut[tf]) (1.6.0)\n",
            "Requirement already satisfied: joblib>=1.1.1 in /usr/local/lib/python3.10/dist-packages (from scikit-learn>=1.0->deeplabcut[tf]) (1.4.2)\n",
            "Requirement already satisfied: threadpoolctl>=2.0.0 in /usr/local/lib/python3.10/dist-packages (from scikit-learn>=1.0->deeplabcut[tf]) (3.5.0)\n",
            "Requirement already satisfied: patsy>=0.5.6 in /usr/local/lib/python3.10/dist-packages (from statsmodels>=0.11->deeplabcut[tf]) (0.5.6)\n",
            "Requirement already satisfied: cython>=0.29.21 in /usr/local/lib/python3.10/dist-packages (from tables>=3.7.0->deeplabcut[tf]) (3.0.10)\n",
            "Requirement already satisfied: numexpr>=2.6.2 in /usr/local/lib/python3.10/dist-packages (from tables>=3.7.0->deeplabcut[tf]) (2.10.0)\n",
            "Requirement already satisfied: blosc2~=2.0.0 in /usr/local/lib/python3.10/dist-packages (from tables>=3.7.0->deeplabcut[tf]) (2.0.0)\n",
            "Requirement already satisfied: py-cpuinfo in /usr/local/lib/python3.10/dist-packages (from tables>=3.7.0->deeplabcut[tf]) (9.0.0)\n",
            "Requirement already satisfied: absl-py>=1.0.0 in /usr/local/lib/python3.10/dist-packages (from tensorflow<=2.10,>=2.0->deeplabcut[tf]) (1.4.0)\n",
            "Requirement already satisfied: astunparse>=1.6.0 in /usr/local/lib/python3.10/dist-packages (from tensorflow<=2.10,>=2.0->deeplabcut[tf]) (1.6.3)\n",
            "Requirement already satisfied: flatbuffers>=2.0 in /usr/local/lib/python3.10/dist-packages (from tensorflow<=2.10,>=2.0->deeplabcut[tf]) (24.3.25)\n",
            "Requirement already satisfied: gast<=0.4.0,>=0.2.1 in /usr/local/lib/python3.10/dist-packages (from tensorflow<=2.10,>=2.0->deeplabcut[tf]) (0.4.0)\n",
            "Requirement already satisfied: google-pasta>=0.1.1 in /usr/local/lib/python3.10/dist-packages (from tensorflow<=2.10,>=2.0->deeplabcut[tf]) (0.2.0)\n",
            "Requirement already satisfied: grpcio<2.0,>=1.24.3 in /usr/local/lib/python3.10/dist-packages (from tensorflow<=2.10,>=2.0->deeplabcut[tf]) (1.63.0)\n",
            "Requirement already satisfied: h5py>=2.9.0 in /usr/local/lib/python3.10/dist-packages (from tensorflow<=2.10,>=2.0->deeplabcut[tf]) (3.9.0)\n",
            "Requirement already satisfied: keras<2.11,>=2.10.0 in /usr/local/lib/python3.10/dist-packages (from tensorflow<=2.10,>=2.0->deeplabcut[tf]) (2.10.0)\n",
            "Requirement already satisfied: keras-preprocessing>=1.1.1 in /usr/local/lib/python3.10/dist-packages (from tensorflow<=2.10,>=2.0->deeplabcut[tf]) (1.1.2)\n",
            "Requirement already satisfied: libclang>=13.0.0 in /usr/local/lib/python3.10/dist-packages (from tensorflow<=2.10,>=2.0->deeplabcut[tf]) (18.1.1)\n",
            "Requirement already satisfied: opt-einsum>=2.3.2 in /usr/local/lib/python3.10/dist-packages (from tensorflow<=2.10,>=2.0->deeplabcut[tf]) (3.3.0)\n",
            "Requirement already satisfied: protobuf<3.20,>=3.9.2 in /usr/local/lib/python3.10/dist-packages (from tensorflow<=2.10,>=2.0->deeplabcut[tf]) (3.19.6)\n",
            "Requirement already satisfied: setuptools in /usr/local/lib/python3.10/dist-packages (from tensorflow<=2.10,>=2.0->deeplabcut[tf]) (67.7.2)\n",
            "Requirement already satisfied: tensorboard<2.11,>=2.10 in /usr/local/lib/python3.10/dist-packages (from tensorflow<=2.10,>=2.0->deeplabcut[tf]) (2.10.1)\n",
            "Requirement already satisfied: tensorflow-io-gcs-filesystem>=0.23.1 in /usr/local/lib/python3.10/dist-packages (from tensorflow<=2.10,>=2.0->deeplabcut[tf]) (0.37.0)\n",
            "Requirement already satisfied: tensorflow-estimator<2.11,>=2.10.0 in /usr/local/lib/python3.10/dist-packages (from tensorflow<=2.10,>=2.0->deeplabcut[tf]) (2.10.0)\n",
            "Requirement already satisfied: termcolor>=1.1.0 in /usr/local/lib/python3.10/dist-packages (from tensorflow<=2.10,>=2.0->deeplabcut[tf]) (2.4.0)\n",
            "Requirement already satisfied: typing-extensions>=3.6.6 in /usr/local/lib/python3.10/dist-packages (from tensorflow<=2.10,>=2.0->deeplabcut[tf]) (4.11.0)\n",
            "Requirement already satisfied: wrapt>=1.11.0 in /usr/local/lib/python3.10/dist-packages (from tensorflow<=2.10,>=2.0->deeplabcut[tf]) (1.14.1)\n",
            "Requirement already satisfied: tabulate>=0.7.7 in /usr/local/lib/python3.10/dist-packages (from tensorpack>=0.11->deeplabcut[tf]) (0.9.0)\n",
            "Requirement already satisfied: msgpack>=0.5.2 in /usr/local/lib/python3.10/dist-packages (from tensorpack>=0.11->deeplabcut[tf]) (1.0.8)\n",
            "Requirement already satisfied: msgpack-numpy>=0.4.4.2 in /usr/local/lib/python3.10/dist-packages (from tensorpack>=0.11->deeplabcut[tf]) (0.4.8)\n",
            "Requirement already satisfied: pyzmq>=16 in /usr/local/lib/python3.10/dist-packages (from tensorpack>=0.11->deeplabcut[tf]) (24.0.1)\n",
            "Requirement already satisfied: psutil>=5 in /usr/local/lib/python3.10/dist-packages (from tensorpack>=0.11->deeplabcut[tf]) (5.9.5)\n",
            "Requirement already satisfied: wheel<1.0,>=0.23.0 in /usr/local/lib/python3.10/dist-packages (from astunparse>=1.6.0->tensorflow<=2.10,>=2.0->deeplabcut[tf]) (0.43.0)\n",
            "Requirement already satisfied: google-auth<3,>=1.6.3 in /usr/local/lib/python3.10/dist-packages (from tensorboard<2.11,>=2.10->tensorflow<=2.10,>=2.0->deeplabcut[tf]) (2.27.0)\n",
            "Requirement already satisfied: google-auth-oauthlib<0.5,>=0.4.1 in /usr/local/lib/python3.10/dist-packages (from tensorboard<2.11,>=2.10->tensorflow<=2.10,>=2.0->deeplabcut[tf]) (0.4.6)\n",
            "Requirement already satisfied: markdown>=2.6.8 in /usr/local/lib/python3.10/dist-packages (from tensorboard<2.11,>=2.10->tensorflow<=2.10,>=2.0->deeplabcut[tf]) (3.6)\n",
            "Requirement already satisfied: requests<3,>=2.21.0 in /usr/local/lib/python3.10/dist-packages (from tensorboard<2.11,>=2.10->tensorflow<=2.10,>=2.0->deeplabcut[tf]) (2.31.0)\n",
            "Requirement already satisfied: tensorboard-data-server<0.7.0,>=0.6.0 in /usr/local/lib/python3.10/dist-packages (from tensorboard<2.11,>=2.10->tensorflow<=2.10,>=2.0->deeplabcut[tf]) (0.6.1)\n",
            "Requirement already satisfied: tensorboard-plugin-wit>=1.6.0 in /usr/local/lib/python3.10/dist-packages (from tensorboard<2.11,>=2.10->tensorflow<=2.10,>=2.0->deeplabcut[tf]) (1.8.1)\n",
            "Requirement already satisfied: werkzeug>=1.0.1 in /usr/local/lib/python3.10/dist-packages (from tensorboard<2.11,>=2.10->tensorflow<=2.10,>=2.0->deeplabcut[tf]) (3.0.2)\n",
            "Requirement already satisfied: filelock in /usr/local/lib/python3.10/dist-packages (from huggingface-hub->dlclibrary>=0.0.6->deeplabcut[tf]) (3.14.0)\n",
            "Requirement already satisfied: fsspec>=2023.5.0 in /usr/local/lib/python3.10/dist-packages (from huggingface-hub->dlclibrary>=0.0.6->deeplabcut[tf]) (2023.6.0)\n",
            "Requirement already satisfied: cachetools<6.0,>=2.0.0 in /usr/local/lib/python3.10/dist-packages (from google-auth<3,>=1.6.3->tensorboard<2.11,>=2.10->tensorflow<=2.10,>=2.0->deeplabcut[tf]) (5.3.3)\n",
            "Requirement already satisfied: pyasn1-modules>=0.2.1 in /usr/local/lib/python3.10/dist-packages (from google-auth<3,>=1.6.3->tensorboard<2.11,>=2.10->tensorflow<=2.10,>=2.0->deeplabcut[tf]) (0.4.0)\n",
            "Requirement already satisfied: rsa<5,>=3.1.4 in /usr/local/lib/python3.10/dist-packages (from google-auth<3,>=1.6.3->tensorboard<2.11,>=2.10->tensorflow<=2.10,>=2.0->deeplabcut[tf]) (4.9)\n",
            "Requirement already satisfied: requests-oauthlib>=0.7.0 in /usr/local/lib/python3.10/dist-packages (from google-auth-oauthlib<0.5,>=0.4.1->tensorboard<2.11,>=2.10->tensorflow<=2.10,>=2.0->deeplabcut[tf]) (1.3.1)\n",
            "Requirement already satisfied: charset-normalizer<4,>=2 in /usr/local/lib/python3.10/dist-packages (from requests<3,>=2.21.0->tensorboard<2.11,>=2.10->tensorflow<=2.10,>=2.0->deeplabcut[tf]) (3.3.2)\n",
            "Requirement already satisfied: idna<4,>=2.5 in /usr/local/lib/python3.10/dist-packages (from requests<3,>=2.21.0->tensorboard<2.11,>=2.10->tensorflow<=2.10,>=2.0->deeplabcut[tf]) (3.7)\n",
            "Requirement already satisfied: urllib3<3,>=1.21.1 in /usr/local/lib/python3.10/dist-packages (from requests<3,>=2.21.0->tensorboard<2.11,>=2.10->tensorflow<=2.10,>=2.0->deeplabcut[tf]) (2.0.7)\n",
            "Requirement already satisfied: certifi>=2017.4.17 in /usr/local/lib/python3.10/dist-packages (from requests<3,>=2.21.0->tensorboard<2.11,>=2.10->tensorflow<=2.10,>=2.0->deeplabcut[tf]) (2024.2.2)\n",
            "Requirement already satisfied: MarkupSafe>=2.1.1 in /usr/local/lib/python3.10/dist-packages (from werkzeug>=1.0.1->tensorboard<2.11,>=2.10->tensorflow<=2.10,>=2.0->deeplabcut[tf]) (2.1.5)\n",
            "Requirement already satisfied: pyasn1<0.7.0,>=0.4.6 in /usr/local/lib/python3.10/dist-packages (from pyasn1-modules>=0.2.1->google-auth<3,>=1.6.3->tensorboard<2.11,>=2.10->tensorflow<=2.10,>=2.0->deeplabcut[tf]) (0.6.0)\n",
            "Requirement already satisfied: oauthlib>=3.0.0 in /usr/local/lib/python3.10/dist-packages (from requests-oauthlib>=0.7.0->google-auth-oauthlib<0.5,>=0.4.1->tensorboard<2.11,>=2.10->tensorflow<=2.10,>=2.0->deeplabcut[tf]) (3.2.2)\n"
          ]
        }
      ],
      "source": [
        "# Install DeepLabCut\n",
        "!apt update && apt install cuda-11-8\n",
        "!pip install \"deeplabcut[tf]\""
      ]
    },
    {
      "cell_type": "markdown",
      "source": [
        "Import the required libraries"
      ],
      "metadata": {
        "id": "j6XMQTeTCSzk"
      }
    },
    {
      "cell_type": "code",
      "source": [
        "import deeplabcut\n",
        "import pandas as pd\n",
        "import numpy as np\n",
        "import time\n",
        "import seaborn as sns"
      ],
      "metadata": {
        "colab": {
          "base_uri": "https://localhost:8080/"
        },
        "id": "uNrAR8bw7e7Y",
        "outputId": "d886a24a-7533-4d18-b1c4-66dde6bc9efb"
      },
      "execution_count": 2,
      "outputs": [
        {
          "output_type": "stream",
          "name": "stdout",
          "text": [
            "Loading DLC 2.3.9...\n",
            "DLC loaded in light mode; you cannot use any GUI (labeling, relabeling and standalone GUI)\n"
          ]
        }
      ]
    },
    {
      "cell_type": "markdown",
      "source": [
        "Double Check that the GPU is working"
      ],
      "metadata": {
        "id": "B18wQAY7L9-S"
      }
    },
    {
      "cell_type": "code",
      "source": [
        "from tensorflow.test import is_gpu_available\n",
        "print(f'GPU available: {is_gpu_available()}')"
      ],
      "metadata": {
        "colab": {
          "base_uri": "https://localhost:8080/"
        },
        "id": "ZmIsuXJVLEhx",
        "outputId": "21144e30-81a4-444b-8d8d-fc39d1e5be1e"
      },
      "execution_count": 3,
      "outputs": [
        {
          "output_type": "stream",
          "name": "stdout",
          "text": [
            "GPU available: True\n"
          ]
        }
      ]
    },
    {
      "cell_type": "markdown",
      "source": [
        "Clone the sample data from github and move into the newly-created directory"
      ],
      "metadata": {
        "id": "d9O7VwSiCViY"
      }
    },
    {
      "cell_type": "code",
      "source": [
        "!git clone https://github.com/tlancaster6/DLC_Demo DLC_demo_data\n",
        "%cd /content/DLC_demo_data\n"
      ],
      "metadata": {
        "colab": {
          "base_uri": "https://localhost:8080/"
        },
        "id": "O7PpoeYR9T0G",
        "outputId": "63e76c6e-15a9-4c62-87d3-ee81f894529f"
      },
      "execution_count": 4,
      "outputs": [
        {
          "output_type": "stream",
          "name": "stdout",
          "text": [
            "Cloning into 'DLC_demo_data'...\n",
            "remote: Enumerating objects: 169, done.\u001b[K\n",
            "remote: Counting objects: 100% (101/101), done.\u001b[K\n",
            "remote: Compressing objects: 100% (94/94), done.\u001b[K\n",
            "remote: Total 169 (delta 8), reused 100 (delta 7), pack-reused 68\u001b[K\n",
            "Receiving objects: 100% (169/169), 147.04 MiB | 11.52 MiB/s, done.\n",
            "Resolving deltas: 100% (8/8), done.\n",
            "/content/DLC_demo_data\n"
          ]
        }
      ]
    },
    {
      "cell_type": "markdown",
      "source": [
        "Load demo data"
      ],
      "metadata": {
        "id": "ubbi79p81vek"
      }
    },
    {
      "cell_type": "code",
      "source": [
        "config_path = '/content/DLC_demo_data/config.yaml'\n",
        "deeplabcut.load_demo_data(config_path)"
      ],
      "metadata": {
        "colab": {
          "base_uri": "https://localhost:8080/"
        },
        "id": "zD28VfgV-jmL",
        "outputId": "b648cbfc-223e-4856-dd8c-c5673a06e3bc"
      },
      "execution_count": 5,
      "outputs": [
        {
          "output_type": "stream",
          "name": "stdout",
          "text": [
            "This is not an official demo dataset.\n",
            "Loaded, now creating training data...\n",
            "Utilizing the following graph: [[0, 1], [0, 2], [1, 2]]\n",
            "Downloading a ImageNet-pretrained model from http://download.tensorflow.org/models/resnet_v1_50_2016_08_28.tar.gz....\n",
            "Creating training data for: Shuffle: 1 TrainFraction:  0.95\n"
          ]
        },
        {
          "output_type": "stream",
          "name": "stderr",
          "text": [
            "100%|██████████| 66/66 [00:00<00:00, 2017.86it/s]"
          ]
        },
        {
          "output_type": "stream",
          "name": "stdout",
          "text": [
            "The training dataset is successfully created. Use the function 'train_network' to start training. Happy training!\n"
          ]
        },
        {
          "output_type": "stream",
          "name": "stderr",
          "text": [
            "\n"
          ]
        }
      ]
    },
    {
      "cell_type": "markdown",
      "source": [
        "Train network for 1000 iterations"
      ],
      "metadata": {
        "id": "2Wojbguc10hH"
      }
    },
    {
      "cell_type": "code",
      "source": [
        "epochs = 1000\n",
        "start = time.time()\n",
        "deeplabcut.train_network(config_path, shuffle=1, displayiters=10, saveiters=100, maxiters=epochs)\n",
        "duration = time.time() - start\n",
        "print(f'total training time: {duration} seconds')\n",
        "print(f'time per epoch: {duration/epochs} seconds')"
      ],
      "metadata": {
        "id": "yERWdXfmAVeT",
        "colab": {
          "base_uri": "https://localhost:8080/"
        },
        "outputId": "e8ae9f87-adef-491a-c11a-70afbd64d21d"
      },
      "execution_count": 6,
      "outputs": [
        {
          "output_type": "stream",
          "name": "stderr",
          "text": [
            "Config:\n",
            "{'all_joints': [[0], [1], [2]],\n",
            " 'all_joints_names': ['nose', 'dorsal_fin', 'peduncle'],\n",
            " 'alpha_r': 0.02,\n",
            " 'apply_prob': 0.5,\n",
            " 'batch_size': 8,\n",
            " 'contrast': {'clahe': True,\n",
            "              'claheratio': 0.1,\n",
            "              'histeq': True,\n",
            "              'histeqratio': 0.1},\n",
            " 'convolution': {'edge': False,\n",
            "                 'emboss': {'alpha': [0.0, 1.0], 'strength': [0.5, 1.5]},\n",
            "                 'embossratio': 0.1,\n",
            "                 'sharpen': False,\n",
            "                 'sharpenratio': 0.3},\n",
            " 'crop_pad': 0,\n",
            " 'crop_sampling': 'hybrid',\n",
            " 'crop_size': [400, 400],\n",
            " 'cropratio': 0.4,\n",
            " 'dataset': 'training-datasets/iteration-0/UnaugmentedDataSet_DLC_demoOct10/DLC_demo_Tucker95shuffle1.pickle',\n",
            " 'dataset_type': 'multi-animal-imgaug',\n",
            " 'decay_steps': 30000,\n",
            " 'deterministic': False,\n",
            " 'display_iters': 500,\n",
            " 'fg_fraction': 0.25,\n",
            " 'global_scale': 0.8,\n",
            " 'init_weights': '/usr/local/lib/python3.10/dist-packages/deeplabcut/pose_estimation_tensorflow/models/pretrained/resnet_v1_50.ckpt',\n",
            " 'intermediate_supervision': False,\n",
            " 'intermediate_supervision_layer': 12,\n",
            " 'location_refinement': True,\n",
            " 'locref_huber_loss': True,\n",
            " 'locref_loss_weight': 0.05,\n",
            " 'locref_stdev': 7.2801,\n",
            " 'log_dir': 'log',\n",
            " 'lr_init': 0.0005,\n",
            " 'max_input_size': 1500,\n",
            " 'max_shift': 0.4,\n",
            " 'mean_pixel': [123.68, 116.779, 103.939],\n",
            " 'metadataset': 'training-datasets/iteration-0/UnaugmentedDataSet_DLC_demoOct10/Documentation_data-DLC_demo_95shuffle1.pickle',\n",
            " 'min_input_size': 64,\n",
            " 'mirror': False,\n",
            " 'multi_stage': True,\n",
            " 'multi_step': [[0.0001, 7500], [5e-05, 12000], [1e-05, 200000]],\n",
            " 'net_type': 'resnet_50',\n",
            " 'num_idchannel': 2,\n",
            " 'num_joints': 3,\n",
            " 'num_limbs': 3,\n",
            " 'optimizer': 'adam',\n",
            " 'pafwidth': 20,\n",
            " 'pairwise_huber_loss': False,\n",
            " 'pairwise_loss_weight': 0.1,\n",
            " 'pairwise_predict': False,\n",
            " 'partaffinityfield_graph': [[0, 1], [0, 2], [1, 2]],\n",
            " 'partaffinityfield_predict': True,\n",
            " 'pos_dist_thresh': 17,\n",
            " 'pre_resize': [],\n",
            " 'project_path': '/content/DLC_demo_data',\n",
            " 'regularize': False,\n",
            " 'rotation': 25,\n",
            " 'rotratio': 0.4,\n",
            " 'save_iters': 10000,\n",
            " 'scale_jitter_lo': 0.5,\n",
            " 'scale_jitter_up': 1.25,\n",
            " 'scoremap_dir': 'test',\n",
            " 'shuffle': True,\n",
            " 'snapshot_prefix': '/content/DLC_demo_data/dlc-models/iteration-0/DLC_demoOct10-trainset95shuffle1/train/snapshot',\n",
            " 'stride': 8.0,\n",
            " 'weigh_negatives': False,\n",
            " 'weigh_only_present_joints': False,\n",
            " 'weigh_part_predictions': False,\n",
            " 'weight_decay': 0.0001}\n"
          ]
        },
        {
          "output_type": "stream",
          "name": "stdout",
          "text": [
            "Selecting multi-animal trainer\n",
            "Activating limb prediction...\n",
            "Batch Size is 8\n",
            "Getting specs multi-animal-imgaug 3 3\n"
          ]
        },
        {
          "output_type": "stream",
          "name": "stderr",
          "text": [
            "/usr/local/lib/python3.10/dist-packages/tensorflow/python/keras/engine/base_layer_v1.py:1694: UserWarning: `layer.apply` is deprecated and will be removed in a future version. Please use `layer.__call__` method instead.\n",
            "  warnings.warn('`layer.apply` is deprecated and '\n"
          ]
        },
        {
          "output_type": "stream",
          "name": "stdout",
          "text": [
            "Loading ImageNet-pretrained resnet_50\n",
            "Max_iters overwritten as 1000\n",
            "Display_iters overwritten as 10\n",
            "Save_iters overwritten as 100\n",
            "Training parameters:\n",
            "{'stride': 8.0, 'weigh_part_predictions': False, 'weigh_negatives': False, 'fg_fraction': 0.25, 'mean_pixel': [123.68, 116.779, 103.939], 'shuffle': True, 'snapshot_prefix': '/content/DLC_demo_data/dlc-models/iteration-0/DLC_demoOct10-trainset95shuffle1/train/snapshot', 'log_dir': 'log', 'global_scale': 0.8, 'location_refinement': True, 'locref_stdev': 7.2801, 'locref_loss_weight': 0.05, 'locref_huber_loss': True, 'optimizer': 'adam', 'intermediate_supervision': False, 'intermediate_supervision_layer': 12, 'regularize': False, 'weight_decay': 0.0001, 'crop_pad': 0, 'scoremap_dir': 'test', 'batch_size': 8, 'dataset_type': 'multi-animal-imgaug', 'deterministic': False, 'mirror': False, 'pairwise_huber_loss': False, 'weigh_only_present_joints': False, 'partaffinityfield_predict': True, 'pairwise_predict': True, 'all_joints': [[0], [1], [2]], 'all_joints_names': ['nose', 'dorsal_fin', 'peduncle'], 'alpha_r': 0.02, 'apply_prob': 0.5, 'contrast': {'clahe': True, 'claheratio': 0.1, 'histeq': True, 'histeqratio': 0.1, 'gamma': False, 'sigmoid': False, 'log': False, 'linear': False}, 'convolution': {'edge': False, 'emboss': {'alpha': [0.0, 1.0], 'strength': [0.5, 1.5]}, 'embossratio': 0.1, 'sharpen': False, 'sharpenratio': 0.3}, 'crop_sampling': 'hybrid', 'crop_size': [400, 400], 'cropratio': 0.4, 'dataset': 'training-datasets/iteration-0/UnaugmentedDataSet_DLC_demoOct10/DLC_demo_Tucker95shuffle1.pickle', 'decay_steps': 30000, 'display_iters': 500, 'init_weights': '/usr/local/lib/python3.10/dist-packages/deeplabcut/pose_estimation_tensorflow/models/pretrained/resnet_v1_50.ckpt', 'lr_init': 0.0005, 'max_input_size': 1500, 'max_shift': 0.4, 'metadataset': 'training-datasets/iteration-0/UnaugmentedDataSet_DLC_demoOct10/Documentation_data-DLC_demo_95shuffle1.pickle', 'min_input_size': 64, 'multi_stage': True, 'multi_step': [[0.0001, 7500], [5e-05, 12000], [1e-05, 200000]], 'net_type': 'resnet_50', 'num_idchannel': 2, 'num_joints': 3, 'num_limbs': 3, 'pafwidth': 20, 'pairwise_loss_weight': 0.1, 'partaffinityfield_graph': [[0, 1], [0, 2], [1, 2]], 'pos_dist_thresh': 17, 'pre_resize': [], 'project_path': '/content/DLC_demo_data', 'rotation': 25, 'rotratio': 0.4, 'save_iters': 10000, 'scale_jitter_lo': 0.5, 'scale_jitter_up': 1.25, 'pseudo_threshold': 0.1, 'video_path': '', 'traintime_resize': False}\n",
            "Starting multi-animal training....\n"
          ]
        },
        {
          "output_type": "stream",
          "name": "stderr",
          "text": [
            "iteration: 10 loss: 0.3385 scmap loss: 0.2589 locref loss: 0.0163 limb loss: 0.0633 lr: 0.0001\n",
            "iteration: 20 loss: 0.0603 scmap loss: 0.0373 locref loss: 0.0061 limb loss: 0.0169 lr: 0.0001\n",
            "iteration: 30 loss: 0.0458 scmap loss: 0.0366 locref loss: 0.0026 limb loss: 0.0066 lr: 0.0001\n",
            "iteration: 40 loss: 0.0321 scmap loss: 0.0261 locref loss: 0.0017 limb loss: 0.0042 lr: 0.0001\n",
            "iteration: 50 loss: 0.0325 scmap loss: 0.0279 locref loss: 0.0013 limb loss: 0.0032 lr: 0.0001\n",
            "iteration: 60 loss: 0.0273 scmap loss: 0.0233 locref loss: 0.0010 limb loss: 0.0030 lr: 0.0001\n",
            "iteration: 70 loss: 0.0260 scmap loss: 0.0226 locref loss: 0.0008 limb loss: 0.0025 lr: 0.0001\n",
            "iteration: 80 loss: 0.0281 scmap loss: 0.0250 locref loss: 0.0007 limb loss: 0.0023 lr: 0.0001\n",
            "iteration: 90 loss: 0.0238 scmap loss: 0.0210 locref loss: 0.0006 limb loss: 0.0022 lr: 0.0001\n",
            "iteration: 100 loss: 0.0246 scmap loss: 0.0222 locref loss: 0.0006 limb loss: 0.0018 lr: 0.0001\n",
            "iteration: 110 loss: 0.0222 scmap loss: 0.0198 locref loss: 0.0006 limb loss: 0.0019 lr: 0.0001\n",
            "iteration: 120 loss: 0.0231 scmap loss: 0.0208 locref loss: 0.0006 limb loss: 0.0017 lr: 0.0001\n",
            "iteration: 130 loss: 0.0245 scmap loss: 0.0223 locref loss: 0.0005 limb loss: 0.0017 lr: 0.0001\n",
            "iteration: 140 loss: 0.0242 scmap loss: 0.0217 locref loss: 0.0006 limb loss: 0.0019 lr: 0.0001\n",
            "iteration: 150 loss: 0.0225 scmap loss: 0.0204 locref loss: 0.0005 limb loss: 0.0017 lr: 0.0001\n",
            "iteration: 160 loss: 0.0221 scmap loss: 0.0199 locref loss: 0.0005 limb loss: 0.0018 lr: 0.0001\n",
            "iteration: 170 loss: 0.0221 scmap loss: 0.0200 locref loss: 0.0005 limb loss: 0.0016 lr: 0.0001\n",
            "iteration: 180 loss: 0.0205 scmap loss: 0.0186 locref loss: 0.0004 limb loss: 0.0014 lr: 0.0001\n",
            "iteration: 190 loss: 0.0228 scmap loss: 0.0210 locref loss: 0.0004 limb loss: 0.0014 lr: 0.0001\n",
            "iteration: 200 loss: 0.0190 scmap loss: 0.0173 locref loss: 0.0004 limb loss: 0.0013 lr: 0.0001\n",
            "iteration: 210 loss: 0.0215 scmap loss: 0.0197 locref loss: 0.0004 limb loss: 0.0014 lr: 0.0001\n",
            "iteration: 220 loss: 0.0180 scmap loss: 0.0162 locref loss: 0.0004 limb loss: 0.0015 lr: 0.0001\n",
            "iteration: 230 loss: 0.0170 scmap loss: 0.0153 locref loss: 0.0003 limb loss: 0.0014 lr: 0.0001\n",
            "iteration: 240 loss: 0.0212 scmap loss: 0.0193 locref loss: 0.0003 limb loss: 0.0016 lr: 0.0001\n",
            "iteration: 250 loss: 0.0200 scmap loss: 0.0185 locref loss: 0.0004 limb loss: 0.0011 lr: 0.0001\n",
            "iteration: 260 loss: 0.0193 scmap loss: 0.0175 locref loss: 0.0003 limb loss: 0.0014 lr: 0.0001\n",
            "iteration: 270 loss: 0.0168 scmap loss: 0.0153 locref loss: 0.0003 limb loss: 0.0012 lr: 0.0001\n",
            "iteration: 280 loss: 0.0182 scmap loss: 0.0163 locref loss: 0.0003 limb loss: 0.0015 lr: 0.0001\n",
            "iteration: 290 loss: 0.0192 scmap loss: 0.0178 locref loss: 0.0003 limb loss: 0.0011 lr: 0.0001\n",
            "iteration: 300 loss: 0.0153 scmap loss: 0.0141 locref loss: 0.0003 limb loss: 0.0009 lr: 0.0001\n",
            "iteration: 310 loss: 0.0197 scmap loss: 0.0181 locref loss: 0.0003 limb loss: 0.0013 lr: 0.0001\n",
            "iteration: 320 loss: 0.0177 scmap loss: 0.0163 locref loss: 0.0003 limb loss: 0.0011 lr: 0.0001\n",
            "iteration: 330 loss: 0.0168 scmap loss: 0.0152 locref loss: 0.0004 limb loss: 0.0013 lr: 0.0001\n",
            "iteration: 340 loss: 0.0163 scmap loss: 0.0150 locref loss: 0.0003 limb loss: 0.0010 lr: 0.0001\n",
            "iteration: 350 loss: 0.0186 scmap loss: 0.0167 locref loss: 0.0004 limb loss: 0.0016 lr: 0.0001\n",
            "iteration: 360 loss: 0.0153 scmap loss: 0.0138 locref loss: 0.0003 limb loss: 0.0012 lr: 0.0001\n",
            "iteration: 370 loss: 0.0167 scmap loss: 0.0152 locref loss: 0.0003 limb loss: 0.0012 lr: 0.0001\n",
            "iteration: 380 loss: 0.0133 scmap loss: 0.0122 locref loss: 0.0003 limb loss: 0.0008 lr: 0.0001\n",
            "iteration: 390 loss: 0.0168 scmap loss: 0.0152 locref loss: 0.0003 limb loss: 0.0012 lr: 0.0001\n",
            "iteration: 400 loss: 0.0158 scmap loss: 0.0141 locref loss: 0.0003 limb loss: 0.0013 lr: 0.0001\n",
            "iteration: 410 loss: 0.0158 scmap loss: 0.0143 locref loss: 0.0003 limb loss: 0.0012 lr: 0.0001\n",
            "iteration: 420 loss: 0.0155 scmap loss: 0.0140 locref loss: 0.0003 limb loss: 0.0012 lr: 0.0001\n",
            "iteration: 430 loss: 0.0156 scmap loss: 0.0142 locref loss: 0.0003 limb loss: 0.0011 lr: 0.0001\n",
            "iteration: 440 loss: 0.0138 scmap loss: 0.0125 locref loss: 0.0003 limb loss: 0.0010 lr: 0.0001\n",
            "iteration: 450 loss: 0.0136 scmap loss: 0.0124 locref loss: 0.0003 limb loss: 0.0009 lr: 0.0001\n",
            "iteration: 460 loss: 0.0143 scmap loss: 0.0129 locref loss: 0.0003 limb loss: 0.0010 lr: 0.0001\n",
            "iteration: 470 loss: 0.0162 scmap loss: 0.0148 locref loss: 0.0003 limb loss: 0.0011 lr: 0.0001\n",
            "iteration: 480 loss: 0.0143 scmap loss: 0.0128 locref loss: 0.0003 limb loss: 0.0011 lr: 0.0001\n",
            "iteration: 490 loss: 0.0133 scmap loss: 0.0121 locref loss: 0.0003 limb loss: 0.0010 lr: 0.0001\n",
            "iteration: 500 loss: 0.0124 scmap loss: 0.0113 locref loss: 0.0003 limb loss: 0.0009 lr: 0.0001\n",
            "iteration: 510 loss: 0.0109 scmap loss: 0.0097 locref loss: 0.0002 limb loss: 0.0009 lr: 0.0001\n",
            "iteration: 520 loss: 0.0144 scmap loss: 0.0130 locref loss: 0.0003 limb loss: 0.0011 lr: 0.0001\n",
            "iteration: 530 loss: 0.0126 scmap loss: 0.0111 locref loss: 0.0003 limb loss: 0.0012 lr: 0.0001\n",
            "iteration: 540 loss: 0.0120 scmap loss: 0.0109 locref loss: 0.0003 limb loss: 0.0009 lr: 0.0001\n",
            "iteration: 550 loss: 0.0116 scmap loss: 0.0105 locref loss: 0.0003 limb loss: 0.0009 lr: 0.0001\n",
            "iteration: 560 loss: 0.0119 scmap loss: 0.0107 locref loss: 0.0003 limb loss: 0.0009 lr: 0.0001\n",
            "iteration: 570 loss: 0.0126 scmap loss: 0.0114 locref loss: 0.0003 limb loss: 0.0009 lr: 0.0001\n",
            "iteration: 580 loss: 0.0127 scmap loss: 0.0115 locref loss: 0.0003 limb loss: 0.0009 lr: 0.0001\n",
            "iteration: 590 loss: 0.0127 scmap loss: 0.0114 locref loss: 0.0003 limb loss: 0.0010 lr: 0.0001\n",
            "iteration: 600 loss: 0.0127 scmap loss: 0.0114 locref loss: 0.0003 limb loss: 0.0010 lr: 0.0001\n",
            "iteration: 610 loss: 0.0123 scmap loss: 0.0111 locref loss: 0.0003 limb loss: 0.0010 lr: 0.0001\n",
            "iteration: 620 loss: 0.0104 scmap loss: 0.0091 locref loss: 0.0003 limb loss: 0.0010 lr: 0.0001\n",
            "iteration: 630 loss: 0.0111 scmap loss: 0.0101 locref loss: 0.0002 limb loss: 0.0008 lr: 0.0001\n",
            "iteration: 640 loss: 0.0128 scmap loss: 0.0114 locref loss: 0.0003 limb loss: 0.0011 lr: 0.0001\n",
            "iteration: 650 loss: 0.0110 scmap loss: 0.0097 locref loss: 0.0003 limb loss: 0.0009 lr: 0.0001\n",
            "iteration: 660 loss: 0.0116 scmap loss: 0.0101 locref loss: 0.0003 limb loss: 0.0011 lr: 0.0001\n",
            "iteration: 670 loss: 0.0100 scmap loss: 0.0090 locref loss: 0.0002 limb loss: 0.0007 lr: 0.0001\n",
            "iteration: 680 loss: 0.0086 scmap loss: 0.0078 locref loss: 0.0002 limb loss: 0.0006 lr: 0.0001\n",
            "iteration: 690 loss: 0.0107 scmap loss: 0.0095 locref loss: 0.0002 limb loss: 0.0010 lr: 0.0001\n",
            "iteration: 700 loss: 0.0127 scmap loss: 0.0114 locref loss: 0.0003 limb loss: 0.0010 lr: 0.0001\n",
            "iteration: 710 loss: 0.0089 scmap loss: 0.0080 locref loss: 0.0002 limb loss: 0.0006 lr: 0.0001\n",
            "iteration: 720 loss: 0.0110 scmap loss: 0.0098 locref loss: 0.0002 limb loss: 0.0009 lr: 0.0001\n",
            "iteration: 730 loss: 0.0097 scmap loss: 0.0085 locref loss: 0.0002 limb loss: 0.0009 lr: 0.0001\n",
            "iteration: 740 loss: 0.0098 scmap loss: 0.0087 locref loss: 0.0002 limb loss: 0.0009 lr: 0.0001\n",
            "iteration: 750 loss: 0.0105 scmap loss: 0.0093 locref loss: 0.0003 limb loss: 0.0009 lr: 0.0001\n",
            "iteration: 760 loss: 0.0102 scmap loss: 0.0089 locref loss: 0.0003 limb loss: 0.0010 lr: 0.0001\n",
            "iteration: 770 loss: 0.0098 scmap loss: 0.0088 locref loss: 0.0002 limb loss: 0.0007 lr: 0.0001\n",
            "iteration: 780 loss: 0.0122 scmap loss: 0.0109 locref loss: 0.0003 limb loss: 0.0010 lr: 0.0001\n",
            "iteration: 790 loss: 0.0080 scmap loss: 0.0071 locref loss: 0.0002 limb loss: 0.0006 lr: 0.0001\n",
            "iteration: 800 loss: 0.0116 scmap loss: 0.0104 locref loss: 0.0003 limb loss: 0.0010 lr: 0.0001\n",
            "iteration: 810 loss: 0.0086 scmap loss: 0.0076 locref loss: 0.0002 limb loss: 0.0008 lr: 0.0001\n",
            "iteration: 820 loss: 0.0089 scmap loss: 0.0078 locref loss: 0.0002 limb loss: 0.0009 lr: 0.0001\n",
            "iteration: 830 loss: 0.0082 scmap loss: 0.0073 locref loss: 0.0002 limb loss: 0.0007 lr: 0.0001\n",
            "iteration: 840 loss: 0.0086 scmap loss: 0.0077 locref loss: 0.0002 limb loss: 0.0006 lr: 0.0001\n",
            "iteration: 850 loss: 0.0089 scmap loss: 0.0080 locref loss: 0.0002 limb loss: 0.0008 lr: 0.0001\n",
            "iteration: 860 loss: 0.0088 scmap loss: 0.0077 locref loss: 0.0002 limb loss: 0.0008 lr: 0.0001\n",
            "iteration: 870 loss: 0.0101 scmap loss: 0.0089 locref loss: 0.0002 limb loss: 0.0009 lr: 0.0001\n",
            "iteration: 880 loss: 0.0090 scmap loss: 0.0080 locref loss: 0.0002 limb loss: 0.0008 lr: 0.0001\n",
            "iteration: 890 loss: 0.0073 scmap loss: 0.0065 locref loss: 0.0002 limb loss: 0.0005 lr: 0.0001\n",
            "iteration: 900 loss: 0.0076 scmap loss: 0.0069 locref loss: 0.0002 limb loss: 0.0005 lr: 0.0001\n",
            "iteration: 910 loss: 0.0102 scmap loss: 0.0092 locref loss: 0.0002 limb loss: 0.0007 lr: 0.0001\n",
            "iteration: 920 loss: 0.0076 scmap loss: 0.0068 locref loss: 0.0002 limb loss: 0.0006 lr: 0.0001\n",
            "iteration: 930 loss: 0.0075 scmap loss: 0.0065 locref loss: 0.0002 limb loss: 0.0008 lr: 0.0001\n",
            "iteration: 940 loss: 0.0093 scmap loss: 0.0084 locref loss: 0.0002 limb loss: 0.0007 lr: 0.0001\n",
            "iteration: 950 loss: 0.0096 scmap loss: 0.0083 locref loss: 0.0002 limb loss: 0.0010 lr: 0.0001\n",
            "iteration: 960 loss: 0.0080 scmap loss: 0.0071 locref loss: 0.0002 limb loss: 0.0007 lr: 0.0001\n",
            "iteration: 970 loss: 0.0079 scmap loss: 0.0070 locref loss: 0.0002 limb loss: 0.0007 lr: 0.0001\n",
            "iteration: 980 loss: 0.0089 scmap loss: 0.0080 locref loss: 0.0002 limb loss: 0.0008 lr: 0.0001\n",
            "iteration: 990 loss: 0.0092 scmap loss: 0.0082 locref loss: 0.0002 limb loss: 0.0008 lr: 0.0001\n",
            "iteration: 1000 loss: 0.0094 scmap loss: 0.0082 locref loss: 0.0002 limb loss: 0.0010 lr: 0.0001\n",
            "Exception in thread Thread-11 (load_and_enqueue):\n",
            "Traceback (most recent call last):\n",
            "  File \"/usr/lib/python3.10/threading.py\", line 1016, in _bootstrap_inner\n",
            "    self.run()\n",
            "  File \"/usr/lib/python3.10/threading.py\", line 953, in run\n",
            "    self._target(*self._args, **self._kwargs)\n",
            "  File \"/usr/local/lib/python3.10/dist-packages/deeplabcut/pose_estimation_tensorflow/core/train.py\", line 86, in load_and_enqueue\n",
            "    sess.run(enqueue_op, feed_dict=food)\n",
            "  File \"/usr/local/lib/python3.10/dist-packages/tensorflow/python/client/session.py\", line 968, in run\n",
            "    result = self._run(None, fetches, feed_dict, options_ptr,\n",
            "  File \"/usr/local/lib/python3.10/dist-packages/tensorflow/python/client/session.py\", line 1116, in _run\n",
            "    raise RuntimeError('Attempted to use a closed Session.')\n",
            "RuntimeError: Attempted to use a closed Session.\n"
          ]
        },
        {
          "output_type": "stream",
          "name": "stdout",
          "text": [
            "The network is now trained and ready to evaluate. Use the function 'evaluate_network' to evaluate the network.\n",
            "total training time: 376.4302363395691 seconds\n",
            "time per epoch: 0.37643023633956907 seconds\n"
          ]
        }
      ]
    },
    {
      "cell_type": "markdown",
      "source": [
        "Evaluate the network"
      ],
      "metadata": {
        "id": "r90MP7vc00yB"
      }
    },
    {
      "cell_type": "code",
      "source": [
        "deeplabcut.evaluate_network(config_path, Shuffles=[1])"
      ],
      "metadata": {
        "colab": {
          "base_uri": "https://localhost:8080/"
        },
        "id": "cnWa18_Z0zHI",
        "outputId": "42070e77-5820-4a79-99af-135c3c8fd4cd"
      },
      "execution_count": 7,
      "outputs": [
        {
          "output_type": "stream",
          "name": "stderr",
          "text": [
            "Config:\n",
            "{'all_joints': [[0], [1], [2]],\n",
            " 'all_joints_names': ['nose', 'dorsal_fin', 'peduncle'],\n",
            " 'batch_size': 1,\n",
            " 'crop_pad': 0,\n",
            " 'dataset': 'training-datasets/iteration-0/UnaugmentedDataSet_DLC_demoOct10/DLC_demo_Tucker95shuffle1.pickle',\n",
            " 'dataset_type': 'multi-animal-imgaug',\n",
            " 'deterministic': False,\n",
            " 'fg_fraction': 0.25,\n",
            " 'global_scale': 0.8,\n",
            " 'init_weights': '/usr/local/lib/python3.10/dist-packages/deeplabcut/pose_estimation_tensorflow/models/pretrained/resnet_v1_50.ckpt',\n",
            " 'intermediate_supervision': False,\n",
            " 'intermediate_supervision_layer': 12,\n",
            " 'location_refinement': True,\n",
            " 'locref_huber_loss': True,\n",
            " 'locref_loss_weight': 1.0,\n",
            " 'locref_smooth': False,\n",
            " 'locref_stdev': 7.2801,\n",
            " 'log_dir': 'log',\n",
            " 'mean_pixel': [123.68, 116.779, 103.939],\n",
            " 'minconfidence': 0.01,\n",
            " 'mirror': False,\n",
            " 'multi_stage': True,\n",
            " 'net_type': 'resnet_50',\n",
            " 'nmsradius': 5.0,\n",
            " 'num_idchannel': 2,\n",
            " 'num_joints': 3,\n",
            " 'num_limbs': 3,\n",
            " 'optimizer': 'sgd',\n",
            " 'pairwise_huber_loss': True,\n",
            " 'pairwise_predict': False,\n",
            " 'partaffinityfield_graph': [[0, 1], [0, 2], [1, 2]],\n",
            " 'partaffinityfield_predict': True,\n",
            " 'regularize': False,\n",
            " 'scoremap_dir': 'test',\n",
            " 'shuffle': True,\n",
            " 'sigma': 1,\n",
            " 'snapshot_prefix': '/content/DLC_demo_data/dlc-models/iteration-0/DLC_demoOct10-trainset95shuffle1/test/snapshot',\n",
            " 'stride': 8.0,\n",
            " 'weigh_negatives': False,\n",
            " 'weigh_only_present_joints': False,\n",
            " 'weigh_part_predictions': False,\n",
            " 'weight_decay': 0.0001}\n",
            "Config:\n",
            "{'all_joints': [[0], [1], [2]],\n",
            " 'all_joints_names': ['nose', 'dorsal_fin', 'peduncle'],\n",
            " 'alpha_r': 0.02,\n",
            " 'apply_prob': 0.5,\n",
            " 'batch_size': 8,\n",
            " 'contrast': {'clahe': True,\n",
            "              'claheratio': 0.1,\n",
            "              'histeq': True,\n",
            "              'histeqratio': 0.1},\n",
            " 'convolution': {'edge': False,\n",
            "                 'emboss': {'alpha': [0.0, 1.0], 'strength': [0.5, 1.5]},\n",
            "                 'embossratio': 0.1,\n",
            "                 'sharpen': False,\n",
            "                 'sharpenratio': 0.3},\n",
            " 'crop_pad': 0,\n",
            " 'crop_sampling': 'hybrid',\n",
            " 'crop_size': [400, 400],\n",
            " 'cropratio': 0.4,\n",
            " 'dataset': 'training-datasets/iteration-0/UnaugmentedDataSet_DLC_demoOct10/DLC_demo_Tucker95shuffle1.pickle',\n",
            " 'dataset_type': 'multi-animal-imgaug',\n",
            " 'decay_steps': 30000,\n",
            " 'deterministic': False,\n",
            " 'display_iters': 500,\n",
            " 'fg_fraction': 0.25,\n",
            " 'global_scale': 0.8,\n",
            " 'init_weights': '/usr/local/lib/python3.10/dist-packages/deeplabcut/pose_estimation_tensorflow/models/pretrained/resnet_v1_50.ckpt',\n",
            " 'intermediate_supervision': False,\n",
            " 'intermediate_supervision_layer': 12,\n",
            " 'location_refinement': True,\n",
            " 'locref_huber_loss': True,\n",
            " 'locref_loss_weight': 0.05,\n",
            " 'locref_stdev': 7.2801,\n",
            " 'log_dir': 'log',\n",
            " 'lr_init': 0.0005,\n",
            " 'max_input_size': 1500,\n",
            " 'max_shift': 0.4,\n",
            " 'mean_pixel': [123.68, 116.779, 103.939],\n",
            " 'metadataset': 'training-datasets/iteration-0/UnaugmentedDataSet_DLC_demoOct10/Documentation_data-DLC_demo_95shuffle1.pickle',\n",
            " 'min_input_size': 64,\n",
            " 'mirror': False,\n",
            " 'multi_stage': True,\n",
            " 'multi_step': [[0.0001, 7500], [5e-05, 12000], [1e-05, 200000]],\n",
            " 'net_type': 'resnet_50',\n",
            " 'num_idchannel': 2,\n",
            " 'num_joints': 3,\n",
            " 'num_limbs': 3,\n",
            " 'optimizer': 'adam',\n",
            " 'pafwidth': 20,\n",
            " 'pairwise_huber_loss': False,\n",
            " 'pairwise_loss_weight': 0.1,\n",
            " 'pairwise_predict': False,\n",
            " 'partaffinityfield_graph': [[0, 1], [0, 2], [1, 2]],\n",
            " 'partaffinityfield_predict': True,\n",
            " 'pos_dist_thresh': 17,\n",
            " 'pre_resize': [],\n",
            " 'project_path': '/content/DLC_demo_data',\n",
            " 'regularize': False,\n",
            " 'rotation': 25,\n",
            " 'rotratio': 0.4,\n",
            " 'save_iters': 10000,\n",
            " 'scale_jitter_lo': 0.5,\n",
            " 'scale_jitter_up': 1.25,\n",
            " 'scoremap_dir': 'test',\n",
            " 'shuffle': True,\n",
            " 'snapshot_prefix': '/content/DLC_demo_data/dlc-models/iteration-0/DLC_demoOct10-trainset95shuffle1/train/snapshot',\n",
            " 'stride': 8.0,\n",
            " 'weigh_negatives': False,\n",
            " 'weigh_only_present_joints': False,\n",
            " 'weigh_part_predictions': False,\n",
            " 'weight_decay': 0.0001}\n"
          ]
        },
        {
          "output_type": "stream",
          "name": "stdout",
          "text": [
            "Running  DLC_dlcrnetms5_DLC_demoOct10shuffle1_1000  with # of trainingiterations: 1000\n"
          ]
        },
        {
          "output_type": "stream",
          "name": "stderr",
          "text": [
            "/usr/local/lib/python3.10/dist-packages/tensorflow/python/keras/engine/base_layer_v1.py:1694: UserWarning: `layer.apply` is deprecated and will be removed in a future version. Please use `layer.__call__` method instead.\n",
            "  warnings.warn('`layer.apply` is deprecated and '\n"
          ]
        },
        {
          "output_type": "stream",
          "name": "stdout",
          "text": [
            "Activating extracting of PAFs\n",
            "Network Evaluation underway...\n"
          ]
        },
        {
          "output_type": "stream",
          "name": "stderr",
          "text": [
            "70it [00:07,  9.33it/s]\n"
          ]
        },
        {
          "output_type": "stream",
          "name": "stdout",
          "text": [
            "Results for 1000 training iterations, training fraction of 95, and shuffle 1:\n",
            "Train error: 3.98 pixels. Test error: 10.74 pixels.\n",
            "With pcutoff of 0.6:\n",
            "Train error: 3.91 pixels. Test error: 5.24 pixels.\n",
            "##########################################\n",
            "Average Euclidean distance to GT per individual (in pixels; test-only)\n",
            "individuals\n",
            "female    5.528787\n",
            "male      5.250036\n",
            "Average Euclidean distance to GT per bodypart (in pixels; test-only)\n",
            "bodyparts\n",
            "dorsal_fin    7.921386\n",
            "nose          2.973210\n",
            "peduncle      6.510622\n",
            "Done and results stored for snapshot:  snapshot-1000\n",
            "Selecting best skeleton...\n",
            "Graph 1|2\n"
          ]
        },
        {
          "output_type": "stream",
          "name": "stderr",
          "text": [
            "100%|██████████| 70/70 [00:00<00:00, 807.51it/s]\n",
            "100%|██████████| 66/66 [00:00<00:00, 1277.05it/s]\n",
            "100%|██████████| 4/4 [00:00<00:00, 2082.57it/s]\n",
            "100%|██████████| 70/70 [00:00<00:00, 2020.32it/s]"
          ]
        },
        {
          "output_type": "stream",
          "name": "stdout",
          "text": [
            "Graph 2|2\n"
          ]
        },
        {
          "output_type": "stream",
          "name": "stderr",
          "text": [
            "\n",
            "100%|██████████| 70/70 [00:00<00:00, 824.73it/s]\n",
            "100%|██████████| 66/66 [00:00<00:00, 1658.58it/s]\n",
            "100%|██████████| 4/4 [00:00<00:00, 1028.77it/s]\n",
            "100%|██████████| 70/70 [00:00<00:00, 2028.33it/s]\n"
          ]
        }
      ]
    },
    {
      "cell_type": "markdown",
      "source": [
        "Perform pose estimation and tracking on the sample video clip"
      ],
      "metadata": {
        "id": "U0XIlYc716Dm"
      }
    },
    {
      "cell_type": "code",
      "source": [
        "video_path = '/content/DLC_demo_data/videos/BHVE_group1_097200-098999.mp4'\n",
        "deeplabcut.analyze_videos(config_path,[video_path], shuffle=1, videotype=\"mp4\", auto_track=True)"
      ],
      "metadata": {
        "colab": {
          "base_uri": "https://localhost:8080/",
          "height": 1000
        },
        "id": "xR156-1PCxJB",
        "outputId": "7f12b3a6-026e-4e13-92cb-fbbffef78c38"
      },
      "execution_count": 8,
      "outputs": [
        {
          "output_type": "stream",
          "name": "stderr",
          "text": [
            "Config:\n",
            "{'all_joints': [[0], [1], [2]],\n",
            " 'all_joints_names': ['nose', 'dorsal_fin', 'peduncle'],\n",
            " 'batch_size': 1,\n",
            " 'crop_pad': 0,\n",
            " 'dataset': 'training-datasets/iteration-0/UnaugmentedDataSet_DLC_demoOct10/DLC_demo_Tucker95shuffle1.pickle',\n",
            " 'dataset_type': 'multi-animal-imgaug',\n",
            " 'deterministic': False,\n",
            " 'fg_fraction': 0.25,\n",
            " 'global_scale': 0.8,\n",
            " 'init_weights': '/usr/local/lib/python3.10/dist-packages/deeplabcut/pose_estimation_tensorflow/models/pretrained/resnet_v1_50.ckpt',\n",
            " 'intermediate_supervision': False,\n",
            " 'intermediate_supervision_layer': 12,\n",
            " 'location_refinement': True,\n",
            " 'locref_huber_loss': True,\n",
            " 'locref_loss_weight': 1.0,\n",
            " 'locref_smooth': False,\n",
            " 'locref_stdev': 7.2801,\n",
            " 'log_dir': 'log',\n",
            " 'mean_pixel': [123.68, 116.779, 103.939],\n",
            " 'minconfidence': 0.01,\n",
            " 'mirror': False,\n",
            " 'multi_stage': True,\n",
            " 'net_type': 'resnet_50',\n",
            " 'nmsradius': 5.0,\n",
            " 'num_idchannel': 2,\n",
            " 'num_joints': 3,\n",
            " 'num_limbs': 3,\n",
            " 'optimizer': 'sgd',\n",
            " 'paf_best': [0, 2, 1],\n",
            " 'pairwise_huber_loss': True,\n",
            " 'pairwise_predict': False,\n",
            " 'partaffinityfield_graph': [[0, 1], [0, 2], [1, 2]],\n",
            " 'partaffinityfield_predict': True,\n",
            " 'regularize': False,\n",
            " 'scoremap_dir': 'test',\n",
            " 'shuffle': True,\n",
            " 'sigma': 1,\n",
            " 'snapshot_prefix': '/content/DLC_demo_data/dlc-models/iteration-0/DLC_demoOct10-trainset95shuffle1/test/snapshot',\n",
            " 'stride': 8.0,\n",
            " 'weigh_negatives': False,\n",
            " 'weigh_only_present_joints': False,\n",
            " 'weigh_part_predictions': False,\n",
            " 'weight_decay': 0.0001}\n",
            "/usr/local/lib/python3.10/dist-packages/tensorflow/python/keras/engine/base_layer_v1.py:1694: UserWarning: `layer.apply` is deprecated and will be removed in a future version. Please use `layer.__call__` method instead.\n",
            "  warnings.warn('`layer.apply` is deprecated and '\n"
          ]
        },
        {
          "output_type": "stream",
          "name": "stdout",
          "text": [
            "Using snapshot-1000 for model /content/DLC_demo_data/dlc-models/iteration-0/DLC_demoOct10-trainset95shuffle1\n",
            "Activating extracting of PAFs\n",
            "Starting to analyze %  /content/DLC_demo_data/videos/BHVE_group1_097200-098999.mp4\n",
            "Loading  /content/DLC_demo_data/videos/BHVE_group1_097200-098999.mp4\n",
            "Duration of video [s]:  60.0 , recorded with  30.0 fps!\n",
            "Overall # of frames:  1800  found with (before cropping) frame dimensions:  720 900\n",
            "Starting to extract posture from the video(s) with batchsize: 8\n"
          ]
        },
        {
          "output_type": "stream",
          "name": "stderr",
          "text": [
            "100%|██████████| 1800/1800 [01:55<00:00, 15.57it/s]\n",
            "Config:\n",
            "{'all_joints': [[0], [1], [2]],\n",
            " 'all_joints_names': ['nose', 'dorsal_fin', 'peduncle'],\n",
            " 'batch_size': 1,\n",
            " 'crop_pad': 0,\n",
            " 'dataset': 'training-datasets/iteration-0/UnaugmentedDataSet_DLC_demoOct10/DLC_demo_Tucker95shuffle1.pickle',\n",
            " 'dataset_type': 'multi-animal-imgaug',\n",
            " 'deterministic': False,\n",
            " 'fg_fraction': 0.25,\n",
            " 'global_scale': 0.8,\n",
            " 'init_weights': '/usr/local/lib/python3.10/dist-packages/deeplabcut/pose_estimation_tensorflow/models/pretrained/resnet_v1_50.ckpt',\n",
            " 'intermediate_supervision': False,\n",
            " 'intermediate_supervision_layer': 12,\n",
            " 'location_refinement': True,\n",
            " 'locref_huber_loss': True,\n",
            " 'locref_loss_weight': 1.0,\n",
            " 'locref_smooth': False,\n",
            " 'locref_stdev': 7.2801,\n",
            " 'log_dir': 'log',\n",
            " 'mean_pixel': [123.68, 116.779, 103.939],\n",
            " 'minconfidence': 0.01,\n",
            " 'mirror': False,\n",
            " 'multi_stage': True,\n",
            " 'net_type': 'resnet_50',\n",
            " 'nmsradius': 5.0,\n",
            " 'num_idchannel': 2,\n",
            " 'num_joints': 3,\n",
            " 'num_limbs': 3,\n",
            " 'optimizer': 'sgd',\n",
            " 'paf_best': [0, 2, 1],\n",
            " 'pairwise_huber_loss': True,\n",
            " 'pairwise_predict': False,\n",
            " 'partaffinityfield_graph': [[0, 1], [0, 2], [1, 2]],\n",
            " 'partaffinityfield_predict': True,\n",
            " 'regularize': False,\n",
            " 'scoremap_dir': 'test',\n",
            " 'shuffle': True,\n",
            " 'sigma': 1,\n",
            " 'snapshot_prefix': '/content/DLC_demo_data/dlc-models/iteration-0/DLC_demoOct10-trainset95shuffle1/test/snapshot',\n",
            " 'stride': 8.0,\n",
            " 'weigh_negatives': False,\n",
            " 'weigh_only_present_joints': False,\n",
            " 'weigh_part_predictions': False,\n",
            " 'weight_decay': 0.0001}\n"
          ]
        },
        {
          "output_type": "stream",
          "name": "stdout",
          "text": [
            "Video Analyzed. Saving results in /content/DLC_demo_data/videos...\n",
            "Using snapshot-1000 for model /content/DLC_demo_data/dlc-models/iteration-0/DLC_demoOct10-trainset95shuffle1\n",
            "Processing...  /content/DLC_demo_data/videos/BHVE_group1_097200-098999.mp4\n",
            "Analyzing /content/DLC_demo_data/videos/BHVE_group1_097200-098999DLC_dlcrnetms5_DLC_demoOct10shuffle1_1000.h5\n"
          ]
        },
        {
          "output_type": "stream",
          "name": "stderr",
          "text": [
            "100%|██████████| 1736/1736 [00:02<00:00, 719.71it/s]\n",
            "1736it [00:07, 244.63it/s] \n"
          ]
        },
        {
          "output_type": "stream",
          "name": "stdout",
          "text": [
            "The tracklets were created (i.e., under the hood deeplabcut.convert_detections2tracklets was run). Now you can 'refine_tracklets' in the GUI, or run 'deeplabcut.stitch_tracklets'.\n",
            "Processing...  /content/DLC_demo_data/videos/BHVE_group1_097200-098999.mp4\n"
          ]
        },
        {
          "output_type": "stream",
          "name": "stderr",
          "text": [
            "100%|██████████| 24/24 [00:00<00:00, 397.41it/s]"
          ]
        },
        {
          "output_type": "stream",
          "name": "stdout",
          "text": [
            "The videos are analyzed. Time to assemble animals and track 'em... \n",
            " Call 'create_video_with_all_detections' to check multi-animal detection quality before tracking.\n",
            "If the tracking is not satisfactory for some videos, consider expanding the training set. You can use the function 'extract_outlier_frames' to extract a few representative outlier frames.\n"
          ]
        },
        {
          "output_type": "stream",
          "name": "stderr",
          "text": [
            "\n"
          ]
        },
        {
          "output_type": "execute_result",
          "data": {
            "text/plain": [
              "'DLC_dlcrnetms5_DLC_demoOct10shuffle1_1000'"
            ],
            "application/vnd.google.colaboratory.intrinsic+json": {
              "type": "string"
            }
          },
          "metadata": {},
          "execution_count": 8
        }
      ]
    },
    {
      "cell_type": "markdown",
      "source": [
        "Visualize the pose estimation and tracking results"
      ],
      "metadata": {
        "id": "ifCscXm92S16"
      }
    },
    {
      "cell_type": "code",
      "source": [
        "deeplabcut.create_labeled_video(\n",
        "    config_path,\n",
        "    [video_path],\n",
        "    videotype='mp4',\n",
        "    shuffle=1,\n",
        "    color_by=\"individual\",\n",
        ")"
      ],
      "metadata": {
        "colab": {
          "base_uri": "https://localhost:8080/"
        },
        "id": "HfltKi23FmU3",
        "outputId": "be655821-f6d7-41c6-ae15-7f9c0b6b561c"
      },
      "execution_count": 9,
      "outputs": [
        {
          "output_type": "stream",
          "name": "stdout",
          "text": [
            "Starting to process video: /content/DLC_demo_data/videos/BHVE_group1_097200-098999.mp4\n",
            "Loading /content/DLC_demo_data/videos/BHVE_group1_097200-098999.mp4 and data.\n",
            "Duration of video [s]: 60.0, recorded with 30.0 fps!\n",
            "Overall # of frames: 1800 with cropped frame dimensions: 720 900\n",
            "Generating frames and creating video.\n"
          ]
        },
        {
          "output_type": "stream",
          "name": "stderr",
          "text": [
            "100%|██████████| 1800/1800 [00:12<00:00, 146.76it/s]\n"
          ]
        },
        {
          "output_type": "execute_result",
          "data": {
            "text/plain": [
              "[True]"
            ]
          },
          "metadata": {},
          "execution_count": 9
        }
      ]
    },
    {
      "cell_type": "markdown",
      "source": [
        "Plot trajectories"
      ],
      "metadata": {
        "id": "N3TbaWsx2Ztg"
      }
    },
    {
      "cell_type": "code",
      "source": [
        "deeplabcut.plot_trajectories(config_path, [video_path], shuffle=1 ,videotype='mp4')"
      ],
      "metadata": {
        "colab": {
          "base_uri": "https://localhost:8080/"
        },
        "id": "fnyw6OOIJ1RT",
        "outputId": "2e65c471-718c-4ffd-aaac-669ca7565f05"
      },
      "execution_count": 10,
      "outputs": [
        {
          "output_type": "stream",
          "name": "stdout",
          "text": [
            "Loading  /content/DLC_demo_data/videos/BHVE_group1_097200-098999.mp4 and data.\n",
            "Plots created! Please check the directory \"plot-poses\" within the video directory\n"
          ]
        }
      ]
    },
    {
      "cell_type": "markdown",
      "source": [
        "Load and Examine the pose data"
      ],
      "metadata": {
        "id": "LOFUmgnv1qn6"
      }
    },
    {
      "cell_type": "code",
      "source": [
        "import pandas as pd\n",
        "df = pd.read_hdf('/content/DLC_demo_data/videos/BHVE_group1_097200-098999DLC_dlcrnetms5_DLC_demoOct10shuffle1_1000_el.h5')"
      ],
      "metadata": {
        "id": "gSqeCs7-G-vZ"
      },
      "execution_count": 11,
      "outputs": []
    },
    {
      "cell_type": "code",
      "source": [
        "df.head()"
      ],
      "metadata": {
        "colab": {
          "base_uri": "https://localhost:8080/",
          "height": 320
        },
        "id": "xKNXo7N2HZ49",
        "outputId": "1c7a8f9d-c0c9-4303-c289-f6ec2bbcfd22"
      },
      "execution_count": 12,
      "outputs": [
        {
          "output_type": "execute_result",
          "data": {
            "text/plain": [
              "scorer      DLC_dlcrnetms5_DLC_demoOct10shuffle1_1000                      \\\n",
              "individuals                                      male                       \n",
              "bodyparts                                        nose                       \n",
              "coords                                              x        y likelihood   \n",
              "0                                             194.876  253.926      0.989   \n",
              "1                                             195.394  247.320      0.995   \n",
              "2                                             201.666  244.405      0.994   \n",
              "3                                             210.083  242.516      0.996   \n",
              "4                                             213.635  236.765      0.992   \n",
              "\n",
              "scorer                                                                   \\\n",
              "individuals                                                               \n",
              "bodyparts   dorsal_fin                     peduncle                       \n",
              "coords               x        y likelihood        x        y likelihood   \n",
              "0              194.987  286.546      0.939  227.865  332.053      0.956   \n",
              "1              187.308  282.541      0.916  220.197  330.675      0.823   \n",
              "2              187.676  278.413      0.952  203.448  324.945      0.930   \n",
              "3              187.548  267.322      0.922  195.850  323.743      0.951   \n",
              "4              195.046  267.145      0.959  188.444  321.840      0.928   \n",
              "\n",
              "scorer                                                                   \\\n",
              "individuals   female                                                      \n",
              "bodyparts       nose                     dorsal_fin                       \n",
              "coords             x        y likelihood          x        y likelihood   \n",
              "0            270.198  314.699      0.973    260.223  277.049      0.962   \n",
              "1            268.032  314.393      0.985    260.507  277.317      0.961   \n",
              "2            268.411  314.166      0.987    260.447  276.844      0.954   \n",
              "3            268.046  313.819      0.989    259.562  276.927      0.961   \n",
              "4            267.865  313.637      0.987    259.568  275.787      0.962   \n",
              "\n",
              "scorer                                    \n",
              "individuals                               \n",
              "bodyparts   peduncle                      \n",
              "coords             x        y likelihood  \n",
              "0            262.175  211.439      0.926  \n",
              "1            266.760  209.804      0.888  \n",
              "2            267.017  210.142      0.866  \n",
              "3            267.434  210.268      0.896  \n",
              "4            267.609  210.221      0.915  "
            ],
            "text/html": [
              "\n",
              "  <div id=\"df-b88520a7-1a93-48f0-b2fd-2a99b0f6b114\" class=\"colab-df-container\">\n",
              "    <div>\n",
              "<style scoped>\n",
              "    .dataframe tbody tr th:only-of-type {\n",
              "        vertical-align: middle;\n",
              "    }\n",
              "\n",
              "    .dataframe tbody tr th {\n",
              "        vertical-align: top;\n",
              "    }\n",
              "\n",
              "    .dataframe thead tr th {\n",
              "        text-align: left;\n",
              "    }\n",
              "</style>\n",
              "<table border=\"1\" class=\"dataframe\">\n",
              "  <thead>\n",
              "    <tr>\n",
              "      <th>scorer</th>\n",
              "      <th colspan=\"18\" halign=\"left\">DLC_dlcrnetms5_DLC_demoOct10shuffle1_1000</th>\n",
              "    </tr>\n",
              "    <tr>\n",
              "      <th>individuals</th>\n",
              "      <th colspan=\"9\" halign=\"left\">male</th>\n",
              "      <th colspan=\"9\" halign=\"left\">female</th>\n",
              "    </tr>\n",
              "    <tr>\n",
              "      <th>bodyparts</th>\n",
              "      <th colspan=\"3\" halign=\"left\">nose</th>\n",
              "      <th colspan=\"3\" halign=\"left\">dorsal_fin</th>\n",
              "      <th colspan=\"3\" halign=\"left\">peduncle</th>\n",
              "      <th colspan=\"3\" halign=\"left\">nose</th>\n",
              "      <th colspan=\"3\" halign=\"left\">dorsal_fin</th>\n",
              "      <th colspan=\"3\" halign=\"left\">peduncle</th>\n",
              "    </tr>\n",
              "    <tr>\n",
              "      <th>coords</th>\n",
              "      <th>x</th>\n",
              "      <th>y</th>\n",
              "      <th>likelihood</th>\n",
              "      <th>x</th>\n",
              "      <th>y</th>\n",
              "      <th>likelihood</th>\n",
              "      <th>x</th>\n",
              "      <th>y</th>\n",
              "      <th>likelihood</th>\n",
              "      <th>x</th>\n",
              "      <th>y</th>\n",
              "      <th>likelihood</th>\n",
              "      <th>x</th>\n",
              "      <th>y</th>\n",
              "      <th>likelihood</th>\n",
              "      <th>x</th>\n",
              "      <th>y</th>\n",
              "      <th>likelihood</th>\n",
              "    </tr>\n",
              "  </thead>\n",
              "  <tbody>\n",
              "    <tr>\n",
              "      <th>0</th>\n",
              "      <td>194.876</td>\n",
              "      <td>253.926</td>\n",
              "      <td>0.989</td>\n",
              "      <td>194.987</td>\n",
              "      <td>286.546</td>\n",
              "      <td>0.939</td>\n",
              "      <td>227.865</td>\n",
              "      <td>332.053</td>\n",
              "      <td>0.956</td>\n",
              "      <td>270.198</td>\n",
              "      <td>314.699</td>\n",
              "      <td>0.973</td>\n",
              "      <td>260.223</td>\n",
              "      <td>277.049</td>\n",
              "      <td>0.962</td>\n",
              "      <td>262.175</td>\n",
              "      <td>211.439</td>\n",
              "      <td>0.926</td>\n",
              "    </tr>\n",
              "    <tr>\n",
              "      <th>1</th>\n",
              "      <td>195.394</td>\n",
              "      <td>247.320</td>\n",
              "      <td>0.995</td>\n",
              "      <td>187.308</td>\n",
              "      <td>282.541</td>\n",
              "      <td>0.916</td>\n",
              "      <td>220.197</td>\n",
              "      <td>330.675</td>\n",
              "      <td>0.823</td>\n",
              "      <td>268.032</td>\n",
              "      <td>314.393</td>\n",
              "      <td>0.985</td>\n",
              "      <td>260.507</td>\n",
              "      <td>277.317</td>\n",
              "      <td>0.961</td>\n",
              "      <td>266.760</td>\n",
              "      <td>209.804</td>\n",
              "      <td>0.888</td>\n",
              "    </tr>\n",
              "    <tr>\n",
              "      <th>2</th>\n",
              "      <td>201.666</td>\n",
              "      <td>244.405</td>\n",
              "      <td>0.994</td>\n",
              "      <td>187.676</td>\n",
              "      <td>278.413</td>\n",
              "      <td>0.952</td>\n",
              "      <td>203.448</td>\n",
              "      <td>324.945</td>\n",
              "      <td>0.930</td>\n",
              "      <td>268.411</td>\n",
              "      <td>314.166</td>\n",
              "      <td>0.987</td>\n",
              "      <td>260.447</td>\n",
              "      <td>276.844</td>\n",
              "      <td>0.954</td>\n",
              "      <td>267.017</td>\n",
              "      <td>210.142</td>\n",
              "      <td>0.866</td>\n",
              "    </tr>\n",
              "    <tr>\n",
              "      <th>3</th>\n",
              "      <td>210.083</td>\n",
              "      <td>242.516</td>\n",
              "      <td>0.996</td>\n",
              "      <td>187.548</td>\n",
              "      <td>267.322</td>\n",
              "      <td>0.922</td>\n",
              "      <td>195.850</td>\n",
              "      <td>323.743</td>\n",
              "      <td>0.951</td>\n",
              "      <td>268.046</td>\n",
              "      <td>313.819</td>\n",
              "      <td>0.989</td>\n",
              "      <td>259.562</td>\n",
              "      <td>276.927</td>\n",
              "      <td>0.961</td>\n",
              "      <td>267.434</td>\n",
              "      <td>210.268</td>\n",
              "      <td>0.896</td>\n",
              "    </tr>\n",
              "    <tr>\n",
              "      <th>4</th>\n",
              "      <td>213.635</td>\n",
              "      <td>236.765</td>\n",
              "      <td>0.992</td>\n",
              "      <td>195.046</td>\n",
              "      <td>267.145</td>\n",
              "      <td>0.959</td>\n",
              "      <td>188.444</td>\n",
              "      <td>321.840</td>\n",
              "      <td>0.928</td>\n",
              "      <td>267.865</td>\n",
              "      <td>313.637</td>\n",
              "      <td>0.987</td>\n",
              "      <td>259.568</td>\n",
              "      <td>275.787</td>\n",
              "      <td>0.962</td>\n",
              "      <td>267.609</td>\n",
              "      <td>210.221</td>\n",
              "      <td>0.915</td>\n",
              "    </tr>\n",
              "  </tbody>\n",
              "</table>\n",
              "</div>\n",
              "    <div class=\"colab-df-buttons\">\n",
              "\n",
              "  <div class=\"colab-df-container\">\n",
              "    <button class=\"colab-df-convert\" onclick=\"convertToInteractive('df-b88520a7-1a93-48f0-b2fd-2a99b0f6b114')\"\n",
              "            title=\"Convert this dataframe to an interactive table.\"\n",
              "            style=\"display:none;\">\n",
              "\n",
              "  <svg xmlns=\"http://www.w3.org/2000/svg\" height=\"24px\" viewBox=\"0 -960 960 960\">\n",
              "    <path d=\"M120-120v-720h720v720H120Zm60-500h600v-160H180v160Zm220 220h160v-160H400v160Zm0 220h160v-160H400v160ZM180-400h160v-160H180v160Zm440 0h160v-160H620v160ZM180-180h160v-160H180v160Zm440 0h160v-160H620v160Z\"/>\n",
              "  </svg>\n",
              "    </button>\n",
              "\n",
              "  <style>\n",
              "    .colab-df-container {\n",
              "      display:flex;\n",
              "      gap: 12px;\n",
              "    }\n",
              "\n",
              "    .colab-df-convert {\n",
              "      background-color: #E8F0FE;\n",
              "      border: none;\n",
              "      border-radius: 50%;\n",
              "      cursor: pointer;\n",
              "      display: none;\n",
              "      fill: #1967D2;\n",
              "      height: 32px;\n",
              "      padding: 0 0 0 0;\n",
              "      width: 32px;\n",
              "    }\n",
              "\n",
              "    .colab-df-convert:hover {\n",
              "      background-color: #E2EBFA;\n",
              "      box-shadow: 0px 1px 2px rgba(60, 64, 67, 0.3), 0px 1px 3px 1px rgba(60, 64, 67, 0.15);\n",
              "      fill: #174EA6;\n",
              "    }\n",
              "\n",
              "    .colab-df-buttons div {\n",
              "      margin-bottom: 4px;\n",
              "    }\n",
              "\n",
              "    [theme=dark] .colab-df-convert {\n",
              "      background-color: #3B4455;\n",
              "      fill: #D2E3FC;\n",
              "    }\n",
              "\n",
              "    [theme=dark] .colab-df-convert:hover {\n",
              "      background-color: #434B5C;\n",
              "      box-shadow: 0px 1px 3px 1px rgba(0, 0, 0, 0.15);\n",
              "      filter: drop-shadow(0px 1px 2px rgba(0, 0, 0, 0.3));\n",
              "      fill: #FFFFFF;\n",
              "    }\n",
              "  </style>\n",
              "\n",
              "    <script>\n",
              "      const buttonEl =\n",
              "        document.querySelector('#df-b88520a7-1a93-48f0-b2fd-2a99b0f6b114 button.colab-df-convert');\n",
              "      buttonEl.style.display =\n",
              "        google.colab.kernel.accessAllowed ? 'block' : 'none';\n",
              "\n",
              "      async function convertToInteractive(key) {\n",
              "        const element = document.querySelector('#df-b88520a7-1a93-48f0-b2fd-2a99b0f6b114');\n",
              "        const dataTable =\n",
              "          await google.colab.kernel.invokeFunction('convertToInteractive',\n",
              "                                                    [key], {});\n",
              "        if (!dataTable) return;\n",
              "\n",
              "        const docLinkHtml = 'Like what you see? Visit the ' +\n",
              "          '<a target=\"_blank\" href=https://colab.research.google.com/notebooks/data_table.ipynb>data table notebook</a>'\n",
              "          + ' to learn more about interactive tables.';\n",
              "        element.innerHTML = '';\n",
              "        dataTable['output_type'] = 'display_data';\n",
              "        await google.colab.output.renderOutput(dataTable, element);\n",
              "        const docLink = document.createElement('div');\n",
              "        docLink.innerHTML = docLinkHtml;\n",
              "        element.appendChild(docLink);\n",
              "      }\n",
              "    </script>\n",
              "  </div>\n",
              "\n",
              "\n",
              "<div id=\"df-031b892d-d11f-4826-b681-d63ec0073390\">\n",
              "  <button class=\"colab-df-quickchart\" onclick=\"quickchart('df-031b892d-d11f-4826-b681-d63ec0073390')\"\n",
              "            title=\"Suggest charts\"\n",
              "            style=\"display:none;\">\n",
              "\n",
              "<svg xmlns=\"http://www.w3.org/2000/svg\" height=\"24px\"viewBox=\"0 0 24 24\"\n",
              "     width=\"24px\">\n",
              "    <g>\n",
              "        <path d=\"M19 3H5c-1.1 0-2 .9-2 2v14c0 1.1.9 2 2 2h14c1.1 0 2-.9 2-2V5c0-1.1-.9-2-2-2zM9 17H7v-7h2v7zm4 0h-2V7h2v10zm4 0h-2v-4h2v4z\"/>\n",
              "    </g>\n",
              "</svg>\n",
              "  </button>\n",
              "\n",
              "<style>\n",
              "  .colab-df-quickchart {\n",
              "      --bg-color: #E8F0FE;\n",
              "      --fill-color: #1967D2;\n",
              "      --hover-bg-color: #E2EBFA;\n",
              "      --hover-fill-color: #174EA6;\n",
              "      --disabled-fill-color: #AAA;\n",
              "      --disabled-bg-color: #DDD;\n",
              "  }\n",
              "\n",
              "  [theme=dark] .colab-df-quickchart {\n",
              "      --bg-color: #3B4455;\n",
              "      --fill-color: #D2E3FC;\n",
              "      --hover-bg-color: #434B5C;\n",
              "      --hover-fill-color: #FFFFFF;\n",
              "      --disabled-bg-color: #3B4455;\n",
              "      --disabled-fill-color: #666;\n",
              "  }\n",
              "\n",
              "  .colab-df-quickchart {\n",
              "    background-color: var(--bg-color);\n",
              "    border: none;\n",
              "    border-radius: 50%;\n",
              "    cursor: pointer;\n",
              "    display: none;\n",
              "    fill: var(--fill-color);\n",
              "    height: 32px;\n",
              "    padding: 0;\n",
              "    width: 32px;\n",
              "  }\n",
              "\n",
              "  .colab-df-quickchart:hover {\n",
              "    background-color: var(--hover-bg-color);\n",
              "    box-shadow: 0 1px 2px rgba(60, 64, 67, 0.3), 0 1px 3px 1px rgba(60, 64, 67, 0.15);\n",
              "    fill: var(--button-hover-fill-color);\n",
              "  }\n",
              "\n",
              "  .colab-df-quickchart-complete:disabled,\n",
              "  .colab-df-quickchart-complete:disabled:hover {\n",
              "    background-color: var(--disabled-bg-color);\n",
              "    fill: var(--disabled-fill-color);\n",
              "    box-shadow: none;\n",
              "  }\n",
              "\n",
              "  .colab-df-spinner {\n",
              "    border: 2px solid var(--fill-color);\n",
              "    border-color: transparent;\n",
              "    border-bottom-color: var(--fill-color);\n",
              "    animation:\n",
              "      spin 1s steps(1) infinite;\n",
              "  }\n",
              "\n",
              "  @keyframes spin {\n",
              "    0% {\n",
              "      border-color: transparent;\n",
              "      border-bottom-color: var(--fill-color);\n",
              "      border-left-color: var(--fill-color);\n",
              "    }\n",
              "    20% {\n",
              "      border-color: transparent;\n",
              "      border-left-color: var(--fill-color);\n",
              "      border-top-color: var(--fill-color);\n",
              "    }\n",
              "    30% {\n",
              "      border-color: transparent;\n",
              "      border-left-color: var(--fill-color);\n",
              "      border-top-color: var(--fill-color);\n",
              "      border-right-color: var(--fill-color);\n",
              "    }\n",
              "    40% {\n",
              "      border-color: transparent;\n",
              "      border-right-color: var(--fill-color);\n",
              "      border-top-color: var(--fill-color);\n",
              "    }\n",
              "    60% {\n",
              "      border-color: transparent;\n",
              "      border-right-color: var(--fill-color);\n",
              "    }\n",
              "    80% {\n",
              "      border-color: transparent;\n",
              "      border-right-color: var(--fill-color);\n",
              "      border-bottom-color: var(--fill-color);\n",
              "    }\n",
              "    90% {\n",
              "      border-color: transparent;\n",
              "      border-bottom-color: var(--fill-color);\n",
              "    }\n",
              "  }\n",
              "</style>\n",
              "\n",
              "  <script>\n",
              "    async function quickchart(key) {\n",
              "      const quickchartButtonEl =\n",
              "        document.querySelector('#' + key + ' button');\n",
              "      quickchartButtonEl.disabled = true;  // To prevent multiple clicks.\n",
              "      quickchartButtonEl.classList.add('colab-df-spinner');\n",
              "      try {\n",
              "        const charts = await google.colab.kernel.invokeFunction(\n",
              "            'suggestCharts', [key], {});\n",
              "      } catch (error) {\n",
              "        console.error('Error during call to suggestCharts:', error);\n",
              "      }\n",
              "      quickchartButtonEl.classList.remove('colab-df-spinner');\n",
              "      quickchartButtonEl.classList.add('colab-df-quickchart-complete');\n",
              "    }\n",
              "    (() => {\n",
              "      let quickchartButtonEl =\n",
              "        document.querySelector('#df-031b892d-d11f-4826-b681-d63ec0073390 button');\n",
              "      quickchartButtonEl.style.display =\n",
              "        google.colab.kernel.accessAllowed ? 'block' : 'none';\n",
              "    })();\n",
              "  </script>\n",
              "</div>\n",
              "\n",
              "    </div>\n",
              "  </div>\n"
            ],
            "application/vnd.google.colaboratory.intrinsic+json": {
              "type": "dataframe",
              "variable_name": "df",
              "summary": "{\n  \"name\": \"df\",\n  \"rows\": 1800,\n  \"fields\": [\n    {\n      \"column\": [\n        \"DLC_dlcrnetms5_DLC_demoOct10shuffle1_1000\",\n        \"male\",\n        \"nose\",\n        \"x\"\n      ],\n      \"properties\": {\n        \"dtype\": \"number\",\n        \"std\": 90.43773129665216,\n        \"min\": 11.59,\n        \"max\": 684.82,\n        \"num_unique_values\": 1383,\n        \"samples\": [\n          186.335,\n          233.277,\n          240.554\n        ],\n        \"semantic_type\": \"\",\n        \"description\": \"\"\n      }\n    },\n    {\n      \"column\": [\n        \"DLC_dlcrnetms5_DLC_demoOct10shuffle1_1000\",\n        \"male\",\n        \"nose\",\n        \"y\"\n      ],\n      \"properties\": {\n        \"dtype\": \"number\",\n        \"std\": 137.50400480802142,\n        \"min\": 98.228,\n        \"max\": 884.0,\n        \"num_unique_values\": 1379,\n        \"samples\": [\n          237.195,\n          195.501,\n          307.631\n        ],\n        \"semantic_type\": \"\",\n        \"description\": \"\"\n      }\n    },\n    {\n      \"column\": [\n        \"DLC_dlcrnetms5_DLC_demoOct10shuffle1_1000\",\n        \"male\",\n        \"nose\",\n        \"likelihood\"\n      ],\n      \"properties\": {\n        \"dtype\": \"number\",\n        \"std\": 0.09037525393755899,\n        \"min\": 0.17100000381469727,\n        \"max\": 0.9990000128746033,\n        \"num_unique_values\": 170,\n        \"samples\": [\n          0.2619999945163727,\n          0.9750000238418579,\n          0.8019999861717224\n        ],\n        \"semantic_type\": \"\",\n        \"description\": \"\"\n      }\n    },\n    {\n      \"column\": [\n        \"DLC_dlcrnetms5_DLC_demoOct10shuffle1_1000\",\n        \"male\",\n        \"dorsal_fin\",\n        \"x\"\n      ],\n      \"properties\": {\n        \"dtype\": \"number\",\n        \"std\": 89.01723460394258,\n        \"min\": 11.878,\n        \"max\": 684.466,\n        \"num_unique_values\": 1379,\n        \"samples\": [\n          229.175,\n          253.19,\n          308.07\n        ],\n        \"semantic_type\": \"\",\n        \"description\": \"\"\n      }\n    },\n    {\n      \"column\": [\n        \"DLC_dlcrnetms5_DLC_demoOct10shuffle1_1000\",\n        \"male\",\n        \"dorsal_fin\",\n        \"y\"\n      ],\n      \"properties\": {\n        \"dtype\": \"number\",\n        \"std\": 134.47830421282174,\n        \"min\": 68.485,\n        \"max\": 869.729,\n        \"num_unique_values\": 1377,\n        \"samples\": [\n          314.793,\n          339.327,\n          338.931\n        ],\n        \"semantic_type\": \"\",\n        \"description\": \"\"\n      }\n    },\n    {\n      \"column\": [\n        \"DLC_dlcrnetms5_DLC_demoOct10shuffle1_1000\",\n        \"male\",\n        \"dorsal_fin\",\n        \"likelihood\"\n      ],\n      \"properties\": {\n        \"dtype\": \"number\",\n        \"std\": 0.1478061146016379,\n        \"min\": 0.10700000077486038,\n        \"max\": 0.9940000176429749,\n        \"num_unique_values\": 330,\n        \"samples\": [\n          0.9300000071525574,\n          0.8889999985694885,\n          0.878000020980835\n        ],\n        \"semantic_type\": \"\",\n        \"description\": \"\"\n      }\n    },\n    {\n      \"column\": [\n        \"DLC_dlcrnetms5_DLC_demoOct10shuffle1_1000\",\n        \"male\",\n        \"peduncle\",\n        \"x\"\n      ],\n      \"properties\": {\n        \"dtype\": \"number\",\n        \"std\": 94.66109795776516,\n        \"min\": 12.049,\n        \"max\": 660.419,\n        \"num_unique_values\": 1377,\n        \"samples\": [\n          237.725,\n          248.135,\n          284.138\n        ],\n        \"semantic_type\": \"\",\n        \"description\": \"\"\n      }\n    },\n    {\n      \"column\": [\n        \"DLC_dlcrnetms5_DLC_demoOct10shuffle1_1000\",\n        \"male\",\n        \"peduncle\",\n        \"y\"\n      ],\n      \"properties\": {\n        \"dtype\": \"number\",\n        \"std\": 136.54715737713977,\n        \"min\": 12.15,\n        \"max\": 875.261,\n        \"num_unique_values\": 1381,\n        \"samples\": [\n          259.858,\n          235.398,\n          283.085\n        ],\n        \"semantic_type\": \"\",\n        \"description\": \"\"\n      }\n    },\n    {\n      \"column\": [\n        \"DLC_dlcrnetms5_DLC_demoOct10shuffle1_1000\",\n        \"male\",\n        \"peduncle\",\n        \"likelihood\"\n      ],\n      \"properties\": {\n        \"dtype\": \"number\",\n        \"std\": 0.15508627774586178,\n        \"min\": 0.10000000149011612,\n        \"max\": 0.9950000047683716,\n        \"num_unique_values\": 350,\n        \"samples\": [\n          0.9129999876022339,\n          0.746999979019165,\n          0.4950000047683716\n        ],\n        \"semantic_type\": \"\",\n        \"description\": \"\"\n      }\n    },\n    {\n      \"column\": [\n        \"DLC_dlcrnetms5_DLC_demoOct10shuffle1_1000\",\n        \"female\",\n        \"nose\",\n        \"x\"\n      ],\n      \"properties\": {\n        \"dtype\": \"number\",\n        \"std\": 104.51225434711714,\n        \"min\": 27.766,\n        \"max\": 669.02,\n        \"num_unique_values\": 1411,\n        \"samples\": [\n          269.347,\n          201.099,\n          324.762\n        ],\n        \"semantic_type\": \"\",\n        \"description\": \"\"\n      }\n    },\n    {\n      \"column\": [\n        \"DLC_dlcrnetms5_DLC_demoOct10shuffle1_1000\",\n        \"female\",\n        \"nose\",\n        \"y\"\n      ],\n      \"properties\": {\n        \"dtype\": \"number\",\n        \"std\": 127.87047488522303,\n        \"min\": 50.99,\n        \"max\": 846.157,\n        \"num_unique_values\": 1411,\n        \"samples\": [\n          322.256,\n          364.364,\n          284.584\n        ],\n        \"semantic_type\": \"\",\n        \"description\": \"\"\n      }\n    },\n    {\n      \"column\": [\n        \"DLC_dlcrnetms5_DLC_demoOct10shuffle1_1000\",\n        \"female\",\n        \"nose\",\n        \"likelihood\"\n      ],\n      \"properties\": {\n        \"dtype\": \"number\",\n        \"std\": 0.08193056973564745,\n        \"min\": 0.11400000005960464,\n        \"max\": 0.9990000128746033,\n        \"num_unique_values\": 165,\n        \"samples\": [\n          0.9020000100135803,\n          0.7889999747276306,\n          0.9169999957084656\n        ],\n        \"semantic_type\": \"\",\n        \"description\": \"\"\n      }\n    },\n    {\n      \"column\": [\n        \"DLC_dlcrnetms5_DLC_demoOct10shuffle1_1000\",\n        \"female\",\n        \"dorsal_fin\",\n        \"x\"\n      ],\n      \"properties\": {\n        \"dtype\": \"number\",\n        \"std\": 107.29310535742061,\n        \"min\": 19.937,\n        \"max\": 668.718,\n        \"num_unique_values\": 1412,\n        \"samples\": [\n          236.319,\n          204.045,\n          212.675\n        ],\n        \"semantic_type\": \"\",\n        \"description\": \"\"\n      }\n    },\n    {\n      \"column\": [\n        \"DLC_dlcrnetms5_DLC_demoOct10shuffle1_1000\",\n        \"female\",\n        \"dorsal_fin\",\n        \"y\"\n      ],\n      \"properties\": {\n        \"dtype\": \"number\",\n        \"std\": 126.45219182931436,\n        \"min\": 52.015,\n        \"max\": 821.717,\n        \"num_unique_values\": 1401,\n        \"samples\": [\n          676.361,\n          611.125,\n          324.64\n        ],\n        \"semantic_type\": \"\",\n        \"description\": \"\"\n      }\n    },\n    {\n      \"column\": [\n        \"DLC_dlcrnetms5_DLC_demoOct10shuffle1_1000\",\n        \"female\",\n        \"dorsal_fin\",\n        \"likelihood\"\n      ],\n      \"properties\": {\n        \"dtype\": \"number\",\n        \"std\": 0.12020449533003684,\n        \"min\": 0.10000000149011612,\n        \"max\": 0.984000027179718,\n        \"num_unique_values\": 276,\n        \"samples\": [\n          0.9660000205039978,\n          0.6589999794960022,\n          0.7099999785423279\n        ],\n        \"semantic_type\": \"\",\n        \"description\": \"\"\n      }\n    },\n    {\n      \"column\": [\n        \"DLC_dlcrnetms5_DLC_demoOct10shuffle1_1000\",\n        \"female\",\n        \"peduncle\",\n        \"x\"\n      ],\n      \"properties\": {\n        \"dtype\": \"number\",\n        \"std\": 122.70098008121373,\n        \"min\": 2.376,\n        \"max\": 674.772,\n        \"num_unique_values\": 1410,\n        \"samples\": [\n          172.327,\n          244.115,\n          194.55\n        ],\n        \"semantic_type\": \"\",\n        \"description\": \"\"\n      }\n    },\n    {\n      \"column\": [\n        \"DLC_dlcrnetms5_DLC_demoOct10shuffle1_1000\",\n        \"female\",\n        \"peduncle\",\n        \"y\"\n      ],\n      \"properties\": {\n        \"dtype\": \"number\",\n        \"std\": 133.2420498283295,\n        \"min\": 34.579,\n        \"max\": 795.822,\n        \"num_unique_values\": 1407,\n        \"samples\": [\n          298.223,\n          451.314,\n          177.912\n        ],\n        \"semantic_type\": \"\",\n        \"description\": \"\"\n      }\n    },\n    {\n      \"column\": [\n        \"DLC_dlcrnetms5_DLC_demoOct10shuffle1_1000\",\n        \"female\",\n        \"peduncle\",\n        \"likelihood\"\n      ],\n      \"properties\": {\n        \"dtype\": \"number\",\n        \"std\": 0.15804528721013883,\n        \"min\": 0.10000000149011612,\n        \"max\": 0.9919999837875366,\n        \"num_unique_values\": 382,\n        \"samples\": [\n          0.8090000152587891,\n          0.781000018119812,\n          0.9769999980926514\n        ],\n        \"semantic_type\": \"\",\n        \"description\": \"\"\n      }\n    }\n  ]\n}"
            }
          },
          "metadata": {},
          "execution_count": 12
        }
      ]
    },
    {
      "cell_type": "code",
      "source": [
        "idx = pd.IndexSlice\n",
        "dists = []\n",
        "for id1, id2  in [['male', 'female'], ['female', 'male']]:\n",
        "  deltas = df.loc[:, idx[:, id1, 'nose', :]].values - df.loc[:, idx[:, id2, 'peduncle', :]].values\n",
        "  dists.append(np.hypot(deltas[:, 0], deltas[:, 1]))\n",
        "dists = pd.DataFrame(dists).T"
      ],
      "metadata": {
        "id": "l2X-EY-BNJzw"
      },
      "execution_count": 13,
      "outputs": []
    },
    {
      "cell_type": "code",
      "source": [
        "sns.lineplot(dists)"
      ],
      "metadata": {
        "colab": {
          "base_uri": "https://localhost:8080/",
          "height": 448
        },
        "id": "awrMTxyF5x5b",
        "outputId": "20e1a55e-7849-493b-cf77-d193a104e23f"
      },
      "execution_count": 14,
      "outputs": [
        {
          "output_type": "execute_result",
          "data": {
            "text/plain": [
              "<Axes: >"
            ]
          },
          "metadata": {},
          "execution_count": 14
        },
        {
          "output_type": "display_data",
          "data": {
            "text/plain": [
              "<Figure size 640x480 with 1 Axes>"
            ],
            "image/png": "[encoded data removed]"
          },
          "metadata": {}
        }
      ]
    }
  ]
}