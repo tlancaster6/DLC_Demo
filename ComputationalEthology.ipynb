{
  "nbformat": 4,
  "nbformat_minor": 0,
  "metadata": {
    "colab": {
      "provenance": [],
      "gpuType": "T4"
    },
    "kernelspec": {
      "name": "python3",
      "display_name": "Python 3"
    },
    "language_info": {
      "name": "python"
    },
    "accelerator": "GPU"
  },
  "cells": [
    {
      "cell_type": "markdown",
      "source": [
        "Install DeepLabCut and a compatible CUDA version"
      ],
      "metadata": {
        "id": "tRZfibvwL2s5"
      }
    },
    {
      "cell_type": "code",
      "execution_count": null,
      "metadata": {
        "id": "aPRvVJN92mwA",
        "colab": {
          "base_uri": "https://localhost:8080/"
        },
        "outputId": "600bbc88-5dfa-40ac-ea0a-8a5c3f15f542"
      },
      "outputs": [
        {
          "output_type": "stream",
          "name": "stdout",
          "text": [
            "\u001b[33m\r0% [Working]\u001b[0m\r            \rHit:1 https://cloud.r-project.org/bin/linux/ubuntu jammy-cran40/ InRelease\n",
            "Hit:2 https://developer.download.nvidia.com/compute/cuda/repos/ubuntu2204/x86_64  InRelease\n",
            "Hit:3 http://security.ubuntu.com/ubuntu jammy-security InRelease\n",
            "Hit:4 http://archive.ubuntu.com/ubuntu jammy InRelease\n",
            "Get:5 http://archive.ubuntu.com/ubuntu jammy-updates InRelease [119 kB]\n",
            "Hit:6 https://ppa.launchpadcontent.net/c2d4u.team/c2d4u4.0+/ubuntu jammy InRelease\n",
            "Hit:7 https://ppa.launchpadcontent.net/deadsnakes/ppa/ubuntu jammy InRelease\n",
            "Hit:8 https://ppa.launchpadcontent.net/graphics-drivers/ppa/ubuntu jammy InRelease\n",
            "Hit:9 https://ppa.launchpadcontent.net/ubuntugis/ppa/ubuntu jammy InRelease\n",
            "Hit:10 http://archive.ubuntu.com/ubuntu jammy-backports InRelease\n",
            "Fetched 119 kB in 2s (50.0 kB/s)\n",
            "Reading package lists... Done\n",
            "Building dependency tree... Done\n",
            "Reading state information... Done\n",
            "46 packages can be upgraded. Run 'apt list --upgradable' to see them.\n",
            "Reading package lists... Done\n",
            "Building dependency tree... Done\n",
            "Reading state information... Done\n",
            "The following additional packages will be installed:\n",
            "  cpp-12 cuda-cccl-11-8 cuda-command-line-tools-11-8 cuda-compiler-11-8 cuda-cudart-11-8\n",
            "  cuda-cudart-dev-11-8 cuda-cuobjdump-11-8 cuda-cupti-11-8 cuda-cupti-dev-11-8 cuda-cuxxfilt-11-8\n",
            "  cuda-demo-suite-11-8 cuda-documentation-11-8 cuda-driver-dev-11-8 cuda-drivers cuda-drivers-550\n",
            "  cuda-gdb-11-8 cuda-libraries-11-8 cuda-libraries-dev-11-8 cuda-memcheck-11-8 cuda-nsight-11-8\n",
            "  cuda-nsight-compute-11-8 cuda-nsight-systems-11-8 cuda-nvcc-11-8 cuda-nvdisasm-11-8\n",
            "  cuda-nvml-dev-11-8 cuda-nvprof-11-8 cuda-nvprune-11-8 cuda-nvrtc-11-8 cuda-nvrtc-dev-11-8\n",
            "  cuda-nvtx-11-8 cuda-nvvp-11-8 cuda-profiler-api-11-8 cuda-runtime-11-8 cuda-sanitizer-11-8\n",
            "  cuda-toolkit-11-8 cuda-toolkit-11-8-config-common cuda-toolkit-11-config-common cuda-tools-11-8\n",
            "  cuda-visual-tools-11-8 dctrl-tools default-jre default-jre-headless dkms fakeroot\n",
            "  fonts-dejavu-core fonts-dejavu-extra gcc-12 gds-tools-11-8 keyboard-configuration libasan8\n",
            "  libatk-wrapper-java libatk-wrapper-java-jni libcublas-11-8 libcublas-dev-11-8 libcufft-11-8\n",
            "  libcufft-dev-11-8 libcufile-11-8 libcufile-dev-11-8 libcurand-11-8 libcurand-dev-11-8\n",
            "  libcusolver-11-8 libcusolver-dev-11-8 libcusparse-11-8 libcusparse-dev-11-8 libfakeroot\n",
            "  libfontenc1 libgcc-12-dev libjansson4 liblocale-gettext-perl libnpp-11-8 libnpp-dev-11-8\n",
            "  libnvidia-cfg1-550 libnvidia-common-550 libnvidia-compute-550 libnvidia-decode-550\n",
            "  libnvidia-encode-550 libnvidia-extra-550 libnvidia-fbc1-550 libnvidia-gl-550 libnvjpeg-11-8\n",
            "  libnvjpeg-dev-11-8 libtinfo5 libtsan2 libudev1 libxcb-icccm4 libxcb-image0 libxcb-keysyms1\n",
            "  libxcb-render-util0 libxcb-util1 libxcb-xinerama0 libxcb-xinput0 libxcb-xkb1 libxcvt0 libxfont2\n",
            "  libxkbcommon-x11-0 libxkbfile1 libxtst6 libxxf86dga1 nsight-compute-2022.3.0\n",
            "  nsight-systems-2022.4.2 nvidia-compute-utils-550 nvidia-dkms-550 nvidia-driver-550\n",
            "  nvidia-firmware-550-550.54.15 nvidia-kernel-common-550 nvidia-kernel-source-550 nvidia-prime\n",
            "  nvidia-settings nvidia-utils-550 openjdk-11-jre python3-xkit screen-resolution-extra\n",
            "  systemd-hwe-hwdb udev x11-utils x11-xkb-utils xcvt xfonts-base xfonts-encodings xfonts-utils\n",
            "  xserver-common xserver-xorg-core xserver-xorg-video-nvidia-550\n",
            "Suggested packages:\n",
            "  gcc-12-locales cpp-12-doc debtags menu gcc-12-multilib gcc-12-doc mesa-utils xfs | xserver\n",
            "  xfonts-100dpi | xfonts-75dpi xfonts-scalable\n",
            "Recommended packages:\n",
            "  libnvidia-compute-550:i386 libnvidia-decode-550:i386 libnvidia-encode-550:i386\n",
            "  libnvidia-fbc1-550:i386 libnvidia-gl-550:i386\n",
            "The following NEW packages will be installed:\n",
            "  cpp-12 cuda-11-8 cuda-cccl-11-8 cuda-command-line-tools-11-8 cuda-compiler-11-8 cuda-cudart-11-8\n",
            "  cuda-cudart-dev-11-8 cuda-cuobjdump-11-8 cuda-cupti-11-8 cuda-cupti-dev-11-8 cuda-cuxxfilt-11-8\n",
            "  cuda-demo-suite-11-8 cuda-documentation-11-8 cuda-driver-dev-11-8 cuda-drivers cuda-drivers-550\n",
            "  cuda-gdb-11-8 cuda-libraries-11-8 cuda-libraries-dev-11-8 cuda-memcheck-11-8 cuda-nsight-11-8\n",
            "  cuda-nsight-compute-11-8 cuda-nsight-systems-11-8 cuda-nvcc-11-8 cuda-nvdisasm-11-8\n",
            "  cuda-nvml-dev-11-8 cuda-nvprof-11-8 cuda-nvprune-11-8 cuda-nvrtc-11-8 cuda-nvrtc-dev-11-8\n",
            "  cuda-nvtx-11-8 cuda-nvvp-11-8 cuda-profiler-api-11-8 cuda-runtime-11-8 cuda-sanitizer-11-8\n",
            "  cuda-toolkit-11-8 cuda-toolkit-11-8-config-common cuda-toolkit-11-config-common cuda-tools-11-8\n",
            "  cuda-visual-tools-11-8 dctrl-tools default-jre default-jre-headless dkms fakeroot\n",
            "  fonts-dejavu-core fonts-dejavu-extra gcc-12 gds-tools-11-8 keyboard-configuration libasan8\n",
            "  libatk-wrapper-java libatk-wrapper-java-jni libcublas-11-8 libcublas-dev-11-8 libcufft-11-8\n",
            "  libcufft-dev-11-8 libcufile-11-8 libcufile-dev-11-8 libcurand-11-8 libcurand-dev-11-8\n",
            "  libcusolver-11-8 libcusolver-dev-11-8 libcusparse-11-8 libcusparse-dev-11-8 libfakeroot\n",
            "  libfontenc1 libgcc-12-dev libjansson4 liblocale-gettext-perl libnpp-11-8 libnpp-dev-11-8\n",
            "  libnvidia-cfg1-550 libnvidia-common-550 libnvidia-compute-550 libnvidia-decode-550\n",
            "  libnvidia-encode-550 libnvidia-extra-550 libnvidia-fbc1-550 libnvidia-gl-550 libnvjpeg-11-8\n",
            "  libnvjpeg-dev-11-8 libtinfo5 libtsan2 libxcb-icccm4 libxcb-image0 libxcb-keysyms1\n",
            "  libxcb-render-util0 libxcb-util1 libxcb-xinerama0 libxcb-xinput0 libxcb-xkb1 libxcvt0 libxfont2\n",
            "  libxkbcommon-x11-0 libxkbfile1 libxtst6 libxxf86dga1 nsight-compute-2022.3.0\n",
            "  nsight-systems-2022.4.2 nvidia-compute-utils-550 nvidia-dkms-550 nvidia-driver-550\n",
            "  nvidia-firmware-550-550.54.15 nvidia-kernel-common-550 nvidia-kernel-source-550 nvidia-prime\n",
            "  nvidia-settings nvidia-utils-550 openjdk-11-jre python3-xkit screen-resolution-extra\n",
            "  systemd-hwe-hwdb udev x11-utils x11-xkb-utils xcvt xfonts-base xfonts-encodings xfonts-utils\n",
            "  xserver-common xserver-xorg-core xserver-xorg-video-nvidia-550\n",
            "The following packages will be upgraded:\n",
            "  libudev1\n",
            "1 upgraded, 123 newly installed, 0 to remove and 45 not upgraded.\n",
            "Need to get 3,039 MB of archives.\n",
            "After this operation, 7,560 MB of additional disk space will be used.\n",
            "Get:1 https://developer.download.nvidia.com/compute/cuda/repos/ubuntu2204/x86_64  cuda-toolkit-11-config-common 11.8.89-1 [16.4 kB]\n",
            "Get:2 https://developer.download.nvidia.com/compute/cuda/repos/ubuntu2204/x86_64  cuda-toolkit-11-8-config-common 11.8.89-1 [16.3 kB]\n",
            "Get:3 https://developer.download.nvidia.com/compute/cuda/repos/ubuntu2204/x86_64  cuda-cudart-11-8 11.8.89-1 [165 kB]\n",
            "Get:4 https://developer.download.nvidia.com/compute/cuda/repos/ubuntu2204/x86_64  cuda-nvrtc-11-8 11.8.89-1 [16.4 MB]\n",
            "Get:5 https://developer.download.nvidia.com/compute/cuda/repos/ubuntu2204/x86_64  libcublas-11-8 11.11.3.6-1 [248 MB]\n",
            "Get:6 http://archive.ubuntu.com/ubuntu jammy/main amd64 liblocale-gettext-perl amd64 1.07-4build3 [17.1 kB]\n",
            "Get:7 http://archive.ubuntu.com/ubuntu jammy/main amd64 keyboard-configuration all 1.205ubuntu3 [206 kB]\n",
            "Get:8 http://archive.ubuntu.com/ubuntu jammy-updates/main amd64 cpp-12 amd64 12.3.0-1ubuntu1~22.04 [10.8 MB]\n",
            "Get:9 http://archive.ubuntu.com/ubuntu jammy-updates/main amd64 libasan8 amd64 12.3.0-1ubuntu1~22.04 [2,442 kB]\n",
            "Get:10 http://archive.ubuntu.com/ubuntu jammy-updates/main amd64 libtsan2 amd64 12.3.0-1ubuntu1~22.04 [2,477 kB]\n",
            "Get:11 http://archive.ubuntu.com/ubuntu jammy-updates/main amd64 libgcc-12-dev amd64 12.3.0-1ubuntu1~22.04 [2,618 kB]\n",
            "Get:12 http://archive.ubuntu.com/ubuntu jammy-updates/main amd64 gcc-12 amd64 12.3.0-1ubuntu1~22.04 [21.7 MB]\n",
            "Get:13 https://developer.download.nvidia.com/compute/cuda/repos/ubuntu2204/x86_64  libcufft-11-8 10.9.0.58-1 [94.2 MB]\n",
            "Get:14 https://developer.download.nvidia.com/compute/cuda/repos/ubuntu2204/x86_64  libcufile-11-8 1.4.0.31-1 [474 kB]\n",
            "Get:15 https://developer.download.nvidia.com/compute/cuda/repos/ubuntu2204/x86_64  libcurand-11-8 10.3.0.86-1 [42.2 MB]\n",
            "Get:16 http://archive.ubuntu.com/ubuntu jammy/main amd64 dctrl-tools amd64 2.24-3build2 [66.9 kB]\n",
            "Get:17 http://archive.ubuntu.com/ubuntu jammy-updates/main amd64 dkms all 2.8.7-2ubuntu2.2 [70.1 kB]\n",
            "Get:18 http://archive.ubuntu.com/ubuntu jammy-updates/main amd64 libudev1 amd64 249.11-0ubuntu3.12 [78.2 kB]\n",
            "Get:19 http://archive.ubuntu.com/ubuntu jammy-updates/main amd64 udev amd64 249.11-0ubuntu3.12 [1,557 kB]\n",
            "Get:20 https://developer.download.nvidia.com/compute/cuda/repos/ubuntu2204/x86_64  libcusolver-11-8 11.4.1.48-1 [52.3 MB]\n",
            "Get:21 http://archive.ubuntu.com/ubuntu jammy/main amd64 libjansson4 amd64 2.13.1-1.1build3 [32.4 kB]\n",
            "Get:22 http://archive.ubuntu.com/ubuntu jammy/main amd64 libxkbfile1 amd64 1:1.1.0-1build3 [71.8 kB]\n",
            "Get:23 https://developer.download.nvidia.com/compute/cuda/repos/ubuntu2204/x86_64  libcusparse-11-8 11.7.5.86-1 [116 MB]\n",
            "Get:24 http://archive.ubuntu.com/ubuntu jammy/main amd64 x11-xkb-utils amd64 7.7+5build4 [172 kB]\n",
            "Get:25 http://archive.ubuntu.com/ubuntu jammy-updates/main amd64 xserver-common all 2:21.1.4-2ubuntu1.7~22.04.10 [28.5 kB]\n",
            "Get:26 http://archive.ubuntu.com/ubuntu jammy/main amd64 libxcvt0 amd64 0.1.1-3 [5,494 B]\n",
            "Get:27 http://archive.ubuntu.com/ubuntu jammy/main amd64 libfontenc1 amd64 1:1.1.4-1build3 [14.7 kB]\n",
            "Get:28 http://archive.ubuntu.com/ubuntu jammy/main amd64 libxfont2 amd64 1:2.0.5-1build1 [94.5 kB]\n",
            "Get:29 http://archive.ubuntu.com/ubuntu jammy-updates/main amd64 xserver-xorg-core amd64 2:21.1.4-2ubuntu1.7~22.04.10 [1,476 kB]\n",
            "Get:30 http://archive.ubuntu.com/ubuntu jammy-updates/universe amd64 libtinfo5 amd64 6.3-2ubuntu0.1 [100 kB]\n",
            "Get:31 http://archive.ubuntu.com/ubuntu jammy/main amd64 libxcb-xinerama0 amd64 1.14-3ubuntu3 [5,414 B]\n",
            "Get:32 http://archive.ubuntu.com/ubuntu jammy/main amd64 libxcb-icccm4 amd64 0.4.1-1.1build2 [11.5 kB]\n",
            "Get:33 https://developer.download.nvidia.com/compute/cuda/repos/ubuntu2204/x86_64  libnpp-11-8 11.8.0.86-1 [102 MB]\n",
            "Get:34 http://archive.ubuntu.com/ubuntu jammy/main amd64 libxcb-util1 amd64 0.4.0-1build2 [11.4 kB]\n",
            "Get:35 http://archive.ubuntu.com/ubuntu jammy/main amd64 libxcb-image0 amd64 0.4.0-2 [11.5 kB]\n",
            "Get:36 http://archive.ubuntu.com/ubuntu jammy/main amd64 libxcb-keysyms1 amd64 0.4.0-1build3 [8,746 B]\n",
            "Get:37 http://archive.ubuntu.com/ubuntu jammy/main amd64 libxcb-render-util0 amd64 0.3.9-1build3 [10.3 kB]\n",
            "Get:38 http://archive.ubuntu.com/ubuntu jammy/main amd64 libxcb-xkb1 amd64 1.14-3ubuntu3 [32.8 kB]\n",
            "Get:39 http://archive.ubuntu.com/ubuntu jammy/main amd64 libxkbcommon-x11-0 amd64 1.4.0-1 [14.4 kB]\n",
            "Get:40 https://developer.download.nvidia.com/compute/cuda/repos/ubuntu2204/x86_64  libnvjpeg-11-8 11.9.0.86-1 [1,865 kB]\n",
            "Get:41 https://developer.download.nvidia.com/compute/cuda/repos/ubuntu2204/x86_64  cuda-libraries-11-8 11.8.0-1 [2,518 B]\n",
            "Get:42 https://developer.download.nvidia.com/compute/cuda/repos/ubuntu2204/x86_64  libnvidia-common-550 550.54.15-0ubuntu1 [17.1 kB]\n",
            "Get:43 https://developer.download.nvidia.com/compute/cuda/repos/ubuntu2204/x86_64  libnvidia-compute-550 550.54.15-0ubuntu1 [49.5 MB]\n",
            "Get:44 http://archive.ubuntu.com/ubuntu jammy/main amd64 libxcb-xinput0 amd64 1.14-3ubuntu3 [34.3 kB]\n",
            "Get:45 http://archive.ubuntu.com/ubuntu jammy/main amd64 default-jre-headless amd64 2:1.11-72build2 [3,042 B]\n",
            "Get:46 http://archive.ubuntu.com/ubuntu jammy/main amd64 libxtst6 amd64 2:1.2.3-1build4 [13.4 kB]\n",
            "Get:47 http://archive.ubuntu.com/ubuntu jammy-updates/main amd64 openjdk-11-jre amd64 11.0.22+7-0ubuntu2~22.04.1 [214 kB]\n",
            "Get:48 http://archive.ubuntu.com/ubuntu jammy/main amd64 default-jre amd64 2:1.11-72build2 [896 B]\n",
            "Get:49 http://archive.ubuntu.com/ubuntu jammy/main amd64 libfakeroot amd64 1.28-1ubuntu1 [31.5 kB]\n",
            "Get:50 http://archive.ubuntu.com/ubuntu jammy/main amd64 fakeroot amd64 1.28-1ubuntu1 [60.4 kB]\n",
            "Get:51 https://developer.download.nvidia.com/compute/cuda/repos/ubuntu2204/x86_64  libnvidia-gl-550 550.54.15-0ubuntu1 [136 MB]\n",
            "Get:52 http://archive.ubuntu.com/ubuntu jammy/main amd64 fonts-dejavu-core all 2.37-2build1 [1,041 kB]\n",
            "Get:53 http://archive.ubuntu.com/ubuntu jammy/main amd64 fonts-dejavu-extra all 2.37-2build1 [2,041 kB]\n",
            "Get:54 http://archive.ubuntu.com/ubuntu jammy/main amd64 libxxf86dga1 amd64 2:1.1.5-0ubuntu3 [12.6 kB]\n",
            "Get:55 http://archive.ubuntu.com/ubuntu jammy/main amd64 x11-utils amd64 7.7+5build2 [206 kB]\n",
            "Get:56 http://archive.ubuntu.com/ubuntu jammy/main amd64 libatk-wrapper-java all 0.38.0-5build1 [53.1 kB]\n",
            "Get:57 http://archive.ubuntu.com/ubuntu jammy/main amd64 libatk-wrapper-java-jni amd64 0.38.0-5build1 [49.0 kB]\n",
            "Get:58 http://archive.ubuntu.com/ubuntu jammy/main amd64 nvidia-prime all 0.8.17.1 [9,956 B]\n",
            "Get:59 http://archive.ubuntu.com/ubuntu jammy/main amd64 python3-xkit all 0.5.0ubuntu5 [18.5 kB]\n",
            "Get:60 http://archive.ubuntu.com/ubuntu jammy/main amd64 screen-resolution-extra all 0.18.2 [4,396 B]\n",
            "Get:61 http://archive.ubuntu.com/ubuntu jammy-updates/main amd64 systemd-hwe-hwdb all 249.11.5 [3,228 B]\n",
            "Get:62 http://archive.ubuntu.com/ubuntu jammy/main amd64 xcvt amd64 0.1.1-3 [7,140 B]\n",
            "Get:63 http://archive.ubuntu.com/ubuntu jammy/main amd64 xfonts-encodings all 1:1.0.5-0ubuntu2 [578 kB]\n",
            "Get:64 http://archive.ubuntu.com/ubuntu jammy/main amd64 xfonts-utils amd64 1:7.7+6build2 [94.6 kB]\n",
            "Get:65 http://archive.ubuntu.com/ubuntu jammy/main amd64 xfonts-base all 1:1.0.5 [5,896 kB]\n",
            "Get:66 https://developer.download.nvidia.com/compute/cuda/repos/ubuntu2204/x86_64  nvidia-kernel-source-550 550.54.15-0ubuntu1 [41.1 MB]\n",
            "Get:67 https://developer.download.nvidia.com/compute/cuda/repos/ubuntu2204/x86_64  nvidia-firmware-550-550.54.15 550.54.15-0ubuntu1 [36.8 MB]\n",
            "Get:68 https://developer.download.nvidia.com/compute/cuda/repos/ubuntu2204/x86_64  nvidia-kernel-common-550 550.54.15-0ubuntu1 [109 kB]\n",
            "Get:69 https://developer.download.nvidia.com/compute/cuda/repos/ubuntu2204/x86_64  nvidia-dkms-550 550.54.15-0ubuntu1 [36.2 kB]\n",
            "Get:70 https://developer.download.nvidia.com/compute/cuda/repos/ubuntu2204/x86_64  libnvidia-extra-550 550.54.15-0ubuntu1 [71.1 kB]\n",
            "Get:71 https://developer.download.nvidia.com/compute/cuda/repos/ubuntu2204/x86_64  nvidia-compute-utils-550 550.54.15-0ubuntu1 [118 kB]\n",
            "Get:72 https://developer.download.nvidia.com/compute/cuda/repos/ubuntu2204/x86_64  libnvidia-decode-550 550.54.15-0ubuntu1 [1,783 kB]\n",
            "Get:73 https://developer.download.nvidia.com/compute/cuda/repos/ubuntu2204/x86_64  libnvidia-encode-550 550.54.15-0ubuntu1 [100 kB]\n",
            "Get:74 https://developer.download.nvidia.com/compute/cuda/repos/ubuntu2204/x86_64  nvidia-utils-550 550.54.15-0ubuntu1 [494 kB]\n",
            "Get:75 https://developer.download.nvidia.com/compute/cuda/repos/ubuntu2204/x86_64  libnvidia-cfg1-550 550.54.15-0ubuntu1 [145 kB]\n",
            "Get:76 https://developer.download.nvidia.com/compute/cuda/repos/ubuntu2204/x86_64  xserver-xorg-video-nvidia-550 550.54.15-0ubuntu1 [1,534 kB]\n",
            "Get:77 https://developer.download.nvidia.com/compute/cuda/repos/ubuntu2204/x86_64  libnvidia-fbc1-550 550.54.15-0ubuntu1 [54.9 kB]\n",
            "Get:78 https://developer.download.nvidia.com/compute/cuda/repos/ubuntu2204/x86_64  nvidia-driver-550 550.54.15-0ubuntu1 [489 kB]\n",
            "Get:79 https://developer.download.nvidia.com/compute/cuda/repos/ubuntu2204/x86_64  cuda-drivers-550 550.54.15-1 [2,542 B]\n",
            "Get:80 https://developer.download.nvidia.com/compute/cuda/repos/ubuntu2204/x86_64  cuda-drivers 550.54.15-1 [2,502 B]\n",
            "Get:81 https://developer.download.nvidia.com/compute/cuda/repos/ubuntu2204/x86_64  cuda-runtime-11-8 11.8.0-1 [2,424 B]\n",
            "Get:82 https://developer.download.nvidia.com/compute/cuda/repos/ubuntu2204/x86_64  cuda-cuobjdump-11-8 11.8.86-1 [165 kB]\n",
            "Get:83 https://developer.download.nvidia.com/compute/cuda/repos/ubuntu2204/x86_64  cuda-cuxxfilt-11-8 11.8.86-1 [189 kB]\n",
            "Get:84 https://developer.download.nvidia.com/compute/cuda/repos/ubuntu2204/x86_64  cuda-cccl-11-8 11.8.89-1 [1,040 kB]\n",
            "Get:85 https://developer.download.nvidia.com/compute/cuda/repos/ubuntu2204/x86_64  cuda-driver-dev-11-8 11.8.89-1 [27.3 kB]\n",
            "Get:86 https://developer.download.nvidia.com/compute/cuda/repos/ubuntu2204/x86_64  cuda-cudart-dev-11-8 11.8.89-1 [820 kB]\n",
            "Get:87 https://developer.download.nvidia.com/compute/cuda/repos/ubuntu2204/x86_64  cuda-nvcc-11-8 11.8.89-1 [43.5 MB]\n",
            "Get:88 https://developer.download.nvidia.com/compute/cuda/repos/ubuntu2204/x86_64  cuda-nvprune-11-8 11.8.86-1 [58.1 kB]\n",
            "Get:89 https://developer.download.nvidia.com/compute/cuda/repos/ubuntu2204/x86_64  cuda-compiler-11-8 11.8.0-1 [2,432 B]\n",
            "Get:90 https://developer.download.nvidia.com/compute/cuda/repos/ubuntu2204/x86_64  cuda-profiler-api-11-8 11.8.86-1 [18.5 kB]\n",
            "Get:91 https://developer.download.nvidia.com/compute/cuda/repos/ubuntu2204/x86_64  cuda-nvrtc-dev-11-8 11.8.89-1 [13.5 MB]\n",
            "Get:92 https://developer.download.nvidia.com/compute/cuda/repos/ubuntu2204/x86_64  libcublas-dev-11-8 11.11.3.6-1 [269 MB]\n",
            "Get:93 https://developer.download.nvidia.com/compute/cuda/repos/ubuntu2204/x86_64  libcufft-dev-11-8 10.9.0.58-1 [189 MB]\n",
            "Get:94 https://developer.download.nvidia.com/compute/cuda/repos/ubuntu2204/x86_64  libcufile-dev-11-8 1.4.0.31-1 [1,062 kB]\n",
            "Get:95 https://developer.download.nvidia.com/compute/cuda/repos/ubuntu2204/x86_64  libcurand-dev-11-8 10.3.0.86-1 [42.9 MB]\n",
            "Get:96 https://developer.download.nvidia.com/compute/cuda/repos/ubuntu2204/x86_64  libcusolver-dev-11-8 11.4.1.48-1 [35.7 MB]\n",
            "Get:97 https://developer.download.nvidia.com/compute/cuda/repos/ubuntu2204/x86_64  libcusparse-dev-11-8 11.7.5.86-1 [116 MB]\n",
            "Get:98 https://developer.download.nvidia.com/compute/cuda/repos/ubuntu2204/x86_64  libnpp-dev-11-8 11.8.0.86-1 [100 MB]\n",
            "Get:99 https://developer.download.nvidia.com/compute/cuda/repos/ubuntu2204/x86_64  libnvjpeg-dev-11-8 11.9.0.86-1 [1,536 kB]\n",
            "Get:100 https://developer.download.nvidia.com/compute/cuda/repos/ubuntu2204/x86_64  cuda-libraries-dev-11-8 11.8.0-1 [2,554 B]\n",
            "Get:101 https://developer.download.nvidia.com/compute/cuda/repos/ubuntu2204/x86_64  cuda-cupti-11-8 11.8.87-1 [15.4 MB]\n",
            "Get:102 https://developer.download.nvidia.com/compute/cuda/repos/ubuntu2204/x86_64  cuda-cupti-dev-11-8 11.8.87-1 [2,552 kB]\n",
            "Get:103 https://developer.download.nvidia.com/compute/cuda/repos/ubuntu2204/x86_64  cuda-nvdisasm-11-8 11.8.86-1 [50.8 MB]\n",
            "Get:104 https://developer.download.nvidia.com/compute/cuda/repos/ubuntu2204/x86_64  cuda-gdb-11-8 11.8.86-1 [4,138 kB]\n",
            "Get:105 https://developer.download.nvidia.com/compute/cuda/repos/ubuntu2204/x86_64  cuda-memcheck-11-8 11.8.86-1 [142 kB]\n",
            "Get:106 https://developer.download.nvidia.com/compute/cuda/repos/ubuntu2204/x86_64  cuda-nvprof-11-8 11.8.87-1 [1,959 kB]\n",
            "Get:107 https://developer.download.nvidia.com/compute/cuda/repos/ubuntu2204/x86_64  cuda-nvtx-11-8 11.8.86-1 [51.3 kB]\n",
            "Get:108 https://developer.download.nvidia.com/compute/cuda/repos/ubuntu2204/x86_64  cuda-sanitizer-11-8 11.8.86-1 [8,784 kB]\n",
            "Get:109 https://developer.download.nvidia.com/compute/cuda/repos/ubuntu2204/x86_64  cuda-command-line-tools-11-8 11.8.0-1 [2,472 B]\n",
            "Get:110 https://developer.download.nvidia.com/compute/cuda/repos/ubuntu2204/x86_64  nsight-compute-2022.3.0 2022.3.0.22-1 [580 MB]\n",
            "Get:111 https://developer.download.nvidia.com/compute/cuda/repos/ubuntu2204/x86_64  cuda-nsight-compute-11-8 11.8.0-1 [3,790 B]\n",
            "Get:112 https://developer.download.nvidia.com/compute/cuda/repos/ubuntu2204/x86_64  nsight-systems-2022.4.2 2022.4.2.50-32196742v0 [286 MB]\n",
            "Get:113 https://developer.download.nvidia.com/compute/cuda/repos/ubuntu2204/x86_64  cuda-nsight-systems-11-8 11.8.0-1 [3,310 B]\n",
            "Get:114 https://developer.download.nvidia.com/compute/cuda/repos/ubuntu2204/x86_64  cuda-nsight-11-8 11.8.86-1 [119 MB]\n",
            "Get:115 https://developer.download.nvidia.com/compute/cuda/repos/ubuntu2204/x86_64  cuda-nvml-dev-11-8 11.8.86-1 [81.4 kB]\n",
            "Get:116 https://developer.download.nvidia.com/compute/cuda/repos/ubuntu2204/x86_64  cuda-nvvp-11-8 11.8.87-1 [114 MB]\n",
            "Get:117 https://developer.download.nvidia.com/compute/cuda/repos/ubuntu2204/x86_64  cuda-visual-tools-11-8 11.8.0-1 [2,870 B]\n",
            "Get:118 https://developer.download.nvidia.com/compute/cuda/repos/ubuntu2204/x86_64  gds-tools-11-8 1.4.0.31-1 [38.7 MB]\n",
            "Get:119 https://developer.download.nvidia.com/compute/cuda/repos/ubuntu2204/x86_64  cuda-tools-11-8 11.8.0-1 [2,390 B]\n",
            "Get:120 https://developer.download.nvidia.com/compute/cuda/repos/ubuntu2204/x86_64  cuda-documentation-11-8 11.8.86-1 [49.8 kB]\n",
            "Get:121 https://developer.download.nvidia.com/compute/cuda/repos/ubuntu2204/x86_64  cuda-toolkit-11-8 11.8.0-1 [3,374 B]\n",
            "Get:122 https://developer.download.nvidia.com/compute/cuda/repos/ubuntu2204/x86_64  cuda-demo-suite-11-8 11.8.86-1 [3,997 kB]\n",
            "Get:123 https://developer.download.nvidia.com/compute/cuda/repos/ubuntu2204/x86_64  cuda-11-8 11.8.0-1 [2,450 B]\n",
            "Get:124 https://developer.download.nvidia.com/compute/cuda/repos/ubuntu2204/x86_64  nvidia-settings 550.54.15-0ubuntu1 [947 kB]\n",
            "Fetched 3,039 MB in 38s (80.7 MB/s)\n",
            "Extracting templates from packages: 100%\n",
            "Preconfiguring packages ...\n",
            "Selecting previously unselected package liblocale-gettext-perl.\n",
            "(Reading database ... 121920 files and directories currently installed.)\n",
            "Preparing to unpack .../0-liblocale-gettext-perl_1.07-4build3_amd64.deb ...\n",
            "Unpacking liblocale-gettext-perl (1.07-4build3) ...\n",
            "Selecting previously unselected package keyboard-configuration.\n",
            "Preparing to unpack .../1-keyboard-configuration_1.205ubuntu3_all.deb ...\n",
            "Unpacking keyboard-configuration (1.205ubuntu3) ...\n",
            "Selecting previously unselected package cpp-12.\n",
            "Preparing to unpack .../2-cpp-12_12.3.0-1ubuntu1~22.04_amd64.deb ...\n",
            "Unpacking cpp-12 (12.3.0-1ubuntu1~22.04) ...\n",
            "Selecting previously unselected package libasan8:amd64.\n",
            "Preparing to unpack .../3-libasan8_12.3.0-1ubuntu1~22.04_amd64.deb ...\n",
            "Unpacking libasan8:amd64 (12.3.0-1ubuntu1~22.04) ...\n",
            "Selecting previously unselected package libtsan2:amd64.\n",
            "Preparing to unpack .../4-libtsan2_12.3.0-1ubuntu1~22.04_amd64.deb ...\n",
            "Unpacking libtsan2:amd64 (12.3.0-1ubuntu1~22.04) ...\n",
            "Selecting previously unselected package libgcc-12-dev:amd64.\n",
            "Preparing to unpack .../5-libgcc-12-dev_12.3.0-1ubuntu1~22.04_amd64.deb ...\n",
            "Unpacking libgcc-12-dev:amd64 (12.3.0-1ubuntu1~22.04) ...\n",
            "Selecting previously unselected package gcc-12.\n",
            "Preparing to unpack .../6-gcc-12_12.3.0-1ubuntu1~22.04_amd64.deb ...\n",
            "Unpacking gcc-12 (12.3.0-1ubuntu1~22.04) ...\n",
            "Selecting previously unselected package dctrl-tools.\n",
            "Preparing to unpack .../7-dctrl-tools_2.24-3build2_amd64.deb ...\n",
            "Unpacking dctrl-tools (2.24-3build2) ...\n",
            "Selecting previously unselected package dkms.\n",
            "Preparing to unpack .../8-dkms_2.8.7-2ubuntu2.2_all.deb ...\n",
            "Unpacking dkms (2.8.7-2ubuntu2.2) ...\n",
            "Preparing to unpack .../9-libudev1_249.11-0ubuntu3.12_amd64.deb ...\n",
            "Unpacking libudev1:amd64 (249.11-0ubuntu3.12) over (249.11-0ubuntu3.10) ...\n",
            "Setting up libudev1:amd64 (249.11-0ubuntu3.12) ...\n",
            "Selecting previously unselected package udev.\n",
            "(Reading database ... 122280 files and directories currently installed.)\n",
            "Preparing to unpack .../000-udev_249.11-0ubuntu3.12_amd64.deb ...\n",
            "Unpacking udev (249.11-0ubuntu3.12) ...\n",
            "Selecting previously unselected package libjansson4:amd64.\n",
            "Preparing to unpack .../001-libjansson4_2.13.1-1.1build3_amd64.deb ...\n",
            "Unpacking libjansson4:amd64 (2.13.1-1.1build3) ...\n",
            "Selecting previously unselected package cuda-toolkit-11-config-common.\n",
            "Preparing to unpack .../002-cuda-toolkit-11-config-common_11.8.89-1_all.deb ...\n",
            "Unpacking cuda-toolkit-11-config-common (11.8.89-1) ...\n",
            "Selecting previously unselected package cuda-toolkit-11-8-config-common.\n",
            "Preparing to unpack .../003-cuda-toolkit-11-8-config-common_11.8.89-1_all.deb ...\n",
            "Unpacking cuda-toolkit-11-8-config-common (11.8.89-1) ...\n",
            "Selecting previously unselected package cuda-cudart-11-8.\n",
            "Preparing to unpack .../004-cuda-cudart-11-8_11.8.89-1_amd64.deb ...\n",
            "Unpacking cuda-cudart-11-8 (11.8.89-1) ...\n",
            "Selecting previously unselected package cuda-nvrtc-11-8.\n",
            "Preparing to unpack .../005-cuda-nvrtc-11-8_11.8.89-1_amd64.deb ...\n",
            "Unpacking cuda-nvrtc-11-8 (11.8.89-1) ...\n",
            "Selecting previously unselected package libcublas-11-8.\n",
            "Preparing to unpack .../006-libcublas-11-8_11.11.3.6-1_amd64.deb ...\n",
            "Unpacking libcublas-11-8 (11.11.3.6-1) ...\n",
            "Selecting previously unselected package libcufft-11-8.\n",
            "Preparing to unpack .../007-libcufft-11-8_10.9.0.58-1_amd64.deb ...\n",
            "Unpacking libcufft-11-8 (10.9.0.58-1) ...\n",
            "Selecting previously unselected package libcufile-11-8.\n",
            "Preparing to unpack .../008-libcufile-11-8_1.4.0.31-1_amd64.deb ...\n",
            "Unpacking libcufile-11-8 (1.4.0.31-1) ...\n",
            "Selecting previously unselected package libcurand-11-8.\n",
            "Preparing to unpack .../009-libcurand-11-8_10.3.0.86-1_amd64.deb ...\n",
            "Unpacking libcurand-11-8 (10.3.0.86-1) ...\n",
            "Selecting previously unselected package libcusolver-11-8.\n",
            "Preparing to unpack .../010-libcusolver-11-8_11.4.1.48-1_amd64.deb ...\n",
            "Unpacking libcusolver-11-8 (11.4.1.48-1) ...\n",
            "Selecting previously unselected package libcusparse-11-8.\n",
            "Preparing to unpack .../011-libcusparse-11-8_11.7.5.86-1_amd64.deb ...\n",
            "Unpacking libcusparse-11-8 (11.7.5.86-1) ...\n",
            "Selecting previously unselected package libnpp-11-8.\n",
            "Preparing to unpack .../012-libnpp-11-8_11.8.0.86-1_amd64.deb ...\n",
            "Unpacking libnpp-11-8 (11.8.0.86-1) ...\n",
            "Selecting previously unselected package libnvjpeg-11-8.\n",
            "Preparing to unpack .../013-libnvjpeg-11-8_11.9.0.86-1_amd64.deb ...\n",
            "Unpacking libnvjpeg-11-8 (11.9.0.86-1) ...\n",
            "Selecting previously unselected package cuda-libraries-11-8.\n",
            "Preparing to unpack .../014-cuda-libraries-11-8_11.8.0-1_amd64.deb ...\n",
            "Unpacking cuda-libraries-11-8 (11.8.0-1) ...\n",
            "Selecting previously unselected package libnvidia-common-550.\n",
            "Preparing to unpack .../015-libnvidia-common-550_550.54.15-0ubuntu1_all.deb ...\n",
            "Unpacking libnvidia-common-550 (550.54.15-0ubuntu1) ...\n",
            "Selecting previously unselected package libnvidia-compute-550:amd64.\n",
            "Preparing to unpack .../016-libnvidia-compute-550_550.54.15-0ubuntu1_amd64.deb ...\n",
            "Unpacking libnvidia-compute-550:amd64 (550.54.15-0ubuntu1) ...\n",
            "Selecting previously unselected package libnvidia-gl-550:amd64.\n",
            "Preparing to unpack .../017-libnvidia-gl-550_550.54.15-0ubuntu1_amd64.deb ...\n",
            "\u001b[1mdpkg-query:\u001b[0m no packages found matching libnvidia-gl-535\n",
            "Unpacking libnvidia-gl-550:amd64 (550.54.15-0ubuntu1) ...\n"
          ]
        }
      ],
      "source": [
        "# Install DeepLabCut\n",
        "!apt update && apt install cuda-11-8\n",
        "!pip install \"deeplabcut[tf]\""
      ]
    },
    {
      "cell_type": "markdown",
      "source": [
        "Import the required libraries"
      ],
      "metadata": {
        "id": "j6XMQTeTCSzk"
      }
    },
    {
      "cell_type": "code",
      "source": [
        "import deeplabcut\n",
        "import pandas as pd\n",
        "import numpy as np\n",
        "import time\n",
        "import seaborn as sns"
      ],
      "metadata": {
        "colab": {
          "base_uri": "https://localhost:8080/"
        },
        "id": "uNrAR8bw7e7Y",
        "outputId": "fa7bcb88-1df5-4f69-d2b3-cebdc59e7f3a"
      },
      "execution_count": 2,
      "outputs": [
        {
          "output_type": "stream",
          "name": "stdout",
          "text": [
            "Loading DLC 2.3.9...\n",
            "DLC loaded in light mode; you cannot use any GUI (labeling, relabeling and standalone GUI)\n"
          ]
        }
      ]
    },
    {
      "cell_type": "markdown",
      "source": [
        "Double Check that the GPU is working"
      ],
      "metadata": {
        "id": "B18wQAY7L9-S"
      }
    },
    {
      "cell_type": "code",
      "source": [
        "from tensorflow.test import is_gpu_available\n",
        "print(f'GPU available: {is_gpu_available()}')"
      ],
      "metadata": {
        "colab": {
          "base_uri": "https://localhost:8080/"
        },
        "id": "ZmIsuXJVLEhx",
        "outputId": "17c55c4c-ee4d-4fda-eb2c-3e000b76d9e5"
      },
      "execution_count": 3,
      "outputs": [
        {
          "output_type": "stream",
          "name": "stdout",
          "text": [
            "GPU available: True\n"
          ]
        }
      ]
    },
    {
      "cell_type": "markdown",
      "source": [
        "Clone the sample data from github and move into the newly-created directory"
      ],
      "metadata": {
        "id": "d9O7VwSiCViY"
      }
    },
    {
      "cell_type": "code",
      "source": [
        "!git clone https://github.com/tlancaster6/DLC_Demo DLC_demo_data\n",
        "%cd /content/DLC_demo_data\n"
      ],
      "metadata": {
        "colab": {
          "base_uri": "https://localhost:8080/"
        },
        "id": "O7PpoeYR9T0G",
        "outputId": "864e9cd6-dee3-4824-ca76-9e5c74f5dcf1"
      },
      "execution_count": 4,
      "outputs": [
        {
          "output_type": "stream",
          "name": "stdout",
          "text": [
            "fatal: destination path 'DLC_demo_data' already exists and is not an empty directory.\n",
            "/content/DLC_demo_data\n"
          ]
        }
      ]
    },
    {
      "cell_type": "markdown",
      "source": [
        "Load demo data"
      ],
      "metadata": {
        "id": "ubbi79p81vek"
      }
    },
    {
      "cell_type": "code",
      "source": [
        "config_path = '/content/DLC_demo_data/config.yaml'\n",
        "deeplabcut.load_demo_data(config_path)"
      ],
      "metadata": {
        "colab": {
          "base_uri": "https://localhost:8080/"
        },
        "id": "zD28VfgV-jmL",
        "outputId": "6ed49e09-0203-4f8a-9edc-2cc4a8cc5e97"
      },
      "execution_count": 5,
      "outputs": [
        {
          "output_type": "stream",
          "name": "stdout",
          "text": [
            "This is not an official demo dataset.\n",
            "Loaded, now creating training data...\n",
            "Utilizing the following graph: [[0, 1], [0, 2], [1, 2]]\n",
            "Creating training data for: Shuffle: 1 TrainFraction:  0.95\n"
          ]
        },
        {
          "output_type": "stream",
          "name": "stderr",
          "text": [
            "100%|██████████| 19/19 [00:00<00:00, 556.18it/s]"
          ]
        },
        {
          "output_type": "stream",
          "name": "stdout",
          "text": [
            "The training dataset is successfully created. Use the function 'train_network' to start training. Happy training!\n"
          ]
        },
        {
          "output_type": "stream",
          "name": "stderr",
          "text": [
            "\n"
          ]
        }
      ]
    },
    {
      "cell_type": "markdown",
      "source": [
        "Train network for 1000 iterations"
      ],
      "metadata": {
        "id": "2Wojbguc10hH"
      }
    },
    {
      "cell_type": "code",
      "source": [
        "epochs = 1000\n",
        "start = time.time()\n",
        "deeplabcut.train_network(config_path, shuffle=1, displayiters=10, saveiters=100, maxiters=epochs)\n",
        "duration = time.time() - start\n",
        "print(f'total training time: {duration} seconds')\n",
        "print(f'time per epoch: {duration/epochs} seconds')"
      ],
      "metadata": {
        "id": "yERWdXfmAVeT",
        "colab": {
          "base_uri": "https://localhost:8080/"
        },
        "outputId": "db1ed12a-d8de-4cae-ec49-9121508378a8"
      },
      "execution_count": 6,
      "outputs": [
        {
          "output_type": "stream",
          "name": "stderr",
          "text": [
            "Config:\n",
            "{'all_joints': [[0], [1], [2]],\n",
            " 'all_joints_names': ['nose', 'dorsal_fin', 'peduncle'],\n",
            " 'alpha_r': 0.02,\n",
            " 'apply_prob': 0.5,\n",
            " 'batch_size': 8,\n",
            " 'contrast': {'clahe': True,\n",
            "              'claheratio': 0.1,\n",
            "              'histeq': True,\n",
            "              'histeqratio': 0.1},\n",
            " 'convolution': {'edge': False,\n",
            "                 'emboss': {'alpha': [0.0, 1.0], 'strength': [0.5, 1.5]},\n",
            "                 'embossratio': 0.1,\n",
            "                 'sharpen': False,\n",
            "                 'sharpenratio': 0.3},\n",
            " 'crop_pad': 0,\n",
            " 'crop_sampling': 'hybrid',\n",
            " 'crop_size': [400, 400],\n",
            " 'cropratio': 0.4,\n",
            " 'dataset': 'training-datasets/iteration-0/UnaugmentedDataSet_DLC_demoOct10/DLC_demo_Tucker95shuffle1.pickle',\n",
            " 'dataset_type': 'multi-animal-imgaug',\n",
            " 'decay_steps': 30000,\n",
            " 'deterministic': False,\n",
            " 'display_iters': 500,\n",
            " 'fg_fraction': 0.25,\n",
            " 'global_scale': 0.8,\n",
            " 'init_weights': '/usr/local/lib/python3.10/dist-packages/deeplabcut/pose_estimation_tensorflow/models/pretrained/resnet_v1_50.ckpt',\n",
            " 'intermediate_supervision': False,\n",
            " 'intermediate_supervision_layer': 12,\n",
            " 'location_refinement': True,\n",
            " 'locref_huber_loss': True,\n",
            " 'locref_loss_weight': 0.05,\n",
            " 'locref_stdev': 7.2801,\n",
            " 'log_dir': 'log',\n",
            " 'lr_init': 0.0005,\n",
            " 'max_input_size': 1500,\n",
            " 'max_shift': 0.4,\n",
            " 'mean_pixel': [123.68, 116.779, 103.939],\n",
            " 'metadataset': 'training-datasets/iteration-0/UnaugmentedDataSet_DLC_demoOct10/Documentation_data-DLC_demo_95shuffle1.pickle',\n",
            " 'min_input_size': 64,\n",
            " 'mirror': False,\n",
            " 'multi_stage': True,\n",
            " 'multi_step': [[0.0001, 7500], [5e-05, 12000], [1e-05, 200000]],\n",
            " 'net_type': 'resnet_50',\n",
            " 'num_idchannel': 2,\n",
            " 'num_joints': 3,\n",
            " 'num_limbs': 3,\n",
            " 'optimizer': 'adam',\n",
            " 'pafwidth': 20,\n",
            " 'pairwise_huber_loss': False,\n",
            " 'pairwise_loss_weight': 0.1,\n",
            " 'pairwise_predict': False,\n",
            " 'partaffinityfield_graph': [[0, 1], [0, 2], [1, 2]],\n",
            " 'partaffinityfield_predict': True,\n",
            " 'pos_dist_thresh': 17,\n",
            " 'pre_resize': [],\n",
            " 'project_path': '/content/DLC_demo_data',\n",
            " 'regularize': False,\n",
            " 'rotation': 25,\n",
            " 'rotratio': 0.4,\n",
            " 'save_iters': 10000,\n",
            " 'scale_jitter_lo': 0.5,\n",
            " 'scale_jitter_up': 1.25,\n",
            " 'scoremap_dir': 'test',\n",
            " 'shuffle': True,\n",
            " 'snapshot_prefix': '/content/DLC_demo_data/dlc-models/iteration-0/DLC_demoOct10-trainset95shuffle1/train/snapshot',\n",
            " 'stride': 8.0,\n",
            " 'weigh_negatives': False,\n",
            " 'weigh_only_present_joints': False,\n",
            " 'weigh_part_predictions': False,\n",
            " 'weight_decay': 0.0001}\n"
          ]
        },
        {
          "output_type": "stream",
          "name": "stdout",
          "text": [
            "Selecting multi-animal trainer\n",
            "Activating limb prediction...\n",
            "Batch Size is 8\n",
            "Getting specs multi-animal-imgaug 3 3\n"
          ]
        },
        {
          "output_type": "stream",
          "name": "stderr",
          "text": [
            "/usr/local/lib/python3.10/dist-packages/tensorflow/python/keras/engine/base_layer_v1.py:1694: UserWarning: `layer.apply` is deprecated and will be removed in a future version. Please use `layer.__call__` method instead.\n",
            "  warnings.warn('`layer.apply` is deprecated and '\n"
          ]
        },
        {
          "output_type": "stream",
          "name": "stdout",
          "text": [
            "Loading ImageNet-pretrained resnet_50\n",
            "Max_iters overwritten as 1000\n",
            "Display_iters overwritten as 10\n",
            "Save_iters overwritten as 100\n",
            "Training parameters:\n",
            "{'stride': 8.0, 'weigh_part_predictions': False, 'weigh_negatives': False, 'fg_fraction': 0.25, 'mean_pixel': [123.68, 116.779, 103.939], 'shuffle': True, 'snapshot_prefix': '/content/DLC_demo_data/dlc-models/iteration-0/DLC_demoOct10-trainset95shuffle1/train/snapshot', 'log_dir': 'log', 'global_scale': 0.8, 'location_refinement': True, 'locref_stdev': 7.2801, 'locref_loss_weight': 0.05, 'locref_huber_loss': True, 'optimizer': 'adam', 'intermediate_supervision': False, 'intermediate_supervision_layer': 12, 'regularize': False, 'weight_decay': 0.0001, 'crop_pad': 0, 'scoremap_dir': 'test', 'batch_size': 8, 'dataset_type': 'multi-animal-imgaug', 'deterministic': False, 'mirror': False, 'pairwise_huber_loss': False, 'weigh_only_present_joints': False, 'partaffinityfield_predict': True, 'pairwise_predict': True, 'all_joints': [[0], [1], [2]], 'all_joints_names': ['nose', 'dorsal_fin', 'peduncle'], 'alpha_r': 0.02, 'apply_prob': 0.5, 'contrast': {'clahe': True, 'claheratio': 0.1, 'histeq': True, 'histeqratio': 0.1, 'gamma': False, 'sigmoid': False, 'log': False, 'linear': False}, 'convolution': {'edge': False, 'emboss': {'alpha': [0.0, 1.0], 'strength': [0.5, 1.5]}, 'embossratio': 0.1, 'sharpen': False, 'sharpenratio': 0.3}, 'crop_sampling': 'hybrid', 'crop_size': [400, 400], 'cropratio': 0.4, 'dataset': 'training-datasets/iteration-0/UnaugmentedDataSet_DLC_demoOct10/DLC_demo_Tucker95shuffle1.pickle', 'decay_steps': 30000, 'display_iters': 500, 'init_weights': '/usr/local/lib/python3.10/dist-packages/deeplabcut/pose_estimation_tensorflow/models/pretrained/resnet_v1_50.ckpt', 'lr_init': 0.0005, 'max_input_size': 1500, 'max_shift': 0.4, 'metadataset': 'training-datasets/iteration-0/UnaugmentedDataSet_DLC_demoOct10/Documentation_data-DLC_demo_95shuffle1.pickle', 'min_input_size': 64, 'multi_stage': True, 'multi_step': [[0.0001, 7500], [5e-05, 12000], [1e-05, 200000]], 'net_type': 'resnet_50', 'num_idchannel': 2, 'num_joints': 3, 'num_limbs': 3, 'pafwidth': 20, 'pairwise_loss_weight': 0.1, 'partaffinityfield_graph': [[0, 1], [0, 2], [1, 2]], 'pos_dist_thresh': 17, 'pre_resize': [], 'project_path': '/content/DLC_demo_data', 'rotation': 25, 'rotratio': 0.4, 'save_iters': 10000, 'scale_jitter_lo': 0.5, 'scale_jitter_up': 1.25, 'pseudo_threshold': 0.1, 'video_path': '', 'traintime_resize': False}\n",
            "Starting multi-animal training....\n"
          ]
        },
        {
          "output_type": "stream",
          "name": "stderr",
          "text": [
            "iteration: 10 loss: 0.3534 scmap loss: 0.2689 locref loss: 0.0159 limb loss: 0.0685 lr: 0.0001\n",
            "iteration: 20 loss: 0.0616 scmap loss: 0.0403 locref loss: 0.0052 limb loss: 0.0161 lr: 0.0001\n",
            "iteration: 30 loss: 0.0407 scmap loss: 0.0314 locref loss: 0.0026 limb loss: 0.0068 lr: 0.0001\n",
            "iteration: 40 loss: 0.0356 scmap loss: 0.0293 locref loss: 0.0018 limb loss: 0.0046 lr: 0.0001\n",
            "iteration: 50 loss: 0.0303 scmap loss: 0.0252 locref loss: 0.0013 limb loss: 0.0038 lr: 0.0001\n",
            "iteration: 60 loss: 0.0314 scmap loss: 0.0273 locref loss: 0.0010 limb loss: 0.0031 lr: 0.0001\n",
            "iteration: 70 loss: 0.0245 scmap loss: 0.0212 locref loss: 0.0009 limb loss: 0.0025 lr: 0.0001\n",
            "iteration: 80 loss: 0.0243 scmap loss: 0.0213 locref loss: 0.0008 limb loss: 0.0023 lr: 0.0001\n",
            "iteration: 90 loss: 0.0256 scmap loss: 0.0226 locref loss: 0.0007 limb loss: 0.0023 lr: 0.0001\n",
            "iteration: 100 loss: 0.0249 scmap loss: 0.0224 locref loss: 0.0006 limb loss: 0.0019 lr: 0.0001\n",
            "iteration: 110 loss: 0.0220 scmap loss: 0.0195 locref loss: 0.0006 limb loss: 0.0019 lr: 0.0001\n",
            "iteration: 120 loss: 0.0266 scmap loss: 0.0239 locref loss: 0.0006 limb loss: 0.0022 lr: 0.0001\n",
            "iteration: 130 loss: 0.0234 scmap loss: 0.0211 locref loss: 0.0005 limb loss: 0.0018 lr: 0.0001\n",
            "iteration: 140 loss: 0.0261 scmap loss: 0.0237 locref loss: 0.0005 limb loss: 0.0019 lr: 0.0001\n",
            "iteration: 150 loss: 0.0225 scmap loss: 0.0203 locref loss: 0.0005 limb loss: 0.0017 lr: 0.0001\n",
            "iteration: 160 loss: 0.0224 scmap loss: 0.0202 locref loss: 0.0005 limb loss: 0.0017 lr: 0.0001\n",
            "iteration: 170 loss: 0.0245 scmap loss: 0.0223 locref loss: 0.0005 limb loss: 0.0017 lr: 0.0001\n",
            "iteration: 180 loss: 0.0186 scmap loss: 0.0165 locref loss: 0.0004 limb loss: 0.0017 lr: 0.0001\n",
            "iteration: 190 loss: 0.0202 scmap loss: 0.0181 locref loss: 0.0004 limb loss: 0.0016 lr: 0.0001\n",
            "iteration: 200 loss: 0.0215 scmap loss: 0.0197 locref loss: 0.0004 limb loss: 0.0014 lr: 0.0001\n",
            "iteration: 210 loss: 0.0216 scmap loss: 0.0198 locref loss: 0.0004 limb loss: 0.0014 lr: 0.0001\n",
            "iteration: 220 loss: 0.0202 scmap loss: 0.0185 locref loss: 0.0004 limb loss: 0.0013 lr: 0.0001\n",
            "iteration: 230 loss: 0.0168 scmap loss: 0.0152 locref loss: 0.0003 limb loss: 0.0013 lr: 0.0001\n",
            "iteration: 240 loss: 0.0192 scmap loss: 0.0176 locref loss: 0.0004 limb loss: 0.0013 lr: 0.0001\n",
            "iteration: 250 loss: 0.0189 scmap loss: 0.0174 locref loss: 0.0004 limb loss: 0.0012 lr: 0.0001\n",
            "iteration: 260 loss: 0.0182 scmap loss: 0.0166 locref loss: 0.0004 limb loss: 0.0013 lr: 0.0001\n",
            "iteration: 270 loss: 0.0219 scmap loss: 0.0198 locref loss: 0.0004 limb loss: 0.0017 lr: 0.0001\n",
            "iteration: 280 loss: 0.0184 scmap loss: 0.0166 locref loss: 0.0004 limb loss: 0.0015 lr: 0.0001\n",
            "iteration: 290 loss: 0.0147 scmap loss: 0.0130 locref loss: 0.0003 limb loss: 0.0013 lr: 0.0001\n",
            "iteration: 300 loss: 0.0164 scmap loss: 0.0148 locref loss: 0.0003 limb loss: 0.0012 lr: 0.0001\n",
            "iteration: 310 loss: 0.0177 scmap loss: 0.0162 locref loss: 0.0003 limb loss: 0.0012 lr: 0.0001\n",
            "iteration: 320 loss: 0.0168 scmap loss: 0.0152 locref loss: 0.0004 limb loss: 0.0012 lr: 0.0001\n",
            "iteration: 330 loss: 0.0153 scmap loss: 0.0137 locref loss: 0.0003 limb loss: 0.0012 lr: 0.0001\n",
            "iteration: 340 loss: 0.0167 scmap loss: 0.0151 locref loss: 0.0004 limb loss: 0.0012 lr: 0.0001\n",
            "iteration: 350 loss: 0.0162 scmap loss: 0.0148 locref loss: 0.0004 limb loss: 0.0010 lr: 0.0001\n",
            "iteration: 360 loss: 0.0158 scmap loss: 0.0138 locref loss: 0.0004 limb loss: 0.0016 lr: 0.0001\n",
            "iteration: 370 loss: 0.0142 scmap loss: 0.0126 locref loss: 0.0003 limb loss: 0.0013 lr: 0.0001\n",
            "iteration: 380 loss: 0.0138 scmap loss: 0.0123 locref loss: 0.0003 limb loss: 0.0011 lr: 0.0001\n",
            "iteration: 390 loss: 0.0142 scmap loss: 0.0127 locref loss: 0.0003 limb loss: 0.0011 lr: 0.0001\n",
            "iteration: 400 loss: 0.0161 scmap loss: 0.0143 locref loss: 0.0004 limb loss: 0.0014 lr: 0.0001\n",
            "iteration: 410 loss: 0.0155 scmap loss: 0.0136 locref loss: 0.0004 limb loss: 0.0016 lr: 0.0001\n",
            "iteration: 420 loss: 0.0148 scmap loss: 0.0131 locref loss: 0.0004 limb loss: 0.0013 lr: 0.0001\n",
            "iteration: 430 loss: 0.0153 scmap loss: 0.0132 locref loss: 0.0004 limb loss: 0.0017 lr: 0.0001\n",
            "iteration: 440 loss: 0.0134 scmap loss: 0.0119 locref loss: 0.0003 limb loss: 0.0012 lr: 0.0001\n",
            "iteration: 450 loss: 0.0136 scmap loss: 0.0120 locref loss: 0.0003 limb loss: 0.0013 lr: 0.0001\n",
            "iteration: 460 loss: 0.0122 scmap loss: 0.0107 locref loss: 0.0003 limb loss: 0.0012 lr: 0.0001\n",
            "iteration: 470 loss: 0.0127 scmap loss: 0.0111 locref loss: 0.0003 limb loss: 0.0012 lr: 0.0001\n",
            "iteration: 480 loss: 0.0130 scmap loss: 0.0111 locref loss: 0.0004 limb loss: 0.0015 lr: 0.0001\n",
            "iteration: 490 loss: 0.0114 scmap loss: 0.0100 locref loss: 0.0003 limb loss: 0.0011 lr: 0.0001\n",
            "iteration: 500 loss: 0.0112 scmap loss: 0.0098 locref loss: 0.0003 limb loss: 0.0010 lr: 0.0001\n",
            "iteration: 510 loss: 0.0125 scmap loss: 0.0107 locref loss: 0.0004 limb loss: 0.0015 lr: 0.0001\n",
            "iteration: 520 loss: 0.0095 scmap loss: 0.0082 locref loss: 0.0003 limb loss: 0.0011 lr: 0.0001\n",
            "iteration: 530 loss: 0.0106 scmap loss: 0.0091 locref loss: 0.0003 limb loss: 0.0012 lr: 0.0001\n",
            "iteration: 540 loss: 0.0119 scmap loss: 0.0104 locref loss: 0.0003 limb loss: 0.0011 lr: 0.0001\n",
            "iteration: 550 loss: 0.0116 scmap loss: 0.0101 locref loss: 0.0003 limb loss: 0.0011 lr: 0.0001\n",
            "iteration: 560 loss: 0.0086 scmap loss: 0.0074 locref loss: 0.0003 limb loss: 0.0010 lr: 0.0001\n",
            "iteration: 570 loss: 0.0098 scmap loss: 0.0086 locref loss: 0.0003 limb loss: 0.0010 lr: 0.0001\n",
            "iteration: 580 loss: 0.0079 scmap loss: 0.0069 locref loss: 0.0003 limb loss: 0.0007 lr: 0.0001\n",
            "iteration: 590 loss: 0.0096 scmap loss: 0.0085 locref loss: 0.0003 limb loss: 0.0008 lr: 0.0001\n",
            "iteration: 600 loss: 0.0091 scmap loss: 0.0080 locref loss: 0.0003 limb loss: 0.0009 lr: 0.0001\n",
            "iteration: 610 loss: 0.0099 scmap loss: 0.0085 locref loss: 0.0003 limb loss: 0.0011 lr: 0.0001\n",
            "iteration: 620 loss: 0.0123 scmap loss: 0.0106 locref loss: 0.0004 limb loss: 0.0013 lr: 0.0001\n",
            "iteration: 630 loss: 0.0113 scmap loss: 0.0097 locref loss: 0.0004 limb loss: 0.0013 lr: 0.0001\n",
            "iteration: 640 loss: 0.0129 scmap loss: 0.0109 locref loss: 0.0004 limb loss: 0.0017 lr: 0.0001\n",
            "iteration: 650 loss: 0.0086 scmap loss: 0.0071 locref loss: 0.0003 limb loss: 0.0012 lr: 0.0001\n",
            "iteration: 660 loss: 0.0092 scmap loss: 0.0077 locref loss: 0.0003 limb loss: 0.0011 lr: 0.0001\n",
            "iteration: 670 loss: 0.0087 scmap loss: 0.0075 locref loss: 0.0003 limb loss: 0.0009 lr: 0.0001\n",
            "iteration: 680 loss: 0.0092 scmap loss: 0.0079 locref loss: 0.0003 limb loss: 0.0011 lr: 0.0001\n",
            "iteration: 690 loss: 0.0088 scmap loss: 0.0076 locref loss: 0.0003 limb loss: 0.0009 lr: 0.0001\n",
            "iteration: 700 loss: 0.0077 scmap loss: 0.0068 locref loss: 0.0003 limb loss: 0.0007 lr: 0.0001\n",
            "iteration: 710 loss: 0.0086 scmap loss: 0.0074 locref loss: 0.0003 limb loss: 0.0009 lr: 0.0001\n",
            "iteration: 720 loss: 0.0079 scmap loss: 0.0069 locref loss: 0.0003 limb loss: 0.0008 lr: 0.0001\n",
            "iteration: 730 loss: 0.0083 scmap loss: 0.0071 locref loss: 0.0003 limb loss: 0.0010 lr: 0.0001\n",
            "iteration: 740 loss: 0.0062 scmap loss: 0.0053 locref loss: 0.0002 limb loss: 0.0006 lr: 0.0001\n",
            "iteration: 750 loss: 0.0095 scmap loss: 0.0081 locref loss: 0.0003 limb loss: 0.0011 lr: 0.0001\n",
            "iteration: 760 loss: 0.0078 scmap loss: 0.0068 locref loss: 0.0002 limb loss: 0.0007 lr: 0.0001\n",
            "iteration: 770 loss: 0.0104 scmap loss: 0.0090 locref loss: 0.0003 limb loss: 0.0010 lr: 0.0001\n",
            "iteration: 780 loss: 0.0080 scmap loss: 0.0069 locref loss: 0.0003 limb loss: 0.0008 lr: 0.0001\n",
            "iteration: 790 loss: 0.0074 scmap loss: 0.0063 locref loss: 0.0002 limb loss: 0.0008 lr: 0.0001\n",
            "iteration: 800 loss: 0.0077 scmap loss: 0.0068 locref loss: 0.0002 limb loss: 0.0007 lr: 0.0001\n",
            "iteration: 810 loss: 0.0064 scmap loss: 0.0057 locref loss: 0.0002 limb loss: 0.0005 lr: 0.0001\n",
            "iteration: 820 loss: 0.0065 scmap loss: 0.0055 locref loss: 0.0002 limb loss: 0.0007 lr: 0.0001\n",
            "iteration: 830 loss: 0.0070 scmap loss: 0.0060 locref loss: 0.0002 limb loss: 0.0007 lr: 0.0001\n",
            "iteration: 840 loss: 0.0071 scmap loss: 0.0062 locref loss: 0.0002 limb loss: 0.0007 lr: 0.0001\n",
            "iteration: 850 loss: 0.0090 scmap loss: 0.0080 locref loss: 0.0002 limb loss: 0.0007 lr: 0.0001\n",
            "iteration: 860 loss: 0.0079 scmap loss: 0.0070 locref loss: 0.0002 limb loss: 0.0007 lr: 0.0001\n",
            "iteration: 870 loss: 0.0083 scmap loss: 0.0074 locref loss: 0.0002 limb loss: 0.0007 lr: 0.0001\n",
            "iteration: 880 loss: 0.0066 scmap loss: 0.0056 locref loss: 0.0002 limb loss: 0.0007 lr: 0.0001\n",
            "iteration: 890 loss: 0.0078 scmap loss: 0.0067 locref loss: 0.0003 limb loss: 0.0009 lr: 0.0001\n",
            "iteration: 900 loss: 0.0079 scmap loss: 0.0067 locref loss: 0.0003 limb loss: 0.0009 lr: 0.0001\n",
            "iteration: 910 loss: 0.0078 scmap loss: 0.0068 locref loss: 0.0002 limb loss: 0.0007 lr: 0.0001\n",
            "iteration: 920 loss: 0.0072 scmap loss: 0.0061 locref loss: 0.0002 limb loss: 0.0009 lr: 0.0001\n",
            "iteration: 930 loss: 0.0077 scmap loss: 0.0068 locref loss: 0.0002 limb loss: 0.0007 lr: 0.0001\n",
            "iteration: 940 loss: 0.0079 scmap loss: 0.0071 locref loss: 0.0002 limb loss: 0.0006 lr: 0.0001\n",
            "iteration: 950 loss: 0.0096 scmap loss: 0.0084 locref loss: 0.0003 limb loss: 0.0010 lr: 0.0001\n",
            "iteration: 960 loss: 0.0074 scmap loss: 0.0065 locref loss: 0.0002 limb loss: 0.0007 lr: 0.0001\n",
            "iteration: 970 loss: 0.0069 scmap loss: 0.0060 locref loss: 0.0002 limb loss: 0.0007 lr: 0.0001\n",
            "iteration: 980 loss: 0.0066 scmap loss: 0.0058 locref loss: 0.0002 limb loss: 0.0006 lr: 0.0001\n",
            "iteration: 990 loss: 0.0074 scmap loss: 0.0065 locref loss: 0.0002 limb loss: 0.0007 lr: 0.0001\n",
            "iteration: 1000 loss: 0.0074 scmap loss: 0.0064 locref loss: 0.0002 limb loss: 0.0007 lr: 0.0001\n",
            "Exception in thread Thread-11 (load_and_enqueue):\n",
            "Traceback (most recent call last):\n",
            "  File \"/usr/lib/python3.10/threading.py\", line 1016, in _bootstrap_inner\n",
            "    self.run()\n",
            "  File \"/usr/lib/python3.10/threading.py\", line 953, in run\n",
            "    self._target(*self._args, **self._kwargs)\n",
            "  File \"/usr/local/lib/python3.10/dist-packages/deeplabcut/pose_estimation_tensorflow/core/train.py\", line 86, in load_and_enqueue\n",
            "    sess.run(enqueue_op, feed_dict=food)\n",
            "  File \"/usr/local/lib/python3.10/dist-packages/tensorflow/python/client/session.py\", line 968, in run\n",
            "    result = self._run(None, fetches, feed_dict, options_ptr,\n",
            "  File \"/usr/local/lib/python3.10/dist-packages/tensorflow/python/client/session.py\", line 1116, in _run\n",
            "    raise RuntimeError('Attempted to use a closed Session.')\n",
            "RuntimeError: Attempted to use a closed Session.\n"
          ]
        },
        {
          "output_type": "stream",
          "name": "stdout",
          "text": [
            "The network is now trained and ready to evaluate. Use the function 'evaluate_network' to evaluate the network.\n",
            "total training time: 367.2646412849426 seconds\n",
            "time per epoch: 0.36726464128494263 seconds\n"
          ]
        }
      ]
    },
    {
      "cell_type": "markdown",
      "source": [
        "Evaluate the network"
      ],
      "metadata": {
        "id": "r90MP7vc00yB"
      }
    },
    {
      "cell_type": "code",
      "source": [
        "deeplabcut.evaluate_network(config_path, Shuffles=[1])"
      ],
      "metadata": {
        "colab": {
          "base_uri": "https://localhost:8080/"
        },
        "id": "cnWa18_Z0zHI",
        "outputId": "7b716ab1-6091-4d54-c411-8562cb92650e"
      },
      "execution_count": 7,
      "outputs": [
        {
          "output_type": "stream",
          "name": "stderr",
          "text": [
            "Config:\n",
            "{'all_joints': [[0], [1], [2]],\n",
            " 'all_joints_names': ['nose', 'dorsal_fin', 'peduncle'],\n",
            " 'batch_size': 1,\n",
            " 'crop_pad': 0,\n",
            " 'dataset': 'training-datasets/iteration-0/UnaugmentedDataSet_DLC_demoOct10/DLC_demo_Tucker95shuffle1.pickle',\n",
            " 'dataset_type': 'multi-animal-imgaug',\n",
            " 'deterministic': False,\n",
            " 'fg_fraction': 0.25,\n",
            " 'global_scale': 0.8,\n",
            " 'init_weights': '/usr/local/lib/python3.10/dist-packages/deeplabcut/pose_estimation_tensorflow/models/pretrained/resnet_v1_50.ckpt',\n",
            " 'intermediate_supervision': False,\n",
            " 'intermediate_supervision_layer': 12,\n",
            " 'location_refinement': True,\n",
            " 'locref_huber_loss': True,\n",
            " 'locref_loss_weight': 1.0,\n",
            " 'locref_smooth': False,\n",
            " 'locref_stdev': 7.2801,\n",
            " 'log_dir': 'log',\n",
            " 'mean_pixel': [123.68, 116.779, 103.939],\n",
            " 'minconfidence': 0.01,\n",
            " 'mirror': False,\n",
            " 'multi_stage': True,\n",
            " 'net_type': 'resnet_50',\n",
            " 'nmsradius': 5.0,\n",
            " 'num_idchannel': 2,\n",
            " 'num_joints': 3,\n",
            " 'num_limbs': 3,\n",
            " 'optimizer': 'sgd',\n",
            " 'pairwise_huber_loss': True,\n",
            " 'pairwise_predict': False,\n",
            " 'partaffinityfield_graph': [[0, 1], [0, 2], [1, 2]],\n",
            " 'partaffinityfield_predict': True,\n",
            " 'regularize': False,\n",
            " 'scoremap_dir': 'test',\n",
            " 'shuffle': True,\n",
            " 'sigma': 1,\n",
            " 'snapshot_prefix': '/content/DLC_demo_data/dlc-models/iteration-0/DLC_demoOct10-trainset95shuffle1/test/snapshot',\n",
            " 'stride': 8.0,\n",
            " 'weigh_negatives': False,\n",
            " 'weigh_only_present_joints': False,\n",
            " 'weigh_part_predictions': False,\n",
            " 'weight_decay': 0.0001}\n",
            "Config:\n",
            "{'all_joints': [[0], [1], [2]],\n",
            " 'all_joints_names': ['nose', 'dorsal_fin', 'peduncle'],\n",
            " 'alpha_r': 0.02,\n",
            " 'apply_prob': 0.5,\n",
            " 'batch_size': 8,\n",
            " 'contrast': {'clahe': True,\n",
            "              'claheratio': 0.1,\n",
            "              'histeq': True,\n",
            "              'histeqratio': 0.1},\n",
            " 'convolution': {'edge': False,\n",
            "                 'emboss': {'alpha': [0.0, 1.0], 'strength': [0.5, 1.5]},\n",
            "                 'embossratio': 0.1,\n",
            "                 'sharpen': False,\n",
            "                 'sharpenratio': 0.3},\n",
            " 'crop_pad': 0,\n",
            " 'crop_sampling': 'hybrid',\n",
            " 'crop_size': [400, 400],\n",
            " 'cropratio': 0.4,\n",
            " 'dataset': 'training-datasets/iteration-0/UnaugmentedDataSet_DLC_demoOct10/DLC_demo_Tucker95shuffle1.pickle',\n",
            " 'dataset_type': 'multi-animal-imgaug',\n",
            " 'decay_steps': 30000,\n",
            " 'deterministic': False,\n",
            " 'display_iters': 500,\n",
            " 'fg_fraction': 0.25,\n",
            " 'global_scale': 0.8,\n",
            " 'init_weights': '/usr/local/lib/python3.10/dist-packages/deeplabcut/pose_estimation_tensorflow/models/pretrained/resnet_v1_50.ckpt',\n",
            " 'intermediate_supervision': False,\n",
            " 'intermediate_supervision_layer': 12,\n",
            " 'location_refinement': True,\n",
            " 'locref_huber_loss': True,\n",
            " 'locref_loss_weight': 0.05,\n",
            " 'locref_stdev': 7.2801,\n",
            " 'log_dir': 'log',\n",
            " 'lr_init': 0.0005,\n",
            " 'max_input_size': 1500,\n",
            " 'max_shift': 0.4,\n",
            " 'mean_pixel': [123.68, 116.779, 103.939],\n",
            " 'metadataset': 'training-datasets/iteration-0/UnaugmentedDataSet_DLC_demoOct10/Documentation_data-DLC_demo_95shuffle1.pickle',\n",
            " 'min_input_size': 64,\n",
            " 'mirror': False,\n",
            " 'multi_stage': True,\n",
            " 'multi_step': [[0.0001, 7500], [5e-05, 12000], [1e-05, 200000]],\n",
            " 'net_type': 'resnet_50',\n",
            " 'num_idchannel': 2,\n",
            " 'num_joints': 3,\n",
            " 'num_limbs': 3,\n",
            " 'optimizer': 'adam',\n",
            " 'pafwidth': 20,\n",
            " 'pairwise_huber_loss': False,\n",
            " 'pairwise_loss_weight': 0.1,\n",
            " 'pairwise_predict': False,\n",
            " 'partaffinityfield_graph': [[0, 1], [0, 2], [1, 2]],\n",
            " 'partaffinityfield_predict': True,\n",
            " 'pos_dist_thresh': 17,\n",
            " 'pre_resize': [],\n",
            " 'project_path': '/content/DLC_demo_data',\n",
            " 'regularize': False,\n",
            " 'rotation': 25,\n",
            " 'rotratio': 0.4,\n",
            " 'save_iters': 10000,\n",
            " 'scale_jitter_lo': 0.5,\n",
            " 'scale_jitter_up': 1.25,\n",
            " 'scoremap_dir': 'test',\n",
            " 'shuffle': True,\n",
            " 'snapshot_prefix': '/content/DLC_demo_data/dlc-models/iteration-0/DLC_demoOct10-trainset95shuffle1/train/snapshot',\n",
            " 'stride': 8.0,\n",
            " 'weigh_negatives': False,\n",
            " 'weigh_only_present_joints': False,\n",
            " 'weigh_part_predictions': False,\n",
            " 'weight_decay': 0.0001}\n",
            "/usr/local/lib/python3.10/dist-packages/tensorflow/python/keras/engine/base_layer_v1.py:1694: UserWarning: `layer.apply` is deprecated and will be removed in a future version. Please use `layer.__call__` method instead.\n",
            "  warnings.warn('`layer.apply` is deprecated and '\n"
          ]
        },
        {
          "output_type": "stream",
          "name": "stdout",
          "text": [
            "Running  DLC_dlcrnetms5_DLC_demoOct10shuffle1_1000  with # of trainingiterations: 1000\n",
            "Activating extracting of PAFs\n",
            "Network Evaluation underway...\n"
          ]
        },
        {
          "output_type": "stream",
          "name": "stderr",
          "text": [
            "20it [00:03,  6.00it/s]\n"
          ]
        },
        {
          "output_type": "stream",
          "name": "stdout",
          "text": [
            "Results for 1000 training iterations, training fraction of 95, and shuffle 1:\n",
            "Train error: 3.14 pixels. Test error: 4.63 pixels.\n",
            "With pcutoff of 0.6:\n",
            "Train error: 3.1 pixels. Test error: 4.63 pixels.\n",
            "##########################################\n",
            "Average Euclidean distance to GT per individual (in pixels; test-only)\n",
            "individuals\n",
            "female    5.15504\n",
            "male      4.10412\n",
            "Average Euclidean distance to GT per bodypart (in pixels; test-only)\n",
            "bodyparts\n",
            "dorsal_fin    4.314178\n",
            "nose          5.393647\n",
            "peduncle      4.180915\n",
            "Done and results stored for snapshot:  snapshot-1000\n",
            "Selecting best skeleton...\n",
            "Graph 1|2\n"
          ]
        },
        {
          "output_type": "stream",
          "name": "stderr",
          "text": [
            "100%|██████████| 20/20 [00:00<00:00, 539.99it/s]\n",
            "100%|██████████| 19/19 [00:00<00:00, 1456.54it/s]\n",
            "100%|██████████| 1/1 [00:00<00:00, 551.01it/s]\n",
            "100%|██████████| 20/20 [00:00<00:00, 1884.06it/s]"
          ]
        },
        {
          "output_type": "stream",
          "name": "stdout",
          "text": [
            "Graph 2|2\n"
          ]
        },
        {
          "output_type": "stream",
          "name": "stderr",
          "text": [
            "\n",
            "100%|██████████| 20/20 [00:00<00:00, 444.23it/s]\n",
            "100%|██████████| 19/19 [00:00<00:00, 1594.57it/s]\n",
            "100%|██████████| 1/1 [00:00<00:00, 561.71it/s]\n",
            "100%|██████████| 20/20 [00:00<00:00, 1889.45it/s]\n"
          ]
        }
      ]
    },
    {
      "cell_type": "markdown",
      "source": [
        "Perform pose estimation and tracking on the sample video clip"
      ],
      "metadata": {
        "id": "U0XIlYc716Dm"
      }
    },
    {
      "cell_type": "code",
      "source": [
        "video_path = '/content/DLC_demo_data/videos/BHVE_group1_097200-098999.mp4'\n",
        "deeplabcut.analyze_videos(config_path,[video_path], shuffle=1, videotype=\"mp4\", auto_track=True)"
      ],
      "metadata": {
        "colab": {
          "base_uri": "https://localhost:8080/",
          "height": 1000
        },
        "id": "xR156-1PCxJB",
        "outputId": "3f50f9d3-e821-4fd1-c599-6dd6d17a944d"
      },
      "execution_count": 8,
      "outputs": [
        {
          "output_type": "stream",
          "name": "stderr",
          "text": [
            "Config:\n",
            "{'all_joints': [[0], [1], [2]],\n",
            " 'all_joints_names': ['nose', 'dorsal_fin', 'peduncle'],\n",
            " 'batch_size': 1,\n",
            " 'crop_pad': 0,\n",
            " 'dataset': 'training-datasets/iteration-0/UnaugmentedDataSet_DLC_demoOct10/DLC_demo_Tucker95shuffle1.pickle',\n",
            " 'dataset_type': 'multi-animal-imgaug',\n",
            " 'deterministic': False,\n",
            " 'fg_fraction': 0.25,\n",
            " 'global_scale': 0.8,\n",
            " 'init_weights': '/usr/local/lib/python3.10/dist-packages/deeplabcut/pose_estimation_tensorflow/models/pretrained/resnet_v1_50.ckpt',\n",
            " 'intermediate_supervision': False,\n",
            " 'intermediate_supervision_layer': 12,\n",
            " 'location_refinement': True,\n",
            " 'locref_huber_loss': True,\n",
            " 'locref_loss_weight': 1.0,\n",
            " 'locref_smooth': False,\n",
            " 'locref_stdev': 7.2801,\n",
            " 'log_dir': 'log',\n",
            " 'mean_pixel': [123.68, 116.779, 103.939],\n",
            " 'minconfidence': 0.01,\n",
            " 'mirror': False,\n",
            " 'multi_stage': True,\n",
            " 'net_type': 'resnet_50',\n",
            " 'nmsradius': 5.0,\n",
            " 'num_idchannel': 2,\n",
            " 'num_joints': 3,\n",
            " 'num_limbs': 3,\n",
            " 'optimizer': 'sgd',\n",
            " 'paf_best': [0, 2],\n",
            " 'pairwise_huber_loss': True,\n",
            " 'pairwise_predict': False,\n",
            " 'partaffinityfield_graph': [[0, 1], [0, 2], [1, 2]],\n",
            " 'partaffinityfield_predict': True,\n",
            " 'regularize': False,\n",
            " 'scoremap_dir': 'test',\n",
            " 'shuffle': True,\n",
            " 'sigma': 1,\n",
            " 'snapshot_prefix': '/content/DLC_demo_data/dlc-models/iteration-0/DLC_demoOct10-trainset95shuffle1/test/snapshot',\n",
            " 'stride': 8.0,\n",
            " 'weigh_negatives': False,\n",
            " 'weigh_only_present_joints': False,\n",
            " 'weigh_part_predictions': False,\n",
            " 'weight_decay': 0.0001}\n",
            "/usr/local/lib/python3.10/dist-packages/tensorflow/python/keras/engine/base_layer_v1.py:1694: UserWarning: `layer.apply` is deprecated and will be removed in a future version. Please use `layer.__call__` method instead.\n",
            "  warnings.warn('`layer.apply` is deprecated and '\n"
          ]
        },
        {
          "output_type": "stream",
          "name": "stdout",
          "text": [
            "Using snapshot-1000 for model /content/DLC_demo_data/dlc-models/iteration-0/DLC_demoOct10-trainset95shuffle1\n",
            "Activating extracting of PAFs\n",
            "Starting to analyze %  /content/DLC_demo_data/videos/BHVE_group1_097200-098999.mp4\n",
            "Loading  /content/DLC_demo_data/videos/BHVE_group1_097200-098999.mp4\n",
            "Duration of video [s]:  60.0 , recorded with  30.0 fps!\n",
            "Overall # of frames:  1800  found with (before cropping) frame dimensions:  720 900\n",
            "Starting to extract posture from the video(s) with batchsize: 8\n"
          ]
        },
        {
          "output_type": "stream",
          "name": "stderr",
          "text": [
            "100%|██████████| 1800/1800 [01:36<00:00, 18.57it/s]\n",
            "Config:\n",
            "{'all_joints': [[0], [1], [2]],\n",
            " 'all_joints_names': ['nose', 'dorsal_fin', 'peduncle'],\n",
            " 'batch_size': 1,\n",
            " 'crop_pad': 0,\n",
            " 'dataset': 'training-datasets/iteration-0/UnaugmentedDataSet_DLC_demoOct10/DLC_demo_Tucker95shuffle1.pickle',\n",
            " 'dataset_type': 'multi-animal-imgaug',\n",
            " 'deterministic': False,\n",
            " 'fg_fraction': 0.25,\n",
            " 'global_scale': 0.8,\n",
            " 'init_weights': '/usr/local/lib/python3.10/dist-packages/deeplabcut/pose_estimation_tensorflow/models/pretrained/resnet_v1_50.ckpt',\n",
            " 'intermediate_supervision': False,\n",
            " 'intermediate_supervision_layer': 12,\n",
            " 'location_refinement': True,\n",
            " 'locref_huber_loss': True,\n",
            " 'locref_loss_weight': 1.0,\n",
            " 'locref_smooth': False,\n",
            " 'locref_stdev': 7.2801,\n",
            " 'log_dir': 'log',\n",
            " 'mean_pixel': [123.68, 116.779, 103.939],\n",
            " 'minconfidence': 0.01,\n",
            " 'mirror': False,\n",
            " 'multi_stage': True,\n",
            " 'net_type': 'resnet_50',\n",
            " 'nmsradius': 5.0,\n",
            " 'num_idchannel': 2,\n",
            " 'num_joints': 3,\n",
            " 'num_limbs': 3,\n",
            " 'optimizer': 'sgd',\n",
            " 'paf_best': [0, 2],\n",
            " 'pairwise_huber_loss': True,\n",
            " 'pairwise_predict': False,\n",
            " 'partaffinityfield_graph': [[0, 1], [0, 2], [1, 2]],\n",
            " 'partaffinityfield_predict': True,\n",
            " 'regularize': False,\n",
            " 'scoremap_dir': 'test',\n",
            " 'shuffle': True,\n",
            " 'sigma': 1,\n",
            " 'snapshot_prefix': '/content/DLC_demo_data/dlc-models/iteration-0/DLC_demoOct10-trainset95shuffle1/test/snapshot',\n",
            " 'stride': 8.0,\n",
            " 'weigh_negatives': False,\n",
            " 'weigh_only_present_joints': False,\n",
            " 'weigh_part_predictions': False,\n",
            " 'weight_decay': 0.0001}\n"
          ]
        },
        {
          "output_type": "stream",
          "name": "stdout",
          "text": [
            "Video Analyzed. Saving results in /content/DLC_demo_data/videos...\n",
            "Using snapshot-1000 for model /content/DLC_demo_data/dlc-models/iteration-0/DLC_demoOct10-trainset95shuffle1\n",
            "Processing...  /content/DLC_demo_data/videos/BHVE_group1_097200-098999.mp4\n",
            "Analyzing /content/DLC_demo_data/videos/BHVE_group1_097200-098999DLC_dlcrnetms5_DLC_demoOct10shuffle1_1000.h5\n"
          ]
        },
        {
          "output_type": "stream",
          "name": "stderr",
          "text": [
            "100%|██████████| 1720/1720 [00:01<00:00, 959.72it/s] \n",
            "1720it [00:07, 229.73it/s] \n"
          ]
        },
        {
          "output_type": "stream",
          "name": "stdout",
          "text": [
            "The tracklets were created (i.e., under the hood deeplabcut.convert_detections2tracklets was run). Now you can 'refine_tracklets' in the GUI, or run 'deeplabcut.stitch_tracklets'.\n",
            "Processing...  /content/DLC_demo_data/videos/BHVE_group1_097200-098999.mp4\n"
          ]
        },
        {
          "output_type": "stream",
          "name": "stderr",
          "text": [
            "100%|██████████| 39/39 [00:00<00:00, 255.12it/s]\n"
          ]
        },
        {
          "output_type": "stream",
          "name": "stdout",
          "text": [
            "The videos are analyzed. Time to assemble animals and track 'em... \n",
            " Call 'create_video_with_all_detections' to check multi-animal detection quality before tracking.\n",
            "If the tracking is not satisfactory for some videos, consider expanding the training set. You can use the function 'extract_outlier_frames' to extract a few representative outlier frames.\n"
          ]
        },
        {
          "output_type": "execute_result",
          "data": {
            "text/plain": [
              "'DLC_dlcrnetms5_DLC_demoOct10shuffle1_1000'"
            ],
            "application/vnd.google.colaboratory.intrinsic+json": {
              "type": "string"
            }
          },
          "metadata": {},
          "execution_count": 8
        }
      ]
    },
    {
      "cell_type": "markdown",
      "source": [
        "Visualize the pose estimation and tracking results"
      ],
      "metadata": {
        "id": "ifCscXm92S16"
      }
    },
    {
      "cell_type": "code",
      "source": [
        "deeplabcut.create_labeled_video(\n",
        "    config_path,\n",
        "    [video_path],\n",
        "    videotype='mp4',\n",
        "    shuffle=1,\n",
        "    color_by=\"individual\",\n",
        ")"
      ],
      "metadata": {
        "colab": {
          "base_uri": "https://localhost:8080/"
        },
        "id": "HfltKi23FmU3",
        "outputId": "6a1e14b5-2e45-4afc-a0d8-37b78c75cbb0"
      },
      "execution_count": 9,
      "outputs": [
        {
          "output_type": "stream",
          "name": "stdout",
          "text": [
            "Starting to process video: /content/DLC_demo_data/videos/BHVE_group1_097200-098999.mp4\n",
            "Loading /content/DLC_demo_data/videos/BHVE_group1_097200-098999.mp4 and data.\n",
            "Duration of video [s]: 60.0, recorded with 30.0 fps!\n",
            "Overall # of frames: 1800 with cropped frame dimensions: 720 900\n",
            "Generating frames and creating video.\n"
          ]
        },
        {
          "output_type": "stream",
          "name": "stderr",
          "text": [
            "100%|██████████| 1800/1800 [00:11<00:00, 153.15it/s]\n"
          ]
        },
        {
          "output_type": "execute_result",
          "data": {
            "text/plain": [
              "[True]"
            ]
          },
          "metadata": {},
          "execution_count": 9
        }
      ]
    },
    {
      "cell_type": "markdown",
      "source": [
        "Plot trajectories"
      ],
      "metadata": {
        "id": "N3TbaWsx2Ztg"
      }
    },
    {
      "cell_type": "code",
      "source": [
        "deeplabcut.plot_trajectories(config_path, [video_path], shuffle=1 ,videotype='mp4')"
      ],
      "metadata": {
        "colab": {
          "base_uri": "https://localhost:8080/"
        },
        "id": "fnyw6OOIJ1RT",
        "outputId": "4c282b61-9c2e-4586-ccf9-0ec7e0439a47"
      },
      "execution_count": 10,
      "outputs": [
        {
          "output_type": "stream",
          "name": "stdout",
          "text": [
            "Loading  /content/DLC_demo_data/videos/BHVE_group1_097200-098999.mp4 and data.\n",
            "Plots created! Please check the directory \"plot-poses\" within the video directory\n"
          ]
        }
      ]
    },
    {
      "cell_type": "markdown",
      "source": [
        "Load and Examine the pose data"
      ],
      "metadata": {
        "id": "LOFUmgnv1qn6"
      }
    },
    {
      "cell_type": "code",
      "source": [
        "import pandas as pd\n",
        "df = pd.read_hdf('/content/DLC_demo_data/videos/BHVE_group1_097200-098999DLC_dlcrnetms5_DLC_demoOct10shuffle1_1000_el.h5')"
      ],
      "metadata": {
        "id": "gSqeCs7-G-vZ"
      },
      "execution_count": 11,
      "outputs": []
    },
    {
      "cell_type": "code",
      "source": [
        "df.head()"
      ],
      "metadata": {
        "colab": {
          "base_uri": "https://localhost:8080/",
          "height": 320
        },
        "id": "xKNXo7N2HZ49",
        "outputId": "3d05b08c-721a-4c44-8fff-440609bd6a79"
      },
      "execution_count": 12,
      "outputs": [
        {
          "output_type": "execute_result",
          "data": {
            "text/plain": [
              "scorer      DLC_dlcrnetms5_DLC_demoOct10shuffle1_1000                      \\\n",
              "individuals                                      male                       \n",
              "bodyparts                                        nose                       \n",
              "coords                                              x        y likelihood   \n",
              "0                                             195.605  260.064      0.997   \n",
              "1                                             200.955  249.883      0.996   \n",
              "2                                             205.179  243.137      0.999   \n",
              "3                                             212.453  242.841      0.999   \n",
              "4                                             217.968  237.346      0.998   \n",
              "\n",
              "scorer                                                                   \\\n",
              "individuals                                                               \n",
              "bodyparts   dorsal_fin                     peduncle                       \n",
              "coords               x        y likelihood        x        y likelihood   \n",
              "0              195.364  285.082      0.970  219.702  330.675      0.602   \n",
              "1              188.790  283.693      0.964  205.674  324.065      0.849   \n",
              "2              189.774  278.051      0.994  205.539  323.934      0.927   \n",
              "3              189.150  273.328      0.993  195.300  322.157      0.947   \n",
              "4              194.007  269.014      0.987  179.190  315.345      0.956   \n",
              "\n",
              "scorer                                                                   \\\n",
              "individuals   female                                                      \n",
              "bodyparts       nose                     dorsal_fin                       \n",
              "coords             x        y likelihood          x        y likelihood   \n",
              "0            267.241  307.638      0.985    260.689  278.068      0.965   \n",
              "1            265.937  307.608      0.992    261.871  279.495      0.984   \n",
              "2            265.666  307.712      0.993    261.488  280.102      0.988   \n",
              "3            265.481  308.002      0.991    261.206  279.649      0.986   \n",
              "4            265.052  308.290      0.987    261.184  278.222      0.966   \n",
              "\n",
              "scorer                                    \n",
              "individuals                               \n",
              "bodyparts   peduncle                      \n",
              "coords             x        y likelihood  \n",
              "0            260.790  212.002      0.477  \n",
              "1            260.459  211.426      0.602  \n",
              "2            268.135  212.187      0.537  \n",
              "3            260.569  212.038      0.673  \n",
              "4            260.320  211.912      0.849  "
            ],
            "text/html": [
              "\n",
              "  <div id=\"df-a56522fb-03f6-4e45-af60-632610ec7e39\" class=\"colab-df-container\">\n",
              "    <div>\n",
              "<style scoped>\n",
              "    .dataframe tbody tr th:only-of-type {\n",
              "        vertical-align: middle;\n",
              "    }\n",
              "\n",
              "    .dataframe tbody tr th {\n",
              "        vertical-align: top;\n",
              "    }\n",
              "\n",
              "    .dataframe thead tr th {\n",
              "        text-align: left;\n",
              "    }\n",
              "</style>\n",
              "<table border=\"1\" class=\"dataframe\">\n",
              "  <thead>\n",
              "    <tr>\n",
              "      <th>scorer</th>\n",
              "      <th colspan=\"18\" halign=\"left\">DLC_dlcrnetms5_DLC_demoOct10shuffle1_1000</th>\n",
              "    </tr>\n",
              "    <tr>\n",
              "      <th>individuals</th>\n",
              "      <th colspan=\"9\" halign=\"left\">male</th>\n",
              "      <th colspan=\"9\" halign=\"left\">female</th>\n",
              "    </tr>\n",
              "    <tr>\n",
              "      <th>bodyparts</th>\n",
              "      <th colspan=\"3\" halign=\"left\">nose</th>\n",
              "      <th colspan=\"3\" halign=\"left\">dorsal_fin</th>\n",
              "      <th colspan=\"3\" halign=\"left\">peduncle</th>\n",
              "      <th colspan=\"3\" halign=\"left\">nose</th>\n",
              "      <th colspan=\"3\" halign=\"left\">dorsal_fin</th>\n",
              "      <th colspan=\"3\" halign=\"left\">peduncle</th>\n",
              "    </tr>\n",
              "    <tr>\n",
              "      <th>coords</th>\n",
              "      <th>x</th>\n",
              "      <th>y</th>\n",
              "      <th>likelihood</th>\n",
              "      <th>x</th>\n",
              "      <th>y</th>\n",
              "      <th>likelihood</th>\n",
              "      <th>x</th>\n",
              "      <th>y</th>\n",
              "      <th>likelihood</th>\n",
              "      <th>x</th>\n",
              "      <th>y</th>\n",
              "      <th>likelihood</th>\n",
              "      <th>x</th>\n",
              "      <th>y</th>\n",
              "      <th>likelihood</th>\n",
              "      <th>x</th>\n",
              "      <th>y</th>\n",
              "      <th>likelihood</th>\n",
              "    </tr>\n",
              "  </thead>\n",
              "  <tbody>\n",
              "    <tr>\n",
              "      <th>0</th>\n",
              "      <td>195.605</td>\n",
              "      <td>260.064</td>\n",
              "      <td>0.997</td>\n",
              "      <td>195.364</td>\n",
              "      <td>285.082</td>\n",
              "      <td>0.970</td>\n",
              "      <td>219.702</td>\n",
              "      <td>330.675</td>\n",
              "      <td>0.602</td>\n",
              "      <td>267.241</td>\n",
              "      <td>307.638</td>\n",
              "      <td>0.985</td>\n",
              "      <td>260.689</td>\n",
              "      <td>278.068</td>\n",
              "      <td>0.965</td>\n",
              "      <td>260.790</td>\n",
              "      <td>212.002</td>\n",
              "      <td>0.477</td>\n",
              "    </tr>\n",
              "    <tr>\n",
              "      <th>1</th>\n",
              "      <td>200.955</td>\n",
              "      <td>249.883</td>\n",
              "      <td>0.996</td>\n",
              "      <td>188.790</td>\n",
              "      <td>283.693</td>\n",
              "      <td>0.964</td>\n",
              "      <td>205.674</td>\n",
              "      <td>324.065</td>\n",
              "      <td>0.849</td>\n",
              "      <td>265.937</td>\n",
              "      <td>307.608</td>\n",
              "      <td>0.992</td>\n",
              "      <td>261.871</td>\n",
              "      <td>279.495</td>\n",
              "      <td>0.984</td>\n",
              "      <td>260.459</td>\n",
              "      <td>211.426</td>\n",
              "      <td>0.602</td>\n",
              "    </tr>\n",
              "    <tr>\n",
              "      <th>2</th>\n",
              "      <td>205.179</td>\n",
              "      <td>243.137</td>\n",
              "      <td>0.999</td>\n",
              "      <td>189.774</td>\n",
              "      <td>278.051</td>\n",
              "      <td>0.994</td>\n",
              "      <td>205.539</td>\n",
              "      <td>323.934</td>\n",
              "      <td>0.927</td>\n",
              "      <td>265.666</td>\n",
              "      <td>307.712</td>\n",
              "      <td>0.993</td>\n",
              "      <td>261.488</td>\n",
              "      <td>280.102</td>\n",
              "      <td>0.988</td>\n",
              "      <td>268.135</td>\n",
              "      <td>212.187</td>\n",
              "      <td>0.537</td>\n",
              "    </tr>\n",
              "    <tr>\n",
              "      <th>3</th>\n",
              "      <td>212.453</td>\n",
              "      <td>242.841</td>\n",
              "      <td>0.999</td>\n",
              "      <td>189.150</td>\n",
              "      <td>273.328</td>\n",
              "      <td>0.993</td>\n",
              "      <td>195.300</td>\n",
              "      <td>322.157</td>\n",
              "      <td>0.947</td>\n",
              "      <td>265.481</td>\n",
              "      <td>308.002</td>\n",
              "      <td>0.991</td>\n",
              "      <td>261.206</td>\n",
              "      <td>279.649</td>\n",
              "      <td>0.986</td>\n",
              "      <td>260.569</td>\n",
              "      <td>212.038</td>\n",
              "      <td>0.673</td>\n",
              "    </tr>\n",
              "    <tr>\n",
              "      <th>4</th>\n",
              "      <td>217.968</td>\n",
              "      <td>237.346</td>\n",
              "      <td>0.998</td>\n",
              "      <td>194.007</td>\n",
              "      <td>269.014</td>\n",
              "      <td>0.987</td>\n",
              "      <td>179.190</td>\n",
              "      <td>315.345</td>\n",
              "      <td>0.956</td>\n",
              "      <td>265.052</td>\n",
              "      <td>308.290</td>\n",
              "      <td>0.987</td>\n",
              "      <td>261.184</td>\n",
              "      <td>278.222</td>\n",
              "      <td>0.966</td>\n",
              "      <td>260.320</td>\n",
              "      <td>211.912</td>\n",
              "      <td>0.849</td>\n",
              "    </tr>\n",
              "  </tbody>\n",
              "</table>\n",
              "</div>\n",
              "    <div class=\"colab-df-buttons\">\n",
              "\n",
              "  <div class=\"colab-df-container\">\n",
              "    <button class=\"colab-df-convert\" onclick=\"convertToInteractive('df-a56522fb-03f6-4e45-af60-632610ec7e39')\"\n",
              "            title=\"Convert this dataframe to an interactive table.\"\n",
              "            style=\"display:none;\">\n",
              "\n",
              "  <svg xmlns=\"http://www.w3.org/2000/svg\" height=\"24px\" viewBox=\"0 -960 960 960\">\n",
              "    <path d=\"M120-120v-720h720v720H120Zm60-500h600v-160H180v160Zm220 220h160v-160H400v160Zm0 220h160v-160H400v160ZM180-400h160v-160H180v160Zm440 0h160v-160H620v160ZM180-180h160v-160H180v160Zm440 0h160v-160H620v160Z\"/>\n",
              "  </svg>\n",
              "    </button>\n",
              "\n",
              "  <style>\n",
              "    .colab-df-container {\n",
              "      display:flex;\n",
              "      gap: 12px;\n",
              "    }\n",
              "\n",
              "    .colab-df-convert {\n",
              "      background-color: #E8F0FE;\n",
              "      border: none;\n",
              "      border-radius: 50%;\n",
              "      cursor: pointer;\n",
              "      display: none;\n",
              "      fill: #1967D2;\n",
              "      height: 32px;\n",
              "      padding: 0 0 0 0;\n",
              "      width: 32px;\n",
              "    }\n",
              "\n",
              "    .colab-df-convert:hover {\n",
              "      background-color: #E2EBFA;\n",
              "      box-shadow: 0px 1px 2px rgba(60, 64, 67, 0.3), 0px 1px 3px 1px rgba(60, 64, 67, 0.15);\n",
              "      fill: #174EA6;\n",
              "    }\n",
              "\n",
              "    .colab-df-buttons div {\n",
              "      margin-bottom: 4px;\n",
              "    }\n",
              "\n",
              "    [theme=dark] .colab-df-convert {\n",
              "      background-color: #3B4455;\n",
              "      fill: #D2E3FC;\n",
              "    }\n",
              "\n",
              "    [theme=dark] .colab-df-convert:hover {\n",
              "      background-color: #434B5C;\n",
              "      box-shadow: 0px 1px 3px 1px rgba(0, 0, 0, 0.15);\n",
              "      filter: drop-shadow(0px 1px 2px rgba(0, 0, 0, 0.3));\n",
              "      fill: #FFFFFF;\n",
              "    }\n",
              "  </style>\n",
              "\n",
              "    <script>\n",
              "      const buttonEl =\n",
              "        document.querySelector('#df-a56522fb-03f6-4e45-af60-632610ec7e39 button.colab-df-convert');\n",
              "      buttonEl.style.display =\n",
              "        google.colab.kernel.accessAllowed ? 'block' : 'none';\n",
              "\n",
              "      async function convertToInteractive(key) {\n",
              "        const element = document.querySelector('#df-a56522fb-03f6-4e45-af60-632610ec7e39');\n",
              "        const dataTable =\n",
              "          await google.colab.kernel.invokeFunction('convertToInteractive',\n",
              "                                                    [key], {});\n",
              "        if (!dataTable) return;\n",
              "\n",
              "        const docLinkHtml = 'Like what you see? Visit the ' +\n",
              "          '<a target=\"_blank\" href=https://colab.research.google.com/notebooks/data_table.ipynb>data table notebook</a>'\n",
              "          + ' to learn more about interactive tables.';\n",
              "        element.innerHTML = '';\n",
              "        dataTable['output_type'] = 'display_data';\n",
              "        await google.colab.output.renderOutput(dataTable, element);\n",
              "        const docLink = document.createElement('div');\n",
              "        docLink.innerHTML = docLinkHtml;\n",
              "        element.appendChild(docLink);\n",
              "      }\n",
              "    </script>\n",
              "  </div>\n",
              "\n",
              "\n",
              "<div id=\"df-3f88eab8-a457-4ba3-a1f3-b1b4b96dd0a4\">\n",
              "  <button class=\"colab-df-quickchart\" onclick=\"quickchart('df-3f88eab8-a457-4ba3-a1f3-b1b4b96dd0a4')\"\n",
              "            title=\"Suggest charts\"\n",
              "            style=\"display:none;\">\n",
              "\n",
              "<svg xmlns=\"http://www.w3.org/2000/svg\" height=\"24px\"viewBox=\"0 0 24 24\"\n",
              "     width=\"24px\">\n",
              "    <g>\n",
              "        <path d=\"M19 3H5c-1.1 0-2 .9-2 2v14c0 1.1.9 2 2 2h14c1.1 0 2-.9 2-2V5c0-1.1-.9-2-2-2zM9 17H7v-7h2v7zm4 0h-2V7h2v10zm4 0h-2v-4h2v4z\"/>\n",
              "    </g>\n",
              "</svg>\n",
              "  </button>\n",
              "\n",
              "<style>\n",
              "  .colab-df-quickchart {\n",
              "      --bg-color: #E8F0FE;\n",
              "      --fill-color: #1967D2;\n",
              "      --hover-bg-color: #E2EBFA;\n",
              "      --hover-fill-color: #174EA6;\n",
              "      --disabled-fill-color: #AAA;\n",
              "      --disabled-bg-color: #DDD;\n",
              "  }\n",
              "\n",
              "  [theme=dark] .colab-df-quickchart {\n",
              "      --bg-color: #3B4455;\n",
              "      --fill-color: #D2E3FC;\n",
              "      --hover-bg-color: #434B5C;\n",
              "      --hover-fill-color: #FFFFFF;\n",
              "      --disabled-bg-color: #3B4455;\n",
              "      --disabled-fill-color: #666;\n",
              "  }\n",
              "\n",
              "  .colab-df-quickchart {\n",
              "    background-color: var(--bg-color);\n",
              "    border: none;\n",
              "    border-radius: 50%;\n",
              "    cursor: pointer;\n",
              "    display: none;\n",
              "    fill: var(--fill-color);\n",
              "    height: 32px;\n",
              "    padding: 0;\n",
              "    width: 32px;\n",
              "  }\n",
              "\n",
              "  .colab-df-quickchart:hover {\n",
              "    background-color: var(--hover-bg-color);\n",
              "    box-shadow: 0 1px 2px rgba(60, 64, 67, 0.3), 0 1px 3px 1px rgba(60, 64, 67, 0.15);\n",
              "    fill: var(--button-hover-fill-color);\n",
              "  }\n",
              "\n",
              "  .colab-df-quickchart-complete:disabled,\n",
              "  .colab-df-quickchart-complete:disabled:hover {\n",
              "    background-color: var(--disabled-bg-color);\n",
              "    fill: var(--disabled-fill-color);\n",
              "    box-shadow: none;\n",
              "  }\n",
              "\n",
              "  .colab-df-spinner {\n",
              "    border: 2px solid var(--fill-color);\n",
              "    border-color: transparent;\n",
              "    border-bottom-color: var(--fill-color);\n",
              "    animation:\n",
              "      spin 1s steps(1) infinite;\n",
              "  }\n",
              "\n",
              "  @keyframes spin {\n",
              "    0% {\n",
              "      border-color: transparent;\n",
              "      border-bottom-color: var(--fill-color);\n",
              "      border-left-color: var(--fill-color);\n",
              "    }\n",
              "    20% {\n",
              "      border-color: transparent;\n",
              "      border-left-color: var(--fill-color);\n",
              "      border-top-color: var(--fill-color);\n",
              "    }\n",
              "    30% {\n",
              "      border-color: transparent;\n",
              "      border-left-color: var(--fill-color);\n",
              "      border-top-color: var(--fill-color);\n",
              "      border-right-color: var(--fill-color);\n",
              "    }\n",
              "    40% {\n",
              "      border-color: transparent;\n",
              "      border-right-color: var(--fill-color);\n",
              "      border-top-color: var(--fill-color);\n",
              "    }\n",
              "    60% {\n",
              "      border-color: transparent;\n",
              "      border-right-color: var(--fill-color);\n",
              "    }\n",
              "    80% {\n",
              "      border-color: transparent;\n",
              "      border-right-color: var(--fill-color);\n",
              "      border-bottom-color: var(--fill-color);\n",
              "    }\n",
              "    90% {\n",
              "      border-color: transparent;\n",
              "      border-bottom-color: var(--fill-color);\n",
              "    }\n",
              "  }\n",
              "</style>\n",
              "\n",
              "  <script>\n",
              "    async function quickchart(key) {\n",
              "      const quickchartButtonEl =\n",
              "        document.querySelector('#' + key + ' button');\n",
              "      quickchartButtonEl.disabled = true;  // To prevent multiple clicks.\n",
              "      quickchartButtonEl.classList.add('colab-df-spinner');\n",
              "      try {\n",
              "        const charts = await google.colab.kernel.invokeFunction(\n",
              "            'suggestCharts', [key], {});\n",
              "      } catch (error) {\n",
              "        console.error('Error during call to suggestCharts:', error);\n",
              "      }\n",
              "      quickchartButtonEl.classList.remove('colab-df-spinner');\n",
              "      quickchartButtonEl.classList.add('colab-df-quickchart-complete');\n",
              "    }\n",
              "    (() => {\n",
              "      let quickchartButtonEl =\n",
              "        document.querySelector('#df-3f88eab8-a457-4ba3-a1f3-b1b4b96dd0a4 button');\n",
              "      quickchartButtonEl.style.display =\n",
              "        google.colab.kernel.accessAllowed ? 'block' : 'none';\n",
              "    })();\n",
              "  </script>\n",
              "</div>\n",
              "\n",
              "    </div>\n",
              "  </div>\n"
            ],
            "application/vnd.google.colaboratory.intrinsic+json": {
              "type": "dataframe",
              "variable_name": "df",
              "summary": "{\n  \"name\": \"df\",\n  \"rows\": 1800,\n  \"fields\": [\n    {\n      \"column\": [\n        \"DLC_dlcrnetms5_DLC_demoOct10shuffle1_1000\",\n        \"male\",\n        \"nose\",\n        \"x\"\n      ],\n      \"properties\": {\n        \"dtype\": \"number\",\n        \"std\": 95.72355107005703,\n        \"min\": 84.975,\n        \"max\": 695.137,\n        \"num_unique_values\": 1165,\n        \"samples\": [\n          202.851,\n          300.241,\n          204.636\n        ],\n        \"semantic_type\": \"\",\n        \"description\": \"\"\n      }\n    },\n    {\n      \"column\": [\n        \"DLC_dlcrnetms5_DLC_demoOct10shuffle1_1000\",\n        \"male\",\n        \"nose\",\n        \"y\"\n      ],\n      \"properties\": {\n        \"dtype\": \"number\",\n        \"std\": 155.02026528395857,\n        \"min\": 51.623,\n        \"max\": 907.424,\n        \"num_unique_values\": 1172,\n        \"samples\": [\n          309.247,\n          289.729,\n          242.594\n        ],\n        \"semantic_type\": \"\",\n        \"description\": \"\"\n      }\n    },\n    {\n      \"column\": [\n        \"DLC_dlcrnetms5_DLC_demoOct10shuffle1_1000\",\n        \"male\",\n        \"nose\",\n        \"likelihood\"\n      ],\n      \"properties\": {\n        \"dtype\": \"number\",\n        \"std\": 0.1011372733336323,\n        \"min\": 0.11100000143051147,\n        \"max\": 1.0,\n        \"num_unique_values\": 152,\n        \"samples\": [\n          0.902999997138977,\n          0.7910000085830688,\n          0.9319999814033508\n        ],\n        \"semantic_type\": \"\",\n        \"description\": \"\"\n      }\n    },\n    {\n      \"column\": [\n        \"DLC_dlcrnetms5_DLC_demoOct10shuffle1_1000\",\n        \"male\",\n        \"dorsal_fin\",\n        \"x\"\n      ],\n      \"properties\": {\n        \"dtype\": \"number\",\n        \"std\": 95.21272754832074,\n        \"min\": 59.847,\n        \"max\": 692.735,\n        \"num_unique_values\": 1171,\n        \"samples\": [\n          291.459,\n          193.97,\n          264.557\n        ],\n        \"semantic_type\": \"\",\n        \"description\": \"\"\n      }\n    },\n    {\n      \"column\": [\n        \"DLC_dlcrnetms5_DLC_demoOct10shuffle1_1000\",\n        \"male\",\n        \"dorsal_fin\",\n        \"y\"\n      ],\n      \"properties\": {\n        \"dtype\": \"number\",\n        \"std\": 149.67108925777325,\n        \"min\": 51.959,\n        \"max\": 900.343,\n        \"num_unique_values\": 1165,\n        \"samples\": [\n          404.041,\n          294.511,\n          297.972\n        ],\n        \"semantic_type\": \"\",\n        \"description\": \"\"\n      }\n    },\n    {\n      \"column\": [\n        \"DLC_dlcrnetms5_DLC_demoOct10shuffle1_1000\",\n        \"male\",\n        \"dorsal_fin\",\n        \"likelihood\"\n      ],\n      \"properties\": {\n        \"dtype\": \"number\",\n        \"std\": 0.12322975229575135,\n        \"min\": 0.15600000321865082,\n        \"max\": 0.9990000128746033,\n        \"num_unique_values\": 234,\n        \"samples\": [\n          0.8989999890327454,\n          0.16599999368190765,\n          0.8629999756813049\n        ],\n        \"semantic_type\": \"\",\n        \"description\": \"\"\n      }\n    },\n    {\n      \"column\": [\n        \"DLC_dlcrnetms5_DLC_demoOct10shuffle1_1000\",\n        \"male\",\n        \"peduncle\",\n        \"x\"\n      ],\n      \"properties\": {\n        \"dtype\": \"number\",\n        \"std\": 97.83336343523455,\n        \"min\": 11.948,\n        \"max\": 667.147,\n        \"num_unique_values\": 1167,\n        \"samples\": [\n          275.796,\n          316.682,\n          154.59\n        ],\n        \"semantic_type\": \"\",\n        \"description\": \"\"\n      }\n    },\n    {\n      \"column\": [\n        \"DLC_dlcrnetms5_DLC_demoOct10shuffle1_1000\",\n        \"male\",\n        \"peduncle\",\n        \"y\"\n      ],\n      \"properties\": {\n        \"dtype\": \"number\",\n        \"std\": 147.85577110219688,\n        \"min\": 37.639,\n        \"max\": 900.539,\n        \"num_unique_values\": 1165,\n        \"samples\": [\n          381.894,\n          245.21,\n          364.805\n        ],\n        \"semantic_type\": \"\",\n        \"description\": \"\"\n      }\n    },\n    {\n      \"column\": [\n        \"DLC_dlcrnetms5_DLC_demoOct10shuffle1_1000\",\n        \"male\",\n        \"peduncle\",\n        \"likelihood\"\n      ],\n      \"properties\": {\n        \"dtype\": \"number\",\n        \"std\": 0.19545045775532233,\n        \"min\": 0.10000000149011612,\n        \"max\": 1.0,\n        \"num_unique_values\": 341,\n        \"samples\": [\n          0.17000000178813934,\n          0.878000020980835,\n          0.8840000033378601\n        ],\n        \"semantic_type\": \"\",\n        \"description\": \"\"\n      }\n    },\n    {\n      \"column\": [\n        \"DLC_dlcrnetms5_DLC_demoOct10shuffle1_1000\",\n        \"female\",\n        \"nose\",\n        \"x\"\n      ],\n      \"properties\": {\n        \"dtype\": \"number\",\n        \"std\": 65.44350975468511,\n        \"min\": 34.731,\n        \"max\": 647.289,\n        \"num_unique_values\": 1007,\n        \"samples\": [\n          246.85,\n          248.449,\n          253.077\n        ],\n        \"semantic_type\": \"\",\n        \"description\": \"\"\n      }\n    },\n    {\n      \"column\": [\n        \"DLC_dlcrnetms5_DLC_demoOct10shuffle1_1000\",\n        \"female\",\n        \"nose\",\n        \"y\"\n      ],\n      \"properties\": {\n        \"dtype\": \"number\",\n        \"std\": 61.5804750466277,\n        \"min\": 28.211,\n        \"max\": 548.327,\n        \"num_unique_values\": 1008,\n        \"samples\": [\n          259.293,\n          330.491,\n          253.216\n        ],\n        \"semantic_type\": \"\",\n        \"description\": \"\"\n      }\n    },\n    {\n      \"column\": [\n        \"DLC_dlcrnetms5_DLC_demoOct10shuffle1_1000\",\n        \"female\",\n        \"nose\",\n        \"likelihood\"\n      ],\n      \"properties\": {\n        \"dtype\": \"number\",\n        \"std\": 0.09098650145897666,\n        \"min\": 0.14000000059604645,\n        \"max\": 1.0,\n        \"num_unique_values\": 124,\n        \"samples\": [\n          0.972000002861023,\n          0.9639999866485596,\n          0.9819999933242798\n        ],\n        \"semantic_type\": \"\",\n        \"description\": \"\"\n      }\n    },\n    {\n      \"column\": [\n        \"DLC_dlcrnetms5_DLC_demoOct10shuffle1_1000\",\n        \"female\",\n        \"dorsal_fin\",\n        \"x\"\n      ],\n      \"properties\": {\n        \"dtype\": \"number\",\n        \"std\": 63.349710291178695,\n        \"min\": 13.702,\n        \"max\": 652.885,\n        \"num_unique_values\": 1004,\n        \"samples\": [\n          226.961,\n          260.495,\n          247.041\n        ],\n        \"semantic_type\": \"\",\n        \"description\": \"\"\n      }\n    },\n    {\n      \"column\": [\n        \"DLC_dlcrnetms5_DLC_demoOct10shuffle1_1000\",\n        \"female\",\n        \"dorsal_fin\",\n        \"y\"\n      ],\n      \"properties\": {\n        \"dtype\": \"number\",\n        \"std\": 55.125343019408795,\n        \"min\": 45.026,\n        \"max\": 545.491,\n        \"num_unique_values\": 1006,\n        \"samples\": [\n          253.815,\n          322.74,\n          276.133\n        ],\n        \"semantic_type\": \"\",\n        \"description\": \"\"\n      }\n    },\n    {\n      \"column\": [\n        \"DLC_dlcrnetms5_DLC_demoOct10shuffle1_1000\",\n        \"female\",\n        \"dorsal_fin\",\n        \"likelihood\"\n      ],\n      \"properties\": {\n        \"dtype\": \"number\",\n        \"std\": 0.11757642668645359,\n        \"min\": 0.10999999940395355,\n        \"max\": 0.9980000257492065,\n        \"num_unique_values\": 169,\n        \"samples\": [\n          0.18799999356269836,\n          0.9589999914169312,\n          0.4569999873638153\n        ],\n        \"semantic_type\": \"\",\n        \"description\": \"\"\n      }\n    },\n    {\n      \"column\": [\n        \"DLC_dlcrnetms5_DLC_demoOct10shuffle1_1000\",\n        \"female\",\n        \"peduncle\",\n        \"x\"\n      ],\n      \"properties\": {\n        \"dtype\": \"number\",\n        \"std\": 77.64501414801676,\n        \"min\": 12.301,\n        \"max\": 667.364,\n        \"num_unique_values\": 1005,\n        \"samples\": [\n          178.788,\n          315.448,\n          227.309\n        ],\n        \"semantic_type\": \"\",\n        \"description\": \"\"\n      }\n    },\n    {\n      \"column\": [\n        \"DLC_dlcrnetms5_DLC_demoOct10shuffle1_1000\",\n        \"female\",\n        \"peduncle\",\n        \"y\"\n      ],\n      \"properties\": {\n        \"dtype\": \"number\",\n        \"std\": 69.66495360107989,\n        \"min\": 36.882,\n        \"max\": 612.369,\n        \"num_unique_values\": 1011,\n        \"samples\": [\n          276.208,\n          285.009,\n          341.959\n        ],\n        \"semantic_type\": \"\",\n        \"description\": \"\"\n      }\n    },\n    {\n      \"column\": [\n        \"DLC_dlcrnetms5_DLC_demoOct10shuffle1_1000\",\n        \"female\",\n        \"peduncle\",\n        \"likelihood\"\n      ],\n      \"properties\": {\n        \"dtype\": \"number\",\n        \"std\": 0.198239767745367,\n        \"min\": 0.10199999809265137,\n        \"max\": 0.9990000128746033,\n        \"num_unique_values\": 327,\n        \"samples\": [\n          0.6859999895095825,\n          0.5149999856948853,\n          0.9150000214576721\n        ],\n        \"semantic_type\": \"\",\n        \"description\": \"\"\n      }\n    }\n  ]\n}"
            }
          },
          "metadata": {},
          "execution_count": 12
        }
      ]
    },
    {
      "cell_type": "code",
      "source": [
        "idx = pd.IndexSlice\n",
        "dists = []\n",
        "for id1, id2  in [['male', 'female'], ['female', 'male']]:\n",
        "  deltas = df.loc[:, idx[:, id1, 'nose', :]].values - df.loc[:, idx[:, id2, 'peduncle', :]].values\n",
        "  dists.append(np.hypot(deltas[:, 0], deltas[:, 1]))\n",
        "dists = pd.DataFrame(dists).T"
      ],
      "metadata": {
        "id": "l2X-EY-BNJzw"
      },
      "execution_count": 13,
      "outputs": []
    },
    {
      "cell_type": "code",
      "source": [
        "sns.lineplot(dists)"
      ],
      "metadata": {
        "colab": {
          "base_uri": "https://localhost:8080/",
          "height": 448
        },
        "id": "awrMTxyF5x5b",
        "outputId": "12a28b48-cf6f-4894-b6dd-05234ea70e21"
      },
      "execution_count": 14,
      "outputs": [
        {
          "output_type": "execute_result",
          "data": {
            "text/plain": [
              "<Axes: >"
            ]
          },
          "metadata": {},
          "execution_count": 14
        },
        {
          "output_type": "display_data",
          "data": {
            "text/plain": [
              "<Figure size 640x480 with 1 Axes>"
            ],
            "image/png": "[encoded data removed]"
          },
          "metadata": {}
        }
      ]
    },
    {
      "cell_type": "code",
      "source": [],
      "metadata": {
        "id": "E3DjlFOOydFQ"
      },
      "execution_count": null,
      "outputs": []
    }
  ]
}